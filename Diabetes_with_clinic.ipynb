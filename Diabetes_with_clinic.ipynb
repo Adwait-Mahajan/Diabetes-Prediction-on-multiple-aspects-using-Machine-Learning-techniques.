{
  "nbformat": 4,
  "nbformat_minor": 0,
  "metadata": {
    "colab": {
      "provenance": []
    },
    "kernelspec": {
      "name": "python3",
      "display_name": "Python 3"
    },
    "language_info": {
      "name": "python"
    }
  },
  "cells": [
    {
      "cell_type": "code",
      "metadata": {
        "id": "kgMIjHYKcNTy"
      },
      "source": [
        "import numpy as np\n",
        "import pandas as pd\n",
        "import seaborn as sns\n",
        "import matplotlib.pyplot as plt\n",
        "%matplotlib inline"
      ],
      "execution_count": null,
      "outputs": []
    },
    {
      "cell_type": "code",
      "metadata": {
        "id": "Qvm3mvHneqOt"
      },
      "source": [
        "df = pd.read_csv('/content/drive/MyDrive/Bad_dataset.csv')"
      ],
      "execution_count": null,
      "outputs": []
    },
    {
      "cell_type": "code",
      "metadata": {
        "colab": {
          "base_uri": "https://localhost:8080/",
          "height": 204
        },
        "id": "okedFcT3eymQ",
        "outputId": "f6ef0693-2cdf-41f4-badb-d1629f3ef631"
      },
      "source": [
        "df.head()"
      ],
      "execution_count": null,
      "outputs": [
        {
          "output_type": "execute_result",
          "data": {
            "text/html": [
              "<div>\n",
              "<style scoped>\n",
              "    .dataframe tbody tr th:only-of-type {\n",
              "        vertical-align: middle;\n",
              "    }\n",
              "\n",
              "    .dataframe tbody tr th {\n",
              "        vertical-align: top;\n",
              "    }\n",
              "\n",
              "    .dataframe thead th {\n",
              "        text-align: right;\n",
              "    }\n",
              "</style>\n",
              "<table border=\"1\" class=\"dataframe\">\n",
              "  <thead>\n",
              "    <tr style=\"text-align: right;\">\n",
              "      <th></th>\n",
              "      <th>ID</th>\n",
              "      <th>No_Pation</th>\n",
              "      <th>Gender</th>\n",
              "      <th>AGE</th>\n",
              "      <th>Urea</th>\n",
              "      <th>Cr</th>\n",
              "      <th>HbA1c</th>\n",
              "      <th>Chol</th>\n",
              "      <th>TG</th>\n",
              "      <th>HDL</th>\n",
              "      <th>LDL</th>\n",
              "      <th>VLDL</th>\n",
              "      <th>BMI</th>\n",
              "      <th>CLASS</th>\n",
              "    </tr>\n",
              "  </thead>\n",
              "  <tbody>\n",
              "    <tr>\n",
              "      <th>0</th>\n",
              "      <td>502</td>\n",
              "      <td>17975</td>\n",
              "      <td>F</td>\n",
              "      <td>50</td>\n",
              "      <td>4.7</td>\n",
              "      <td>46</td>\n",
              "      <td>4.9</td>\n",
              "      <td>4.2</td>\n",
              "      <td>0.9</td>\n",
              "      <td>2.4</td>\n",
              "      <td>1.4</td>\n",
              "      <td>0.5</td>\n",
              "      <td>24.0</td>\n",
              "      <td>N</td>\n",
              "    </tr>\n",
              "    <tr>\n",
              "      <th>1</th>\n",
              "      <td>735</td>\n",
              "      <td>34221</td>\n",
              "      <td>M</td>\n",
              "      <td>26</td>\n",
              "      <td>4.5</td>\n",
              "      <td>62</td>\n",
              "      <td>4.9</td>\n",
              "      <td>3.7</td>\n",
              "      <td>1.4</td>\n",
              "      <td>1.1</td>\n",
              "      <td>2.1</td>\n",
              "      <td>0.6</td>\n",
              "      <td>23.0</td>\n",
              "      <td>N</td>\n",
              "    </tr>\n",
              "    <tr>\n",
              "      <th>2</th>\n",
              "      <td>420</td>\n",
              "      <td>47975</td>\n",
              "      <td>F</td>\n",
              "      <td>50</td>\n",
              "      <td>4.7</td>\n",
              "      <td>46</td>\n",
              "      <td>4.9</td>\n",
              "      <td>4.2</td>\n",
              "      <td>0.9</td>\n",
              "      <td>2.4</td>\n",
              "      <td>1.4</td>\n",
              "      <td>0.5</td>\n",
              "      <td>24.0</td>\n",
              "      <td>N</td>\n",
              "    </tr>\n",
              "    <tr>\n",
              "      <th>3</th>\n",
              "      <td>680</td>\n",
              "      <td>87656</td>\n",
              "      <td>F</td>\n",
              "      <td>50</td>\n",
              "      <td>4.7</td>\n",
              "      <td>46</td>\n",
              "      <td>4.9</td>\n",
              "      <td>4.2</td>\n",
              "      <td>0.9</td>\n",
              "      <td>2.4</td>\n",
              "      <td>1.4</td>\n",
              "      <td>0.5</td>\n",
              "      <td>24.0</td>\n",
              "      <td>N</td>\n",
              "    </tr>\n",
              "    <tr>\n",
              "      <th>4</th>\n",
              "      <td>504</td>\n",
              "      <td>34223</td>\n",
              "      <td>M</td>\n",
              "      <td>33</td>\n",
              "      <td>7.1</td>\n",
              "      <td>46</td>\n",
              "      <td>4.9</td>\n",
              "      <td>4.9</td>\n",
              "      <td>1.0</td>\n",
              "      <td>0.8</td>\n",
              "      <td>2.0</td>\n",
              "      <td>0.4</td>\n",
              "      <td>21.0</td>\n",
              "      <td>N</td>\n",
              "    </tr>\n",
              "  </tbody>\n",
              "</table>\n",
              "</div>"
            ],
            "text/plain": [
              "    ID  No_Pation Gender  AGE  Urea  Cr  ...   TG  HDL  LDL  VLDL   BMI  CLASS\n",
              "0  502      17975      F   50   4.7  46  ...  0.9  2.4  1.4   0.5  24.0      N\n",
              "1  735      34221      M   26   4.5  62  ...  1.4  1.1  2.1   0.6  23.0      N\n",
              "2  420      47975      F   50   4.7  46  ...  0.9  2.4  1.4   0.5  24.0      N\n",
              "3  680      87656      F   50   4.7  46  ...  0.9  2.4  1.4   0.5  24.0      N\n",
              "4  504      34223      M   33   7.1  46  ...  1.0  0.8  2.0   0.4  21.0      N\n",
              "\n",
              "[5 rows x 14 columns]"
            ]
          },
          "metadata": {},
          "execution_count": 94
        }
      ]
    },
    {
      "cell_type": "code",
      "metadata": {
        "colab": {
          "base_uri": "https://localhost:8080/"
        },
        "id": "s6HZzDJqezbE",
        "outputId": "b0b8a6ab-eaf5-4bed-a3d7-81cb62d29622"
      },
      "source": [
        "df.isnull().sum()"
      ],
      "execution_count": null,
      "outputs": [
        {
          "output_type": "execute_result",
          "data": {
            "text/plain": [
              "ID           0\n",
              "No_Pation    0\n",
              "Gender       0\n",
              "AGE          0\n",
              "Urea         0\n",
              "Cr           0\n",
              "HbA1c        0\n",
              "Chol         0\n",
              "TG           0\n",
              "HDL          0\n",
              "LDL          0\n",
              "VLDL         0\n",
              "BMI          0\n",
              "CLASS        0\n",
              "dtype: int64"
            ]
          },
          "metadata": {},
          "execution_count": 95
        }
      ]
    },
    {
      "cell_type": "code",
      "metadata": {
        "id": "tEjrooVNe2K2"
      },
      "source": [
        "df.drop(columns=['ID','No_Pation'], inplace=True)"
      ],
      "execution_count": null,
      "outputs": []
    },
    {
      "cell_type": "code",
      "metadata": {
        "colab": {
          "base_uri": "https://localhost:8080/",
          "height": 204
        },
        "id": "rDk2XvuIe_l0",
        "outputId": "cc48f1a5-30c9-496f-cb69-0d41a41a3cfb"
      },
      "source": [
        "df.head()"
      ],
      "execution_count": null,
      "outputs": [
        {
          "output_type": "execute_result",
          "data": {
            "text/html": [
              "<div>\n",
              "<style scoped>\n",
              "    .dataframe tbody tr th:only-of-type {\n",
              "        vertical-align: middle;\n",
              "    }\n",
              "\n",
              "    .dataframe tbody tr th {\n",
              "        vertical-align: top;\n",
              "    }\n",
              "\n",
              "    .dataframe thead th {\n",
              "        text-align: right;\n",
              "    }\n",
              "</style>\n",
              "<table border=\"1\" class=\"dataframe\">\n",
              "  <thead>\n",
              "    <tr style=\"text-align: right;\">\n",
              "      <th></th>\n",
              "      <th>Gender</th>\n",
              "      <th>AGE</th>\n",
              "      <th>Urea</th>\n",
              "      <th>Cr</th>\n",
              "      <th>HbA1c</th>\n",
              "      <th>Chol</th>\n",
              "      <th>TG</th>\n",
              "      <th>HDL</th>\n",
              "      <th>LDL</th>\n",
              "      <th>VLDL</th>\n",
              "      <th>BMI</th>\n",
              "      <th>CLASS</th>\n",
              "    </tr>\n",
              "  </thead>\n",
              "  <tbody>\n",
              "    <tr>\n",
              "      <th>0</th>\n",
              "      <td>F</td>\n",
              "      <td>50</td>\n",
              "      <td>4.7</td>\n",
              "      <td>46</td>\n",
              "      <td>4.9</td>\n",
              "      <td>4.2</td>\n",
              "      <td>0.9</td>\n",
              "      <td>2.4</td>\n",
              "      <td>1.4</td>\n",
              "      <td>0.5</td>\n",
              "      <td>24.0</td>\n",
              "      <td>N</td>\n",
              "    </tr>\n",
              "    <tr>\n",
              "      <th>1</th>\n",
              "      <td>M</td>\n",
              "      <td>26</td>\n",
              "      <td>4.5</td>\n",
              "      <td>62</td>\n",
              "      <td>4.9</td>\n",
              "      <td>3.7</td>\n",
              "      <td>1.4</td>\n",
              "      <td>1.1</td>\n",
              "      <td>2.1</td>\n",
              "      <td>0.6</td>\n",
              "      <td>23.0</td>\n",
              "      <td>N</td>\n",
              "    </tr>\n",
              "    <tr>\n",
              "      <th>2</th>\n",
              "      <td>F</td>\n",
              "      <td>50</td>\n",
              "      <td>4.7</td>\n",
              "      <td>46</td>\n",
              "      <td>4.9</td>\n",
              "      <td>4.2</td>\n",
              "      <td>0.9</td>\n",
              "      <td>2.4</td>\n",
              "      <td>1.4</td>\n",
              "      <td>0.5</td>\n",
              "      <td>24.0</td>\n",
              "      <td>N</td>\n",
              "    </tr>\n",
              "    <tr>\n",
              "      <th>3</th>\n",
              "      <td>F</td>\n",
              "      <td>50</td>\n",
              "      <td>4.7</td>\n",
              "      <td>46</td>\n",
              "      <td>4.9</td>\n",
              "      <td>4.2</td>\n",
              "      <td>0.9</td>\n",
              "      <td>2.4</td>\n",
              "      <td>1.4</td>\n",
              "      <td>0.5</td>\n",
              "      <td>24.0</td>\n",
              "      <td>N</td>\n",
              "    </tr>\n",
              "    <tr>\n",
              "      <th>4</th>\n",
              "      <td>M</td>\n",
              "      <td>33</td>\n",
              "      <td>7.1</td>\n",
              "      <td>46</td>\n",
              "      <td>4.9</td>\n",
              "      <td>4.9</td>\n",
              "      <td>1.0</td>\n",
              "      <td>0.8</td>\n",
              "      <td>2.0</td>\n",
              "      <td>0.4</td>\n",
              "      <td>21.0</td>\n",
              "      <td>N</td>\n",
              "    </tr>\n",
              "  </tbody>\n",
              "</table>\n",
              "</div>"
            ],
            "text/plain": [
              "  Gender  AGE  Urea  Cr  HbA1c  Chol   TG  HDL  LDL  VLDL   BMI CLASS\n",
              "0      F   50   4.7  46    4.9   4.2  0.9  2.4  1.4   0.5  24.0     N\n",
              "1      M   26   4.5  62    4.9   3.7  1.4  1.1  2.1   0.6  23.0     N\n",
              "2      F   50   4.7  46    4.9   4.2  0.9  2.4  1.4   0.5  24.0     N\n",
              "3      F   50   4.7  46    4.9   4.2  0.9  2.4  1.4   0.5  24.0     N\n",
              "4      M   33   7.1  46    4.9   4.9  1.0  0.8  2.0   0.4  21.0     N"
            ]
          },
          "metadata": {},
          "execution_count": 97
        }
      ]
    },
    {
      "cell_type": "code",
      "metadata": {
        "colab": {
          "base_uri": "https://localhost:8080/"
        },
        "id": "Z2U5mpRdfAXE",
        "outputId": "bfedca2b-c2ac-4041-c958-1d913cb58589"
      },
      "source": [
        "df['Gender'].unique()"
      ],
      "execution_count": null,
      "outputs": [
        {
          "output_type": "execute_result",
          "data": {
            "text/plain": [
              "array(['F', 'M', 'f'], dtype=object)"
            ]
          },
          "metadata": {},
          "execution_count": 98
        }
      ]
    },
    {
      "cell_type": "code",
      "metadata": {
        "colab": {
          "base_uri": "https://localhost:8080/",
          "height": 80
        },
        "id": "V1S99HBnfDGv",
        "outputId": "849b21d9-5fd8-4c38-e025-bea61b128f48"
      },
      "source": [
        "df[df['Gender'] == 'f']"
      ],
      "execution_count": null,
      "outputs": [
        {
          "output_type": "execute_result",
          "data": {
            "text/html": [
              "<div>\n",
              "<style scoped>\n",
              "    .dataframe tbody tr th:only-of-type {\n",
              "        vertical-align: middle;\n",
              "    }\n",
              "\n",
              "    .dataframe tbody tr th {\n",
              "        vertical-align: top;\n",
              "    }\n",
              "\n",
              "    .dataframe thead th {\n",
              "        text-align: right;\n",
              "    }\n",
              "</style>\n",
              "<table border=\"1\" class=\"dataframe\">\n",
              "  <thead>\n",
              "    <tr style=\"text-align: right;\">\n",
              "      <th></th>\n",
              "      <th>Gender</th>\n",
              "      <th>AGE</th>\n",
              "      <th>Urea</th>\n",
              "      <th>Cr</th>\n",
              "      <th>HbA1c</th>\n",
              "      <th>Chol</th>\n",
              "      <th>TG</th>\n",
              "      <th>HDL</th>\n",
              "      <th>LDL</th>\n",
              "      <th>VLDL</th>\n",
              "      <th>BMI</th>\n",
              "      <th>CLASS</th>\n",
              "    </tr>\n",
              "  </thead>\n",
              "  <tbody>\n",
              "    <tr>\n",
              "      <th>991</th>\n",
              "      <td>f</td>\n",
              "      <td>55</td>\n",
              "      <td>4.1</td>\n",
              "      <td>34</td>\n",
              "      <td>13.9</td>\n",
              "      <td>5.4</td>\n",
              "      <td>1.6</td>\n",
              "      <td>1.6</td>\n",
              "      <td>3.1</td>\n",
              "      <td>0.7</td>\n",
              "      <td>33.0</td>\n",
              "      <td>Y</td>\n",
              "    </tr>\n",
              "  </tbody>\n",
              "</table>\n",
              "</div>"
            ],
            "text/plain": [
              "    Gender  AGE  Urea  Cr  HbA1c  Chol   TG  HDL  LDL  VLDL   BMI CLASS\n",
              "991      f   55   4.1  34   13.9   5.4  1.6  1.6  3.1   0.7  33.0     Y"
            ]
          },
          "metadata": {},
          "execution_count": 99
        }
      ]
    },
    {
      "cell_type": "code",
      "metadata": {
        "id": "Let8ZwyvfG6K"
      },
      "source": [
        "df.iloc[991,0] = 'F'"
      ],
      "execution_count": null,
      "outputs": []
    },
    {
      "cell_type": "code",
      "metadata": {
        "colab": {
          "base_uri": "https://localhost:8080/"
        },
        "id": "J2epKEQjfJRa",
        "outputId": "f1691be5-cecf-4380-94c3-521bf940ee62"
      },
      "source": [
        "df.iloc[991]"
      ],
      "execution_count": null,
      "outputs": [
        {
          "output_type": "execute_result",
          "data": {
            "text/plain": [
              "Gender       F\n",
              "AGE         55\n",
              "Urea       4.1\n",
              "Cr          34\n",
              "HbA1c     13.9\n",
              "Chol       5.4\n",
              "TG         1.6\n",
              "HDL        1.6\n",
              "LDL        3.1\n",
              "VLDL       0.7\n",
              "BMI         33\n",
              "CLASS        Y\n",
              "Name: 991, dtype: object"
            ]
          },
          "metadata": {},
          "execution_count": 101
        }
      ]
    },
    {
      "cell_type": "code",
      "metadata": {
        "colab": {
          "base_uri": "https://localhost:8080/"
        },
        "id": "AsulYzhOf1-j",
        "outputId": "5add1276-ac83-4a51-b62c-d501c8c689f3"
      },
      "source": [
        "df['Gender'].unique()"
      ],
      "execution_count": null,
      "outputs": [
        {
          "output_type": "execute_result",
          "data": {
            "text/plain": [
              "array(['F', 'M'], dtype=object)"
            ]
          },
          "metadata": {},
          "execution_count": 102
        }
      ]
    },
    {
      "cell_type": "code",
      "metadata": {
        "colab": {
          "base_uri": "https://localhost:8080/"
        },
        "id": "sx4Lssv3f39y",
        "outputId": "37d640f7-c352-4998-b053-82dc06c0f478"
      },
      "source": [
        "df['CLASS'].unique()"
      ],
      "execution_count": null,
      "outputs": [
        {
          "output_type": "execute_result",
          "data": {
            "text/plain": [
              "array(['N', 'N ', 'P', 'Y', 'Y '], dtype=object)"
            ]
          },
          "metadata": {},
          "execution_count": 103
        }
      ]
    },
    {
      "cell_type": "code",
      "metadata": {
        "colab": {
          "base_uri": "https://localhost:8080/",
          "height": 80
        },
        "id": "I3PCAEcKf8bN",
        "outputId": "ae4e710b-b207-4fc5-e614-f4dd32b0397e"
      },
      "source": [
        "df[df['CLASS'] == 'N ']"
      ],
      "execution_count": null,
      "outputs": [
        {
          "output_type": "execute_result",
          "data": {
            "text/html": [
              "<div>\n",
              "<style scoped>\n",
              "    .dataframe tbody tr th:only-of-type {\n",
              "        vertical-align: middle;\n",
              "    }\n",
              "\n",
              "    .dataframe tbody tr th {\n",
              "        vertical-align: top;\n",
              "    }\n",
              "\n",
              "    .dataframe thead th {\n",
              "        text-align: right;\n",
              "    }\n",
              "</style>\n",
              "<table border=\"1\" class=\"dataframe\">\n",
              "  <thead>\n",
              "    <tr style=\"text-align: right;\">\n",
              "      <th></th>\n",
              "      <th>Gender</th>\n",
              "      <th>AGE</th>\n",
              "      <th>Urea</th>\n",
              "      <th>Cr</th>\n",
              "      <th>HbA1c</th>\n",
              "      <th>Chol</th>\n",
              "      <th>TG</th>\n",
              "      <th>HDL</th>\n",
              "      <th>LDL</th>\n",
              "      <th>VLDL</th>\n",
              "      <th>BMI</th>\n",
              "      <th>CLASS</th>\n",
              "    </tr>\n",
              "  </thead>\n",
              "  <tbody>\n",
              "    <tr>\n",
              "      <th>102</th>\n",
              "      <td>M</td>\n",
              "      <td>38</td>\n",
              "      <td>6.1</td>\n",
              "      <td>83</td>\n",
              "      <td>5.4</td>\n",
              "      <td>4.5</td>\n",
              "      <td>1.7</td>\n",
              "      <td>0.9</td>\n",
              "      <td>2.8</td>\n",
              "      <td>0.8</td>\n",
              "      <td>24.6</td>\n",
              "      <td>N</td>\n",
              "    </tr>\n",
              "  </tbody>\n",
              "</table>\n",
              "</div>"
            ],
            "text/plain": [
              "    Gender  AGE  Urea  Cr  HbA1c  Chol   TG  HDL  LDL  VLDL   BMI CLASS\n",
              "102      M   38   6.1  83    5.4   4.5  1.7  0.9  2.8   0.8  24.6    N "
            ]
          },
          "metadata": {},
          "execution_count": 104
        }
      ]
    },
    {
      "cell_type": "code",
      "metadata": {
        "id": "zs2LyiTggA1R"
      },
      "source": [
        "df.iloc[102,-1] = 'N'"
      ],
      "execution_count": null,
      "outputs": []
    },
    {
      "cell_type": "code",
      "metadata": {
        "colab": {
          "base_uri": "https://localhost:8080/",
          "height": 173
        },
        "id": "GfGnT7nrgFdJ",
        "outputId": "612d2a9a-dc8f-437b-b93c-04948d9b97a1"
      },
      "source": [
        "df[df['CLASS'] == 'Y ']"
      ],
      "execution_count": null,
      "outputs": [
        {
          "output_type": "execute_result",
          "data": {
            "text/html": [
              "<div>\n",
              "<style scoped>\n",
              "    .dataframe tbody tr th:only-of-type {\n",
              "        vertical-align: middle;\n",
              "    }\n",
              "\n",
              "    .dataframe tbody tr th {\n",
              "        vertical-align: top;\n",
              "    }\n",
              "\n",
              "    .dataframe thead th {\n",
              "        text-align: right;\n",
              "    }\n",
              "</style>\n",
              "<table border=\"1\" class=\"dataframe\">\n",
              "  <thead>\n",
              "    <tr style=\"text-align: right;\">\n",
              "      <th></th>\n",
              "      <th>Gender</th>\n",
              "      <th>AGE</th>\n",
              "      <th>Urea</th>\n",
              "      <th>Cr</th>\n",
              "      <th>HbA1c</th>\n",
              "      <th>Chol</th>\n",
              "      <th>TG</th>\n",
              "      <th>HDL</th>\n",
              "      <th>LDL</th>\n",
              "      <th>VLDL</th>\n",
              "      <th>BMI</th>\n",
              "      <th>CLASS</th>\n",
              "    </tr>\n",
              "  </thead>\n",
              "  <tbody>\n",
              "    <tr>\n",
              "      <th>996</th>\n",
              "      <td>M</td>\n",
              "      <td>31</td>\n",
              "      <td>3.0</td>\n",
              "      <td>60</td>\n",
              "      <td>12.3</td>\n",
              "      <td>4.1</td>\n",
              "      <td>2.2</td>\n",
              "      <td>0.7</td>\n",
              "      <td>2.4</td>\n",
              "      <td>15.4</td>\n",
              "      <td>37.2</td>\n",
              "      <td>Y</td>\n",
              "    </tr>\n",
              "    <tr>\n",
              "      <th>997</th>\n",
              "      <td>M</td>\n",
              "      <td>30</td>\n",
              "      <td>7.1</td>\n",
              "      <td>81</td>\n",
              "      <td>6.7</td>\n",
              "      <td>4.1</td>\n",
              "      <td>1.1</td>\n",
              "      <td>1.2</td>\n",
              "      <td>2.4</td>\n",
              "      <td>8.1</td>\n",
              "      <td>27.4</td>\n",
              "      <td>Y</td>\n",
              "    </tr>\n",
              "    <tr>\n",
              "      <th>998</th>\n",
              "      <td>M</td>\n",
              "      <td>38</td>\n",
              "      <td>5.8</td>\n",
              "      <td>59</td>\n",
              "      <td>6.7</td>\n",
              "      <td>5.3</td>\n",
              "      <td>2.0</td>\n",
              "      <td>1.6</td>\n",
              "      <td>2.9</td>\n",
              "      <td>14.0</td>\n",
              "      <td>40.5</td>\n",
              "      <td>Y</td>\n",
              "    </tr>\n",
              "    <tr>\n",
              "      <th>999</th>\n",
              "      <td>M</td>\n",
              "      <td>54</td>\n",
              "      <td>5.0</td>\n",
              "      <td>67</td>\n",
              "      <td>6.9</td>\n",
              "      <td>3.8</td>\n",
              "      <td>1.7</td>\n",
              "      <td>1.1</td>\n",
              "      <td>3.0</td>\n",
              "      <td>0.7</td>\n",
              "      <td>33.0</td>\n",
              "      <td>Y</td>\n",
              "    </tr>\n",
              "  </tbody>\n",
              "</table>\n",
              "</div>"
            ],
            "text/plain": [
              "    Gender  AGE  Urea  Cr  HbA1c  Chol   TG  HDL  LDL  VLDL   BMI CLASS\n",
              "996      M   31   3.0  60   12.3   4.1  2.2  0.7  2.4  15.4  37.2    Y \n",
              "997      M   30   7.1  81    6.7   4.1  1.1  1.2  2.4   8.1  27.4    Y \n",
              "998      M   38   5.8  59    6.7   5.3  2.0  1.6  2.9  14.0  40.5    Y \n",
              "999      M   54   5.0  67    6.9   3.8  1.7  1.1  3.0   0.7  33.0    Y "
            ]
          },
          "metadata": {},
          "execution_count": 106
        }
      ]
    },
    {
      "cell_type": "code",
      "metadata": {
        "id": "txqfi8H3gNMq"
      },
      "source": [
        "for i in range(996,1000):\n",
        "  df.iloc[i,-1] = 'Y'"
      ],
      "execution_count": null,
      "outputs": []
    },
    {
      "cell_type": "code",
      "metadata": {
        "colab": {
          "base_uri": "https://localhost:8080/"
        },
        "id": "WJZk_RSUgQMb",
        "outputId": "44bd9b88-37c3-45b5-8928-1560d825095b"
      },
      "source": [
        "df['CLASS'].unique()"
      ],
      "execution_count": null,
      "outputs": [
        {
          "output_type": "execute_result",
          "data": {
            "text/plain": [
              "array(['N', 'P', 'Y'], dtype=object)"
            ]
          },
          "metadata": {},
          "execution_count": 108
        }
      ]
    },
    {
      "cell_type": "code",
      "metadata": {
        "colab": {
          "base_uri": "https://localhost:8080/"
        },
        "id": "VmlGA3BggbmN",
        "outputId": "aad2a9ee-edb3-4d65-f844-a766f1eeca40"
      },
      "source": [
        "df['CLASS'].value_counts()"
      ],
      "execution_count": null,
      "outputs": [
        {
          "output_type": "execute_result",
          "data": {
            "text/plain": [
              "Y    844\n",
              "N    103\n",
              "P     53\n",
              "Name: CLASS, dtype: int64"
            ]
          },
          "metadata": {},
          "execution_count": 109
        }
      ]
    },
    {
      "cell_type": "code",
      "metadata": {
        "colab": {
          "base_uri": "https://localhost:8080/",
          "height": 350
        },
        "id": "XaPCqCOxggIO",
        "outputId": "73952b8c-bf6f-46c6-9c45-dd0f70cc8d3e"
      },
      "source": [
        "sns.countplot(df['CLASS'])"
      ],
      "execution_count": null,
      "outputs": [
        {
          "output_type": "stream",
          "name": "stderr",
          "text": [
            "/usr/local/lib/python3.7/dist-packages/seaborn/_decorators.py:43: FutureWarning: Pass the following variable as a keyword arg: x. From version 0.12, the only valid positional argument will be `data`, and passing other arguments without an explicit keyword will result in an error or misinterpretation.\n",
            "  FutureWarning\n"
          ]
        },
        {
          "output_type": "execute_result",
          "data": {
            "text/plain": [
              "<matplotlib.axes._subplots.AxesSubplot at 0x7faf235dad10>"
            ]
          },
          "metadata": {},
          "execution_count": 110
        },
        {
          "output_type": "display_data",
          "data": {
            "image/png": "[encoded data removed]",
            "text/plain": [
              "<Figure size 432x288 with 1 Axes>"
            ]
          },
          "metadata": {
            "needs_background": "light"
          }
        }
      ]
    },
    {
      "cell_type": "code",
      "metadata": {
        "id": "CnSF7SRTgpLD"
      },
      "source": [
        "from imblearn.over_sampling import SMOTE"
      ],
      "execution_count": null,
      "outputs": []
    },
    {
      "cell_type": "code",
      "metadata": {
        "colab": {
          "base_uri": "https://localhost:8080/",
          "height": 419
        },
        "id": "7BOJIaE5g7FR",
        "outputId": "1d5f200c-1d14-4de8-ec8d-913813aae4c2"
      },
      "source": [
        "df"
      ],
      "execution_count": null,
      "outputs": [
        {
          "output_type": "execute_result",
          "data": {
            "text/html": [
              "<div>\n",
              "<style scoped>\n",
              "    .dataframe tbody tr th:only-of-type {\n",
              "        vertical-align: middle;\n",
              "    }\n",
              "\n",
              "    .dataframe tbody tr th {\n",
              "        vertical-align: top;\n",
              "    }\n",
              "\n",
              "    .dataframe thead th {\n",
              "        text-align: right;\n",
              "    }\n",
              "</style>\n",
              "<table border=\"1\" class=\"dataframe\">\n",
              "  <thead>\n",
              "    <tr style=\"text-align: right;\">\n",
              "      <th></th>\n",
              "      <th>Gender</th>\n",
              "      <th>AGE</th>\n",
              "      <th>Urea</th>\n",
              "      <th>Cr</th>\n",
              "      <th>HbA1c</th>\n",
              "      <th>Chol</th>\n",
              "      <th>TG</th>\n",
              "      <th>HDL</th>\n",
              "      <th>LDL</th>\n",
              "      <th>VLDL</th>\n",
              "      <th>BMI</th>\n",
              "      <th>CLASS</th>\n",
              "    </tr>\n",
              "  </thead>\n",
              "  <tbody>\n",
              "    <tr>\n",
              "      <th>0</th>\n",
              "      <td>F</td>\n",
              "      <td>50</td>\n",
              "      <td>4.7</td>\n",
              "      <td>46</td>\n",
              "      <td>4.9</td>\n",
              "      <td>4.2</td>\n",
              "      <td>0.9</td>\n",
              "      <td>2.4</td>\n",
              "      <td>1.4</td>\n",
              "      <td>0.5</td>\n",
              "      <td>24.0</td>\n",
              "      <td>N</td>\n",
              "    </tr>\n",
              "    <tr>\n",
              "      <th>1</th>\n",
              "      <td>M</td>\n",
              "      <td>26</td>\n",
              "      <td>4.5</td>\n",
              "      <td>62</td>\n",
              "      <td>4.9</td>\n",
              "      <td>3.7</td>\n",
              "      <td>1.4</td>\n",
              "      <td>1.1</td>\n",
              "      <td>2.1</td>\n",
              "      <td>0.6</td>\n",
              "      <td>23.0</td>\n",
              "      <td>N</td>\n",
              "    </tr>\n",
              "    <tr>\n",
              "      <th>2</th>\n",
              "      <td>F</td>\n",
              "      <td>50</td>\n",
              "      <td>4.7</td>\n",
              "      <td>46</td>\n",
              "      <td>4.9</td>\n",
              "      <td>4.2</td>\n",
              "      <td>0.9</td>\n",
              "      <td>2.4</td>\n",
              "      <td>1.4</td>\n",
              "      <td>0.5</td>\n",
              "      <td>24.0</td>\n",
              "      <td>N</td>\n",
              "    </tr>\n",
              "    <tr>\n",
              "      <th>3</th>\n",
              "      <td>F</td>\n",
              "      <td>50</td>\n",
              "      <td>4.7</td>\n",
              "      <td>46</td>\n",
              "      <td>4.9</td>\n",
              "      <td>4.2</td>\n",
              "      <td>0.9</td>\n",
              "      <td>2.4</td>\n",
              "      <td>1.4</td>\n",
              "      <td>0.5</td>\n",
              "      <td>24.0</td>\n",
              "      <td>N</td>\n",
              "    </tr>\n",
              "    <tr>\n",
              "      <th>4</th>\n",
              "      <td>M</td>\n",
              "      <td>33</td>\n",
              "      <td>7.1</td>\n",
              "      <td>46</td>\n",
              "      <td>4.9</td>\n",
              "      <td>4.9</td>\n",
              "      <td>1.0</td>\n",
              "      <td>0.8</td>\n",
              "      <td>2.0</td>\n",
              "      <td>0.4</td>\n",
              "      <td>21.0</td>\n",
              "      <td>N</td>\n",
              "    </tr>\n",
              "    <tr>\n",
              "      <th>...</th>\n",
              "      <td>...</td>\n",
              "      <td>...</td>\n",
              "      <td>...</td>\n",
              "      <td>...</td>\n",
              "      <td>...</td>\n",
              "      <td>...</td>\n",
              "      <td>...</td>\n",
              "      <td>...</td>\n",
              "      <td>...</td>\n",
              "      <td>...</td>\n",
              "      <td>...</td>\n",
              "      <td>...</td>\n",
              "    </tr>\n",
              "    <tr>\n",
              "      <th>995</th>\n",
              "      <td>M</td>\n",
              "      <td>71</td>\n",
              "      <td>11.0</td>\n",
              "      <td>97</td>\n",
              "      <td>7.0</td>\n",
              "      <td>7.5</td>\n",
              "      <td>1.7</td>\n",
              "      <td>1.2</td>\n",
              "      <td>1.8</td>\n",
              "      <td>0.6</td>\n",
              "      <td>30.0</td>\n",
              "      <td>Y</td>\n",
              "    </tr>\n",
              "    <tr>\n",
              "      <th>996</th>\n",
              "      <td>M</td>\n",
              "      <td>31</td>\n",
              "      <td>3.0</td>\n",
              "      <td>60</td>\n",
              "      <td>12.3</td>\n",
              "      <td>4.1</td>\n",
              "      <td>2.2</td>\n",
              "      <td>0.7</td>\n",
              "      <td>2.4</td>\n",
              "      <td>15.4</td>\n",
              "      <td>37.2</td>\n",
              "      <td>Y</td>\n",
              "    </tr>\n",
              "    <tr>\n",
              "      <th>997</th>\n",
              "      <td>M</td>\n",
              "      <td>30</td>\n",
              "      <td>7.1</td>\n",
              "      <td>81</td>\n",
              "      <td>6.7</td>\n",
              "      <td>4.1</td>\n",
              "      <td>1.1</td>\n",
              "      <td>1.2</td>\n",
              "      <td>2.4</td>\n",
              "      <td>8.1</td>\n",
              "      <td>27.4</td>\n",
              "      <td>Y</td>\n",
              "    </tr>\n",
              "    <tr>\n",
              "      <th>998</th>\n",
              "      <td>M</td>\n",
              "      <td>38</td>\n",
              "      <td>5.8</td>\n",
              "      <td>59</td>\n",
              "      <td>6.7</td>\n",
              "      <td>5.3</td>\n",
              "      <td>2.0</td>\n",
              "      <td>1.6</td>\n",
              "      <td>2.9</td>\n",
              "      <td>14.0</td>\n",
              "      <td>40.5</td>\n",
              "      <td>Y</td>\n",
              "    </tr>\n",
              "    <tr>\n",
              "      <th>999</th>\n",
              "      <td>M</td>\n",
              "      <td>54</td>\n",
              "      <td>5.0</td>\n",
              "      <td>67</td>\n",
              "      <td>6.9</td>\n",
              "      <td>3.8</td>\n",
              "      <td>1.7</td>\n",
              "      <td>1.1</td>\n",
              "      <td>3.0</td>\n",
              "      <td>0.7</td>\n",
              "      <td>33.0</td>\n",
              "      <td>Y</td>\n",
              "    </tr>\n",
              "  </tbody>\n",
              "</table>\n",
              "<p>1000 rows × 12 columns</p>\n",
              "</div>"
            ],
            "text/plain": [
              "    Gender  AGE  Urea  Cr  HbA1c  Chol   TG  HDL  LDL  VLDL   BMI CLASS\n",
              "0        F   50   4.7  46    4.9   4.2  0.9  2.4  1.4   0.5  24.0     N\n",
              "1        M   26   4.5  62    4.9   3.7  1.4  1.1  2.1   0.6  23.0     N\n",
              "2        F   50   4.7  46    4.9   4.2  0.9  2.4  1.4   0.5  24.0     N\n",
              "3        F   50   4.7  46    4.9   4.2  0.9  2.4  1.4   0.5  24.0     N\n",
              "4        M   33   7.1  46    4.9   4.9  1.0  0.8  2.0   0.4  21.0     N\n",
              "..     ...  ...   ...  ..    ...   ...  ...  ...  ...   ...   ...   ...\n",
              "995      M   71  11.0  97    7.0   7.5  1.7  1.2  1.8   0.6  30.0     Y\n",
              "996      M   31   3.0  60   12.3   4.1  2.2  0.7  2.4  15.4  37.2     Y\n",
              "997      M   30   7.1  81    6.7   4.1  1.1  1.2  2.4   8.1  27.4     Y\n",
              "998      M   38   5.8  59    6.7   5.3  2.0  1.6  2.9  14.0  40.5     Y\n",
              "999      M   54   5.0  67    6.9   3.8  1.7  1.1  3.0   0.7  33.0     Y\n",
              "\n",
              "[1000 rows x 12 columns]"
            ]
          },
          "metadata": {},
          "execution_count": 112
        }
      ]
    },
    {
      "cell_type": "code",
      "metadata": {
        "id": "HivQpLzBg8iG"
      },
      "source": [
        "df = pd.get_dummies(df, columns=['Gender'], drop_first=True)"
      ],
      "execution_count": null,
      "outputs": []
    },
    {
      "cell_type": "code",
      "metadata": {
        "colab": {
          "base_uri": "https://localhost:8080/"
        },
        "id": "r40gferjmumj",
        "outputId": "b7d8f33e-0c95-4512-cd99-726dab6dc7a5"
      },
      "source": [
        "# Import label encoder\n",
        "from sklearn import preprocessing\n",
        "\n",
        "# label_encoder object knows how to understand word labels.\n",
        "label_encoder = preprocessing.LabelEncoder()\n",
        "\n",
        "# Encode labels in column 'species'.\n",
        "df['CLASS']= label_encoder.fit_transform(df['CLASS'])\n",
        "\n",
        "df['CLASS'].unique()"
      ],
      "execution_count": null,
      "outputs": [
        {
          "output_type": "execute_result",
          "data": {
            "text/plain": [
              "array([0, 1, 2])"
            ]
          },
          "metadata": {},
          "execution_count": 114
        }
      ]
    },
    {
      "cell_type": "code",
      "metadata": {
        "colab": {
          "base_uri": "https://localhost:8080/",
          "height": 350
        },
        "id": "Hcm3-a2_m2wK",
        "outputId": "b3e28707-f169-46c8-bb81-1b17614f2a31"
      },
      "source": [
        "sns.countplot(df['CLASS'])"
      ],
      "execution_count": null,
      "outputs": [
        {
          "output_type": "stream",
          "name": "stderr",
          "text": [
            "/usr/local/lib/python3.7/dist-packages/seaborn/_decorators.py:43: FutureWarning: Pass the following variable as a keyword arg: x. From version 0.12, the only valid positional argument will be `data`, and passing other arguments without an explicit keyword will result in an error or misinterpretation.\n",
            "  FutureWarning\n"
          ]
        },
        {
          "output_type": "execute_result",
          "data": {
            "text/plain": [
              "<matplotlib.axes._subplots.AxesSubplot at 0x7faf21925290>"
            ]
          },
          "metadata": {},
          "execution_count": 116
        },
        {
          "output_type": "display_data",
          "data": {
            "image/png": "[encoded data removed]",
            "text/plain": [
              "<Figure size 432x288 with 1 Axes>"
            ]
          },
          "metadata": {
            "needs_background": "light"
          }
        }
      ]
    },
    {
      "cell_type": "code",
      "metadata": {
        "colab": {
          "base_uri": "https://localhost:8080/",
          "height": 204
        },
        "id": "AHHSE8BNhP34",
        "outputId": "5680b8b7-20f8-4e7d-92e5-c1ec52510017"
      },
      "source": [
        "df.head()"
      ],
      "execution_count": null,
      "outputs": [
        {
          "output_type": "execute_result",
          "data": {
            "text/html": [
              "<div>\n",
              "<style scoped>\n",
              "    .dataframe tbody tr th:only-of-type {\n",
              "        vertical-align: middle;\n",
              "    }\n",
              "\n",
              "    .dataframe tbody tr th {\n",
              "        vertical-align: top;\n",
              "    }\n",
              "\n",
              "    .dataframe thead th {\n",
              "        text-align: right;\n",
              "    }\n",
              "</style>\n",
              "<table border=\"1\" class=\"dataframe\">\n",
              "  <thead>\n",
              "    <tr style=\"text-align: right;\">\n",
              "      <th></th>\n",
              "      <th>AGE</th>\n",
              "      <th>Urea</th>\n",
              "      <th>Cr</th>\n",
              "      <th>HbA1c</th>\n",
              "      <th>Chol</th>\n",
              "      <th>TG</th>\n",
              "      <th>HDL</th>\n",
              "      <th>LDL</th>\n",
              "      <th>VLDL</th>\n",
              "      <th>BMI</th>\n",
              "      <th>CLASS</th>\n",
              "      <th>Gender_M</th>\n",
              "    </tr>\n",
              "  </thead>\n",
              "  <tbody>\n",
              "    <tr>\n",
              "      <th>0</th>\n",
              "      <td>50</td>\n",
              "      <td>4.7</td>\n",
              "      <td>46</td>\n",
              "      <td>4.9</td>\n",
              "      <td>4.2</td>\n",
              "      <td>0.9</td>\n",
              "      <td>2.4</td>\n",
              "      <td>1.4</td>\n",
              "      <td>0.5</td>\n",
              "      <td>24.0</td>\n",
              "      <td>0</td>\n",
              "      <td>0</td>\n",
              "    </tr>\n",
              "    <tr>\n",
              "      <th>1</th>\n",
              "      <td>26</td>\n",
              "      <td>4.5</td>\n",
              "      <td>62</td>\n",
              "      <td>4.9</td>\n",
              "      <td>3.7</td>\n",
              "      <td>1.4</td>\n",
              "      <td>1.1</td>\n",
              "      <td>2.1</td>\n",
              "      <td>0.6</td>\n",
              "      <td>23.0</td>\n",
              "      <td>0</td>\n",
              "      <td>1</td>\n",
              "    </tr>\n",
              "    <tr>\n",
              "      <th>2</th>\n",
              "      <td>50</td>\n",
              "      <td>4.7</td>\n",
              "      <td>46</td>\n",
              "      <td>4.9</td>\n",
              "      <td>4.2</td>\n",
              "      <td>0.9</td>\n",
              "      <td>2.4</td>\n",
              "      <td>1.4</td>\n",
              "      <td>0.5</td>\n",
              "      <td>24.0</td>\n",
              "      <td>0</td>\n",
              "      <td>0</td>\n",
              "    </tr>\n",
              "    <tr>\n",
              "      <th>3</th>\n",
              "      <td>50</td>\n",
              "      <td>4.7</td>\n",
              "      <td>46</td>\n",
              "      <td>4.9</td>\n",
              "      <td>4.2</td>\n",
              "      <td>0.9</td>\n",
              "      <td>2.4</td>\n",
              "      <td>1.4</td>\n",
              "      <td>0.5</td>\n",
              "      <td>24.0</td>\n",
              "      <td>0</td>\n",
              "      <td>0</td>\n",
              "    </tr>\n",
              "    <tr>\n",
              "      <th>4</th>\n",
              "      <td>33</td>\n",
              "      <td>7.1</td>\n",
              "      <td>46</td>\n",
              "      <td>4.9</td>\n",
              "      <td>4.9</td>\n",
              "      <td>1.0</td>\n",
              "      <td>0.8</td>\n",
              "      <td>2.0</td>\n",
              "      <td>0.4</td>\n",
              "      <td>21.0</td>\n",
              "      <td>0</td>\n",
              "      <td>1</td>\n",
              "    </tr>\n",
              "  </tbody>\n",
              "</table>\n",
              "</div>"
            ],
            "text/plain": [
              "   AGE  Urea  Cr  HbA1c  Chol   TG  HDL  LDL  VLDL   BMI  CLASS  Gender_M\n",
              "0   50   4.7  46    4.9   4.2  0.9  2.4  1.4   0.5  24.0      0         0\n",
              "1   26   4.5  62    4.9   3.7  1.4  1.1  2.1   0.6  23.0      0         1\n",
              "2   50   4.7  46    4.9   4.2  0.9  2.4  1.4   0.5  24.0      0         0\n",
              "3   50   4.7  46    4.9   4.2  0.9  2.4  1.4   0.5  24.0      0         0\n",
              "4   33   7.1  46    4.9   4.9  1.0  0.8  2.0   0.4  21.0      0         1"
            ]
          },
          "metadata": {},
          "execution_count": 117
        }
      ]
    },
    {
      "cell_type": "code",
      "metadata": {
        "id": "doqq9EAwmM3K"
      },
      "source": [
        "df = df.sample(frac=1)"
      ],
      "execution_count": null,
      "outputs": []
    },
    {
      "cell_type": "code",
      "metadata": {
        "colab": {
          "base_uri": "https://localhost:8080/",
          "height": 327
        },
        "id": "6W_gSFypq1-1",
        "outputId": "ca09376c-d861-4f3b-b933-c8f86f7991be"
      },
      "source": [
        "sns.heatmap(df.corr(),cmap='viridis')"
      ],
      "execution_count": null,
      "outputs": [
        {
          "output_type": "execute_result",
          "data": {
            "text/plain": [
              "<matplotlib.axes._subplots.AxesSubplot at 0x7faf21fce9d0>"
            ]
          },
          "metadata": {},
          "execution_count": 197
        },
        {
          "output_type": "display_data",
          "data": {
            "image/png": "[encoded data removed]",
            "text/plain": [
              "<Figure size 432x288 with 2 Axes>"
            ]
          },
          "metadata": {
            "needs_background": "light"
          }
        }
      ]
    },
    {
      "cell_type": "code",
      "metadata": {
        "colab": {
          "base_uri": "https://localhost:8080/",
          "height": 323
        },
        "id": "Wu8RZDQaq2Cx",
        "outputId": "880ee992-2b44-40d2-9707-1211fe0393f7"
      },
      "source": [
        "df.corr()['CLASS'].sort_values()[:-1].plot(kind='bar')"
      ],
      "execution_count": null,
      "outputs": [
        {
          "output_type": "execute_result",
          "data": {
            "text/plain": [
              "<matplotlib.axes._subplots.AxesSubplot at 0x7faf1e977390>"
            ]
          },
          "metadata": {},
          "execution_count": 202
        },
        {
          "output_type": "display_data",
          "data": {
            "image/png": "[encoded data removed]",
            "text/plain": [
              "<Figure size 432x288 with 1 Axes>"
            ]
          },
          "metadata": {
            "needs_background": "light"
          }
        }
      ]
    },
    {
      "cell_type": "code",
      "metadata": {
        "id": "v8YrzDSKhUAR"
      },
      "source": [
        "X = df.drop(columns=['CLASS'], axis=1).values"
      ],
      "execution_count": null,
      "outputs": []
    },
    {
      "cell_type": "code",
      "metadata": {
        "id": "dtvuGZGMhcQv"
      },
      "source": [
        "y = df[['CLASS']].values"
      ],
      "execution_count": null,
      "outputs": []
    },
    {
      "cell_type": "code",
      "metadata": {
        "id": "IzD9D19Ehf3e"
      },
      "source": [
        "from imblearn.over_sampling import SMOTE"
      ],
      "execution_count": null,
      "outputs": []
    },
    {
      "cell_type": "code",
      "metadata": {
        "id": "zYFtfBmohlqJ"
      },
      "source": [
        "Sm = SMOTE()"
      ],
      "execution_count": null,
      "outputs": []
    },
    {
      "cell_type": "code",
      "metadata": {
        "colab": {
          "base_uri": "https://localhost:8080/"
        },
        "id": "VUTUW2JNnjTD",
        "outputId": "2e2e26d2-4e5b-4365-82b2-a76fbb9ca9e9"
      },
      "source": [
        "X,y = Sm.fit_resample(X,y)"
      ],
      "execution_count": null,
      "outputs": [
        {
          "output_type": "stream",
          "name": "stderr",
          "text": [
            "/usr/local/lib/python3.7/dist-packages/sklearn/utils/validation.py:760: DataConversionWarning: A column-vector y was passed when a 1d array was expected. Please change the shape of y to (n_samples, ), for example using ravel().\n",
            "  y = column_or_1d(y, warn=True)\n",
            "/usr/local/lib/python3.7/dist-packages/sklearn/utils/deprecation.py:87: FutureWarning: Function safe_indexing is deprecated; safe_indexing is deprecated in version 0.22 and will be removed in version 0.24.\n",
            "  warnings.warn(msg, category=FutureWarning)\n",
            "/usr/local/lib/python3.7/dist-packages/sklearn/utils/deprecation.py:87: FutureWarning: Function safe_indexing is deprecated; safe_indexing is deprecated in version 0.22 and will be removed in version 0.24.\n",
            "  warnings.warn(msg, category=FutureWarning)\n"
          ]
        }
      ]
    },
    {
      "cell_type": "code",
      "metadata": {
        "id": "4h3-h78Zhq9P"
      },
      "source": [
        "from sklearn.model_selection import train_test_split"
      ],
      "execution_count": null,
      "outputs": []
    },
    {
      "cell_type": "code",
      "metadata": {
        "id": "P7cYzAVBhzPo"
      },
      "source": [
        "X_train, X_test, y_train, y_test = train_test_split(X, y, test_size=0.25, random_state = 42, stratify=y)"
      ],
      "execution_count": null,
      "outputs": []
    },
    {
      "cell_type": "code",
      "metadata": {
        "id": "BxUpQv4Ji7Qy"
      },
      "source": [
        "from tensorflow.keras.models import Sequential"
      ],
      "execution_count": null,
      "outputs": []
    },
    {
      "cell_type": "code",
      "metadata": {
        "id": "bLNOIeYfi_66"
      },
      "source": [
        "from tensorflow.keras.layers import Dense, Dropout"
      ],
      "execution_count": null,
      "outputs": []
    },
    {
      "cell_type": "code",
      "metadata": {
        "id": "SPLdfkIalBeQ"
      },
      "source": [
        "model = Sequential()\n",
        "\n",
        "model.add(Dense(64, activation='relu'))\n",
        "model.add(Dropout(0.10))\n",
        "\n",
        "model.add(Dense(32, activation='relu'))\n",
        "\n",
        "model.add(Dense(3, activation='softmax'))\n",
        "\n",
        "model.compile(loss='categorical_crossentropy', optimizer='RMSprop', metrics=['accuracy'])"
      ],
      "execution_count": null,
      "outputs": []
    },
    {
      "cell_type": "code",
      "metadata": {
        "id": "h4yEpMRmlVcs"
      },
      "source": [
        "from tensorflow.keras.callbacks import EarlyStopping"
      ],
      "execution_count": null,
      "outputs": []
    },
    {
      "cell_type": "code",
      "metadata": {
        "id": "WaHP06PglcJt"
      },
      "source": [
        "early_stop = EarlyStopping(monitor='val_loss', mode='min', patience=25)"
      ],
      "execution_count": null,
      "outputs": []
    },
    {
      "cell_type": "code",
      "metadata": {
        "id": "fBhKRU0jl0NT"
      },
      "source": [
        "y_train = pd.DataFrame(y_train)"
      ],
      "execution_count": null,
      "outputs": []
    },
    {
      "cell_type": "code",
      "metadata": {
        "colab": {
          "base_uri": "https://localhost:8080/",
          "height": 419
        },
        "id": "O0wBdbBcn4f1",
        "outputId": "19bc5f5a-a14e-4ba8-d5c2-852ddbc2c1da"
      },
      "source": [
        "y_train"
      ],
      "execution_count": null,
      "outputs": [
        {
          "output_type": "execute_result",
          "data": {
            "text/html": [
              "<div>\n",
              "<style scoped>\n",
              "    .dataframe tbody tr th:only-of-type {\n",
              "        vertical-align: middle;\n",
              "    }\n",
              "\n",
              "    .dataframe tbody tr th {\n",
              "        vertical-align: top;\n",
              "    }\n",
              "\n",
              "    .dataframe thead th {\n",
              "        text-align: right;\n",
              "    }\n",
              "</style>\n",
              "<table border=\"1\" class=\"dataframe\">\n",
              "  <thead>\n",
              "    <tr style=\"text-align: right;\">\n",
              "      <th></th>\n",
              "      <th>0</th>\n",
              "    </tr>\n",
              "  </thead>\n",
              "  <tbody>\n",
              "    <tr>\n",
              "      <th>0</th>\n",
              "      <td>1</td>\n",
              "    </tr>\n",
              "    <tr>\n",
              "      <th>1</th>\n",
              "      <td>1</td>\n",
              "    </tr>\n",
              "    <tr>\n",
              "      <th>2</th>\n",
              "      <td>1</td>\n",
              "    </tr>\n",
              "    <tr>\n",
              "      <th>3</th>\n",
              "      <td>0</td>\n",
              "    </tr>\n",
              "    <tr>\n",
              "      <th>4</th>\n",
              "      <td>0</td>\n",
              "    </tr>\n",
              "    <tr>\n",
              "      <th>...</th>\n",
              "      <td>...</td>\n",
              "    </tr>\n",
              "    <tr>\n",
              "      <th>1894</th>\n",
              "      <td>2</td>\n",
              "    </tr>\n",
              "    <tr>\n",
              "      <th>1895</th>\n",
              "      <td>1</td>\n",
              "    </tr>\n",
              "    <tr>\n",
              "      <th>1896</th>\n",
              "      <td>2</td>\n",
              "    </tr>\n",
              "    <tr>\n",
              "      <th>1897</th>\n",
              "      <td>1</td>\n",
              "    </tr>\n",
              "    <tr>\n",
              "      <th>1898</th>\n",
              "      <td>0</td>\n",
              "    </tr>\n",
              "  </tbody>\n",
              "</table>\n",
              "<p>1899 rows × 1 columns</p>\n",
              "</div>"
            ],
            "text/plain": [
              "      0\n",
              "0     1\n",
              "1     1\n",
              "2     1\n",
              "3     0\n",
              "4     0\n",
              "...  ..\n",
              "1894  2\n",
              "1895  1\n",
              "1896  2\n",
              "1897  1\n",
              "1898  0\n",
              "\n",
              "[1899 rows x 1 columns]"
            ]
          },
          "metadata": {},
          "execution_count": 163
        }
      ]
    },
    {
      "cell_type": "code",
      "metadata": {
        "id": "wa9yLEjGmIC6"
      },
      "source": [
        "y_train = pd.get_dummies(y_train, columns=[0])"
      ],
      "execution_count": null,
      "outputs": []
    },
    {
      "cell_type": "code",
      "metadata": {
        "colab": {
          "base_uri": "https://localhost:8080/",
          "height": 419
        },
        "id": "s-BXaYDsoVNc",
        "outputId": "56169f6d-100f-4e01-cab8-7e306852dd22"
      },
      "source": [
        "y_train"
      ],
      "execution_count": null,
      "outputs": [
        {
          "output_type": "execute_result",
          "data": {
            "text/html": [
              "<div>\n",
              "<style scoped>\n",
              "    .dataframe tbody tr th:only-of-type {\n",
              "        vertical-align: middle;\n",
              "    }\n",
              "\n",
              "    .dataframe tbody tr th {\n",
              "        vertical-align: top;\n",
              "    }\n",
              "\n",
              "    .dataframe thead th {\n",
              "        text-align: right;\n",
              "    }\n",
              "</style>\n",
              "<table border=\"1\" class=\"dataframe\">\n",
              "  <thead>\n",
              "    <tr style=\"text-align: right;\">\n",
              "      <th></th>\n",
              "      <th>0_0</th>\n",
              "      <th>0_1</th>\n",
              "      <th>0_2</th>\n",
              "    </tr>\n",
              "  </thead>\n",
              "  <tbody>\n",
              "    <tr>\n",
              "      <th>0</th>\n",
              "      <td>0</td>\n",
              "      <td>1</td>\n",
              "      <td>0</td>\n",
              "    </tr>\n",
              "    <tr>\n",
              "      <th>1</th>\n",
              "      <td>0</td>\n",
              "      <td>1</td>\n",
              "      <td>0</td>\n",
              "    </tr>\n",
              "    <tr>\n",
              "      <th>2</th>\n",
              "      <td>0</td>\n",
              "      <td>1</td>\n",
              "      <td>0</td>\n",
              "    </tr>\n",
              "    <tr>\n",
              "      <th>3</th>\n",
              "      <td>1</td>\n",
              "      <td>0</td>\n",
              "      <td>0</td>\n",
              "    </tr>\n",
              "    <tr>\n",
              "      <th>4</th>\n",
              "      <td>1</td>\n",
              "      <td>0</td>\n",
              "      <td>0</td>\n",
              "    </tr>\n",
              "    <tr>\n",
              "      <th>...</th>\n",
              "      <td>...</td>\n",
              "      <td>...</td>\n",
              "      <td>...</td>\n",
              "    </tr>\n",
              "    <tr>\n",
              "      <th>1894</th>\n",
              "      <td>0</td>\n",
              "      <td>0</td>\n",
              "      <td>1</td>\n",
              "    </tr>\n",
              "    <tr>\n",
              "      <th>1895</th>\n",
              "      <td>0</td>\n",
              "      <td>1</td>\n",
              "      <td>0</td>\n",
              "    </tr>\n",
              "    <tr>\n",
              "      <th>1896</th>\n",
              "      <td>0</td>\n",
              "      <td>0</td>\n",
              "      <td>1</td>\n",
              "    </tr>\n",
              "    <tr>\n",
              "      <th>1897</th>\n",
              "      <td>0</td>\n",
              "      <td>1</td>\n",
              "      <td>0</td>\n",
              "    </tr>\n",
              "    <tr>\n",
              "      <th>1898</th>\n",
              "      <td>1</td>\n",
              "      <td>0</td>\n",
              "      <td>0</td>\n",
              "    </tr>\n",
              "  </tbody>\n",
              "</table>\n",
              "<p>1899 rows × 3 columns</p>\n",
              "</div>"
            ],
            "text/plain": [
              "      0_0  0_1  0_2\n",
              "0       0    1    0\n",
              "1       0    1    0\n",
              "2       0    1    0\n",
              "3       1    0    0\n",
              "4       1    0    0\n",
              "...   ...  ...  ...\n",
              "1894    0    0    1\n",
              "1895    0    1    0\n",
              "1896    0    0    1\n",
              "1897    0    1    0\n",
              "1898    1    0    0\n",
              "\n",
              "[1899 rows x 3 columns]"
            ]
          },
          "metadata": {},
          "execution_count": 165
        }
      ]
    },
    {
      "cell_type": "code",
      "metadata": {
        "id": "1cTKZw7wl8Qw"
      },
      "source": [
        "y_test = pd.DataFrame(y_test)"
      ],
      "execution_count": null,
      "outputs": []
    },
    {
      "cell_type": "code",
      "metadata": {
        "id": "sQtQiRtVmEoK"
      },
      "source": [
        "y_test = pd.get_dummies(y_test, columns=[0])"
      ],
      "execution_count": null,
      "outputs": []
    },
    {
      "cell_type": "code",
      "metadata": {
        "colab": {
          "base_uri": "https://localhost:8080/",
          "height": 419
        },
        "id": "2gQpUqw8l8TJ",
        "outputId": "070bfe75-81a6-4aa0-ec47-45ff44110eea"
      },
      "source": [
        "y_test"
      ],
      "execution_count": null,
      "outputs": [
        {
          "output_type": "execute_result",
          "data": {
            "text/html": [
              "<div>\n",
              "<style scoped>\n",
              "    .dataframe tbody tr th:only-of-type {\n",
              "        vertical-align: middle;\n",
              "    }\n",
              "\n",
              "    .dataframe tbody tr th {\n",
              "        vertical-align: top;\n",
              "    }\n",
              "\n",
              "    .dataframe thead th {\n",
              "        text-align: right;\n",
              "    }\n",
              "</style>\n",
              "<table border=\"1\" class=\"dataframe\">\n",
              "  <thead>\n",
              "    <tr style=\"text-align: right;\">\n",
              "      <th></th>\n",
              "      <th>0_0</th>\n",
              "      <th>0_1</th>\n",
              "      <th>0_2</th>\n",
              "    </tr>\n",
              "  </thead>\n",
              "  <tbody>\n",
              "    <tr>\n",
              "      <th>0</th>\n",
              "      <td>0</td>\n",
              "      <td>0</td>\n",
              "      <td>1</td>\n",
              "    </tr>\n",
              "    <tr>\n",
              "      <th>1</th>\n",
              "      <td>0</td>\n",
              "      <td>1</td>\n",
              "      <td>0</td>\n",
              "    </tr>\n",
              "    <tr>\n",
              "      <th>2</th>\n",
              "      <td>0</td>\n",
              "      <td>1</td>\n",
              "      <td>0</td>\n",
              "    </tr>\n",
              "    <tr>\n",
              "      <th>3</th>\n",
              "      <td>0</td>\n",
              "      <td>0</td>\n",
              "      <td>1</td>\n",
              "    </tr>\n",
              "    <tr>\n",
              "      <th>4</th>\n",
              "      <td>1</td>\n",
              "      <td>0</td>\n",
              "      <td>0</td>\n",
              "    </tr>\n",
              "    <tr>\n",
              "      <th>...</th>\n",
              "      <td>...</td>\n",
              "      <td>...</td>\n",
              "      <td>...</td>\n",
              "    </tr>\n",
              "    <tr>\n",
              "      <th>628</th>\n",
              "      <td>0</td>\n",
              "      <td>0</td>\n",
              "      <td>1</td>\n",
              "    </tr>\n",
              "    <tr>\n",
              "      <th>629</th>\n",
              "      <td>0</td>\n",
              "      <td>1</td>\n",
              "      <td>0</td>\n",
              "    </tr>\n",
              "    <tr>\n",
              "      <th>630</th>\n",
              "      <td>0</td>\n",
              "      <td>0</td>\n",
              "      <td>1</td>\n",
              "    </tr>\n",
              "    <tr>\n",
              "      <th>631</th>\n",
              "      <td>0</td>\n",
              "      <td>0</td>\n",
              "      <td>1</td>\n",
              "    </tr>\n",
              "    <tr>\n",
              "      <th>632</th>\n",
              "      <td>0</td>\n",
              "      <td>1</td>\n",
              "      <td>0</td>\n",
              "    </tr>\n",
              "  </tbody>\n",
              "</table>\n",
              "<p>633 rows × 3 columns</p>\n",
              "</div>"
            ],
            "text/plain": [
              "     0_0  0_1  0_2\n",
              "0      0    0    1\n",
              "1      0    1    0\n",
              "2      0    1    0\n",
              "3      0    0    1\n",
              "4      1    0    0\n",
              "..   ...  ...  ...\n",
              "628    0    0    1\n",
              "629    0    1    0\n",
              "630    0    0    1\n",
              "631    0    0    1\n",
              "632    0    1    0\n",
              "\n",
              "[633 rows x 3 columns]"
            ]
          },
          "metadata": {},
          "execution_count": 168
        }
      ]
    },
    {
      "cell_type": "code",
      "metadata": {
        "colab": {
          "base_uri": "https://localhost:8080/"
        },
        "id": "Dy2TUcVBlhnz",
        "outputId": "3ca3832b-1e46-470d-bd5f-5cababbaa90d"
      },
      "source": [
        "results = model.fit(X_train, y_train, validation_data= (X_test, y_test), epochs=300, callbacks=[early_stop], verbose=1)"
      ],
      "execution_count": null,
      "outputs": [
        {
          "output_type": "stream",
          "name": "stdout",
          "text": [
            "Epoch 1/300\n",
            "60/60 [==============================] - 1s 5ms/step - loss: 3.1389 - accuracy: 0.3539 - val_loss: 2.9540 - val_accuracy: 0.3302\n",
            "Epoch 2/300\n",
            "60/60 [==============================] - 0s 2ms/step - loss: 1.8975 - accuracy: 0.3855 - val_loss: 1.4048 - val_accuracy: 0.3333\n",
            "Epoch 3/300\n",
            "60/60 [==============================] - 0s 2ms/step - loss: 1.4665 - accuracy: 0.4286 - val_loss: 1.6301 - val_accuracy: 0.4155\n",
            "Epoch 4/300\n",
            "60/60 [==============================] - 0s 2ms/step - loss: 1.2832 - accuracy: 0.4360 - val_loss: 0.9317 - val_accuracy: 0.5498\n",
            "Epoch 5/300\n",
            "60/60 [==============================] - 0s 2ms/step - loss: 1.0855 - accuracy: 0.4976 - val_loss: 1.2712 - val_accuracy: 0.3302\n",
            "Epoch 6/300\n",
            "60/60 [==============================] - 0s 3ms/step - loss: 1.0294 - accuracy: 0.5045 - val_loss: 0.9634 - val_accuracy: 0.5071\n",
            "Epoch 7/300\n",
            "60/60 [==============================] - 0s 2ms/step - loss: 0.9310 - accuracy: 0.5645 - val_loss: 0.9207 - val_accuracy: 0.5039\n",
            "Epoch 8/300\n",
            "60/60 [==============================] - 0s 2ms/step - loss: 0.8882 - accuracy: 0.5929 - val_loss: 0.9117 - val_accuracy: 0.5387\n",
            "Epoch 9/300\n",
            "60/60 [==============================] - 0s 2ms/step - loss: 0.8508 - accuracy: 0.6182 - val_loss: 0.7105 - val_accuracy: 0.7567\n",
            "Epoch 10/300\n",
            "60/60 [==============================] - 0s 2ms/step - loss: 0.8097 - accuracy: 0.6467 - val_loss: 0.7142 - val_accuracy: 0.7267\n",
            "Epoch 11/300\n",
            "60/60 [==============================] - 0s 2ms/step - loss: 0.7793 - accuracy: 0.6709 - val_loss: 0.7278 - val_accuracy: 0.6619\n",
            "Epoch 12/300\n",
            "60/60 [==============================] - 0s 2ms/step - loss: 0.7248 - accuracy: 0.7025 - val_loss: 0.6260 - val_accuracy: 0.7646\n",
            "Epoch 13/300\n",
            "60/60 [==============================] - 0s 2ms/step - loss: 0.7155 - accuracy: 0.7193 - val_loss: 0.6401 - val_accuracy: 0.7299\n",
            "Epoch 14/300\n",
            "60/60 [==============================] - 0s 2ms/step - loss: 0.6754 - accuracy: 0.7283 - val_loss: 0.6832 - val_accuracy: 0.6967\n",
            "Epoch 15/300\n",
            "60/60 [==============================] - 0s 2ms/step - loss: 0.6532 - accuracy: 0.7504 - val_loss: 0.5700 - val_accuracy: 0.7994\n",
            "Epoch 16/300\n",
            "60/60 [==============================] - 0s 2ms/step - loss: 0.6185 - accuracy: 0.7667 - val_loss: 0.5495 - val_accuracy: 0.8041\n",
            "Epoch 17/300\n",
            "60/60 [==============================] - 0s 2ms/step - loss: 0.6069 - accuracy: 0.7615 - val_loss: 0.6071 - val_accuracy: 0.7536\n",
            "Epoch 18/300\n",
            "60/60 [==============================] - 0s 2ms/step - loss: 0.5996 - accuracy: 0.7730 - val_loss: 0.5703 - val_accuracy: 0.7583\n",
            "Epoch 19/300\n",
            "60/60 [==============================] - 0s 2ms/step - loss: 0.5622 - accuracy: 0.7920 - val_loss: 0.5955 - val_accuracy: 0.7615\n",
            "Epoch 20/300\n",
            "60/60 [==============================] - 0s 2ms/step - loss: 0.5435 - accuracy: 0.8004 - val_loss: 0.5872 - val_accuracy: 0.7630\n",
            "Epoch 21/300\n",
            "60/60 [==============================] - 0s 2ms/step - loss: 0.5176 - accuracy: 0.8189 - val_loss: 0.4770 - val_accuracy: 0.8167\n",
            "Epoch 22/300\n",
            "60/60 [==============================] - 0s 2ms/step - loss: 0.5134 - accuracy: 0.8262 - val_loss: 0.4615 - val_accuracy: 0.8357\n",
            "Epoch 23/300\n",
            "60/60 [==============================] - 0s 2ms/step - loss: 0.4881 - accuracy: 0.8231 - val_loss: 0.4401 - val_accuracy: 0.8420\n",
            "Epoch 24/300\n",
            "60/60 [==============================] - 0s 2ms/step - loss: 0.4856 - accuracy: 0.8320 - val_loss: 0.4886 - val_accuracy: 0.8025\n",
            "Epoch 25/300\n",
            "60/60 [==============================] - 0s 2ms/step - loss: 0.4846 - accuracy: 0.8278 - val_loss: 0.4454 - val_accuracy: 0.8468\n",
            "Epoch 26/300\n",
            "60/60 [==============================] - 0s 2ms/step - loss: 0.4676 - accuracy: 0.8399 - val_loss: 0.4411 - val_accuracy: 0.8468\n",
            "Epoch 27/300\n",
            "60/60 [==============================] - 0s 2ms/step - loss: 0.4577 - accuracy: 0.8362 - val_loss: 0.4136 - val_accuracy: 0.8641\n",
            "Epoch 28/300\n",
            "60/60 [==============================] - 0s 2ms/step - loss: 0.4495 - accuracy: 0.8473 - val_loss: 0.4640 - val_accuracy: 0.8199\n",
            "Epoch 29/300\n",
            "60/60 [==============================] - 0s 2ms/step - loss: 0.4376 - accuracy: 0.8415 - val_loss: 0.3939 - val_accuracy: 0.8626\n",
            "Epoch 30/300\n",
            "60/60 [==============================] - 0s 2ms/step - loss: 0.4443 - accuracy: 0.8568 - val_loss: 0.4064 - val_accuracy: 0.8499\n",
            "Epoch 31/300\n",
            "60/60 [==============================] - 0s 2ms/step - loss: 0.4080 - accuracy: 0.8636 - val_loss: 0.4118 - val_accuracy: 0.8325\n",
            "Epoch 32/300\n",
            "60/60 [==============================] - 0s 2ms/step - loss: 0.4093 - accuracy: 0.8647 - val_loss: 0.4074 - val_accuracy: 0.8594\n",
            "Epoch 33/300\n",
            "60/60 [==============================] - 0s 2ms/step - loss: 0.3989 - accuracy: 0.8657 - val_loss: 0.4412 - val_accuracy: 0.8373\n",
            "Epoch 34/300\n",
            "60/60 [==============================] - 0s 2ms/step - loss: 0.3950 - accuracy: 0.8631 - val_loss: 0.3583 - val_accuracy: 0.8784\n",
            "Epoch 35/300\n",
            "60/60 [==============================] - 0s 2ms/step - loss: 0.3914 - accuracy: 0.8673 - val_loss: 0.3330 - val_accuracy: 0.8894\n",
            "Epoch 36/300\n",
            "60/60 [==============================] - 0s 2ms/step - loss: 0.3890 - accuracy: 0.8705 - val_loss: 0.3615 - val_accuracy: 0.8973\n",
            "Epoch 37/300\n",
            "60/60 [==============================] - 0s 2ms/step - loss: 0.3710 - accuracy: 0.8820 - val_loss: 0.4168 - val_accuracy: 0.8357\n",
            "Epoch 38/300\n",
            "60/60 [==============================] - 0s 2ms/step - loss: 0.3570 - accuracy: 0.8805 - val_loss: 0.3222 - val_accuracy: 0.8942\n",
            "Epoch 39/300\n",
            "60/60 [==============================] - 0s 2ms/step - loss: 0.3547 - accuracy: 0.8805 - val_loss: 0.3162 - val_accuracy: 0.8942\n",
            "Epoch 40/300\n",
            "60/60 [==============================] - 0s 2ms/step - loss: 0.3510 - accuracy: 0.8878 - val_loss: 0.4200 - val_accuracy: 0.8499\n",
            "Epoch 41/300\n",
            "60/60 [==============================] - 0s 2ms/step - loss: 0.3585 - accuracy: 0.8810 - val_loss: 0.3173 - val_accuracy: 0.8894\n",
            "Epoch 42/300\n",
            "60/60 [==============================] - 0s 2ms/step - loss: 0.3252 - accuracy: 0.8889 - val_loss: 0.3102 - val_accuracy: 0.8973\n",
            "Epoch 43/300\n",
            "60/60 [==============================] - 0s 2ms/step - loss: 0.3254 - accuracy: 0.8863 - val_loss: 0.3264 - val_accuracy: 0.8720\n",
            "Epoch 44/300\n",
            "60/60 [==============================] - 0s 2ms/step - loss: 0.3256 - accuracy: 0.8889 - val_loss: 0.3515 - val_accuracy: 0.8878\n",
            "Epoch 45/300\n",
            "60/60 [==============================] - 0s 2ms/step - loss: 0.3165 - accuracy: 0.8905 - val_loss: 0.3101 - val_accuracy: 0.8989\n",
            "Epoch 46/300\n",
            "60/60 [==============================] - 0s 2ms/step - loss: 0.3135 - accuracy: 0.8920 - val_loss: 0.3352 - val_accuracy: 0.8657\n",
            "Epoch 47/300\n",
            "60/60 [==============================] - 0s 2ms/step - loss: 0.3105 - accuracy: 0.8984 - val_loss: 0.2876 - val_accuracy: 0.9005\n",
            "Epoch 48/300\n",
            "60/60 [==============================] - 0s 2ms/step - loss: 0.2902 - accuracy: 0.9026 - val_loss: 0.2680 - val_accuracy: 0.9100\n",
            "Epoch 49/300\n",
            "60/60 [==============================] - 0s 2ms/step - loss: 0.3127 - accuracy: 0.9047 - val_loss: 0.2672 - val_accuracy: 0.9100\n",
            "Epoch 50/300\n",
            "60/60 [==============================] - 0s 2ms/step - loss: 0.2958 - accuracy: 0.8984 - val_loss: 0.3574 - val_accuracy: 0.8641\n",
            "Epoch 51/300\n",
            "60/60 [==============================] - 0s 2ms/step - loss: 0.2952 - accuracy: 0.9089 - val_loss: 0.3796 - val_accuracy: 0.8531\n",
            "Epoch 52/300\n",
            "60/60 [==============================] - 0s 2ms/step - loss: 0.3030 - accuracy: 0.8984 - val_loss: 0.2548 - val_accuracy: 0.9163\n",
            "Epoch 53/300\n",
            "60/60 [==============================] - 0s 2ms/step - loss: 0.2610 - accuracy: 0.9142 - val_loss: 0.2522 - val_accuracy: 0.9084\n",
            "Epoch 54/300\n",
            "60/60 [==============================] - 0s 2ms/step - loss: 0.2685 - accuracy: 0.9084 - val_loss: 0.2460 - val_accuracy: 0.9242\n",
            "Epoch 55/300\n",
            "60/60 [==============================] - 0s 2ms/step - loss: 0.2793 - accuracy: 0.9100 - val_loss: 0.2750 - val_accuracy: 0.8926\n",
            "Epoch 56/300\n",
            "60/60 [==============================] - 0s 2ms/step - loss: 0.2675 - accuracy: 0.9105 - val_loss: 0.2503 - val_accuracy: 0.9179\n",
            "Epoch 57/300\n",
            "60/60 [==============================] - 0s 2ms/step - loss: 0.2534 - accuracy: 0.9152 - val_loss: 0.2568 - val_accuracy: 0.9147\n",
            "Epoch 58/300\n",
            "60/60 [==============================] - 0s 2ms/step - loss: 0.2605 - accuracy: 0.9121 - val_loss: 0.2334 - val_accuracy: 0.9210\n",
            "Epoch 59/300\n",
            "60/60 [==============================] - 0s 2ms/step - loss: 0.2530 - accuracy: 0.9163 - val_loss: 0.2517 - val_accuracy: 0.9052\n",
            "Epoch 60/300\n",
            "60/60 [==============================] - 0s 2ms/step - loss: 0.2621 - accuracy: 0.9063 - val_loss: 0.2144 - val_accuracy: 0.9258\n",
            "Epoch 61/300\n",
            "60/60 [==============================] - 0s 2ms/step - loss: 0.2433 - accuracy: 0.9184 - val_loss: 0.2814 - val_accuracy: 0.8847\n",
            "Epoch 62/300\n",
            "60/60 [==============================] - 0s 2ms/step - loss: 0.2389 - accuracy: 0.9173 - val_loss: 0.2027 - val_accuracy: 0.9273\n",
            "Epoch 63/300\n",
            "60/60 [==============================] - 0s 2ms/step - loss: 0.2334 - accuracy: 0.9221 - val_loss: 0.1996 - val_accuracy: 0.9321\n",
            "Epoch 64/300\n",
            "60/60 [==============================] - 0s 2ms/step - loss: 0.2271 - accuracy: 0.9236 - val_loss: 0.2359 - val_accuracy: 0.9147\n",
            "Epoch 65/300\n",
            "60/60 [==============================] - 0s 2ms/step - loss: 0.2259 - accuracy: 0.9231 - val_loss: 0.2202 - val_accuracy: 0.9415\n",
            "Epoch 66/300\n",
            "60/60 [==============================] - 0s 2ms/step - loss: 0.2192 - accuracy: 0.9242 - val_loss: 0.2141 - val_accuracy: 0.9305\n",
            "Epoch 67/300\n",
            "60/60 [==============================] - 0s 2ms/step - loss: 0.2194 - accuracy: 0.9252 - val_loss: 0.3244 - val_accuracy: 0.8989\n",
            "Epoch 68/300\n",
            "60/60 [==============================] - 0s 2ms/step - loss: 0.2151 - accuracy: 0.9231 - val_loss: 0.2138 - val_accuracy: 0.9242\n",
            "Epoch 69/300\n",
            "60/60 [==============================] - 0s 2ms/step - loss: 0.2038 - accuracy: 0.9305 - val_loss: 0.2030 - val_accuracy: 0.9258\n",
            "Epoch 70/300\n",
            "60/60 [==============================] - 0s 2ms/step - loss: 0.2100 - accuracy: 0.9263 - val_loss: 0.2058 - val_accuracy: 0.9400\n",
            "Epoch 71/300\n",
            "60/60 [==============================] - 0s 3ms/step - loss: 0.2029 - accuracy: 0.9279 - val_loss: 0.2212 - val_accuracy: 0.9210\n",
            "Epoch 72/300\n",
            "60/60 [==============================] - 0s 2ms/step - loss: 0.1986 - accuracy: 0.9336 - val_loss: 0.1952 - val_accuracy: 0.9368\n",
            "Epoch 73/300\n",
            "60/60 [==============================] - 0s 2ms/step - loss: 0.1969 - accuracy: 0.9368 - val_loss: 0.2337 - val_accuracy: 0.9368\n",
            "Epoch 74/300\n",
            "60/60 [==============================] - 0s 2ms/step - loss: 0.2051 - accuracy: 0.9258 - val_loss: 0.1792 - val_accuracy: 0.9415\n",
            "Epoch 75/300\n",
            "60/60 [==============================] - 0s 2ms/step - loss: 0.1866 - accuracy: 0.9405 - val_loss: 0.1805 - val_accuracy: 0.9273\n",
            "Epoch 76/300\n",
            "60/60 [==============================] - 0s 2ms/step - loss: 0.2154 - accuracy: 0.9342 - val_loss: 0.1782 - val_accuracy: 0.9384\n",
            "Epoch 77/300\n",
            "60/60 [==============================] - 0s 2ms/step - loss: 0.1893 - accuracy: 0.9415 - val_loss: 0.2073 - val_accuracy: 0.9431\n",
            "Epoch 78/300\n",
            "60/60 [==============================] - 0s 2ms/step - loss: 0.2001 - accuracy: 0.9384 - val_loss: 0.1766 - val_accuracy: 0.9526\n",
            "Epoch 79/300\n",
            "60/60 [==============================] - 0s 2ms/step - loss: 0.1732 - accuracy: 0.9468 - val_loss: 0.1801 - val_accuracy: 0.9368\n",
            "Epoch 80/300\n",
            "60/60 [==============================] - 0s 2ms/step - loss: 0.1912 - accuracy: 0.9384 - val_loss: 0.1653 - val_accuracy: 0.9463\n",
            "Epoch 81/300\n",
            "60/60 [==============================] - 0s 2ms/step - loss: 0.1836 - accuracy: 0.9410 - val_loss: 0.1619 - val_accuracy: 0.9415\n",
            "Epoch 82/300\n",
            "60/60 [==============================] - 0s 2ms/step - loss: 0.1729 - accuracy: 0.9442 - val_loss: 0.1576 - val_accuracy: 0.9415\n",
            "Epoch 83/300\n",
            "60/60 [==============================] - 0s 2ms/step - loss: 0.1658 - accuracy: 0.9463 - val_loss: 0.1362 - val_accuracy: 0.9668\n",
            "Epoch 84/300\n",
            "60/60 [==============================] - 0s 2ms/step - loss: 0.1760 - accuracy: 0.9415 - val_loss: 0.1751 - val_accuracy: 0.9400\n",
            "Epoch 85/300\n",
            "60/60 [==============================] - 0s 2ms/step - loss: 0.1742 - accuracy: 0.9410 - val_loss: 0.1704 - val_accuracy: 0.9384\n",
            "Epoch 86/300\n",
            "60/60 [==============================] - 0s 2ms/step - loss: 0.1748 - accuracy: 0.9426 - val_loss: 0.1337 - val_accuracy: 0.9589\n",
            "Epoch 87/300\n",
            "60/60 [==============================] - 0s 2ms/step - loss: 0.1589 - accuracy: 0.9473 - val_loss: 0.3665 - val_accuracy: 0.8436\n",
            "Epoch 88/300\n",
            "60/60 [==============================] - 0s 2ms/step - loss: 0.1628 - accuracy: 0.9479 - val_loss: 0.1430 - val_accuracy: 0.9479\n",
            "Epoch 89/300\n",
            "60/60 [==============================] - 0s 2ms/step - loss: 0.1652 - accuracy: 0.9447 - val_loss: 0.1476 - val_accuracy: 0.9558\n",
            "Epoch 90/300\n",
            "60/60 [==============================] - 0s 2ms/step - loss: 0.1676 - accuracy: 0.9463 - val_loss: 0.2179 - val_accuracy: 0.9115\n",
            "Epoch 91/300\n",
            "60/60 [==============================] - 0s 2ms/step - loss: 0.1531 - accuracy: 0.9468 - val_loss: 0.1873 - val_accuracy: 0.9431\n",
            "Epoch 92/300\n",
            "60/60 [==============================] - 0s 2ms/step - loss: 0.1521 - accuracy: 0.9526 - val_loss: 0.2037 - val_accuracy: 0.9415\n",
            "Epoch 93/300\n",
            "60/60 [==============================] - 0s 2ms/step - loss: 0.1466 - accuracy: 0.9510 - val_loss: 0.1652 - val_accuracy: 0.9431\n",
            "Epoch 94/300\n",
            "60/60 [==============================] - 0s 2ms/step - loss: 0.1496 - accuracy: 0.9516 - val_loss: 0.1345 - val_accuracy: 0.9558\n",
            "Epoch 95/300\n",
            "60/60 [==============================] - 0s 2ms/step - loss: 0.1578 - accuracy: 0.9458 - val_loss: 0.1394 - val_accuracy: 0.9558\n",
            "Epoch 96/300\n",
            "60/60 [==============================] - 0s 2ms/step - loss: 0.1579 - accuracy: 0.9489 - val_loss: 0.1354 - val_accuracy: 0.9684\n",
            "Epoch 97/300\n",
            "60/60 [==============================] - 0s 2ms/step - loss: 0.1523 - accuracy: 0.9500 - val_loss: 0.1701 - val_accuracy: 0.9431\n",
            "Epoch 98/300\n",
            "60/60 [==============================] - 0s 2ms/step - loss: 0.1426 - accuracy: 0.9531 - val_loss: 0.1732 - val_accuracy: 0.9558\n",
            "Epoch 99/300\n",
            "60/60 [==============================] - 0s 2ms/step - loss: 0.1507 - accuracy: 0.9531 - val_loss: 0.1648 - val_accuracy: 0.9384\n",
            "Epoch 100/300\n",
            "60/60 [==============================] - 0s 2ms/step - loss: 0.1523 - accuracy: 0.9516 - val_loss: 0.2229 - val_accuracy: 0.9226\n",
            "Epoch 101/300\n",
            "60/60 [==============================] - 0s 2ms/step - loss: 0.1393 - accuracy: 0.9505 - val_loss: 0.1738 - val_accuracy: 0.9400\n",
            "Epoch 102/300\n",
            "60/60 [==============================] - 0s 2ms/step - loss: 0.1522 - accuracy: 0.9494 - val_loss: 0.2076 - val_accuracy: 0.9352\n",
            "Epoch 103/300\n",
            "60/60 [==============================] - 0s 2ms/step - loss: 0.1429 - accuracy: 0.9537 - val_loss: 0.1667 - val_accuracy: 0.9415\n",
            "Epoch 104/300\n",
            "60/60 [==============================] - 0s 2ms/step - loss: 0.1360 - accuracy: 0.9589 - val_loss: 0.1595 - val_accuracy: 0.9463\n",
            "Epoch 105/300\n",
            "60/60 [==============================] - 0s 2ms/step - loss: 0.1478 - accuracy: 0.9516 - val_loss: 0.1460 - val_accuracy: 0.9494\n",
            "Epoch 106/300\n",
            "60/60 [==============================] - 0s 2ms/step - loss: 0.1453 - accuracy: 0.9584 - val_loss: 0.2120 - val_accuracy: 0.9210\n",
            "Epoch 107/300\n",
            "60/60 [==============================] - 0s 2ms/step - loss: 0.1321 - accuracy: 0.9584 - val_loss: 0.1418 - val_accuracy: 0.9589\n",
            "Epoch 108/300\n",
            "60/60 [==============================] - 0s 2ms/step - loss: 0.1232 - accuracy: 0.9584 - val_loss: 0.1270 - val_accuracy: 0.9637\n",
            "Epoch 109/300\n",
            "60/60 [==============================] - 0s 2ms/step - loss: 0.1290 - accuracy: 0.9600 - val_loss: 0.4194 - val_accuracy: 0.8436\n",
            "Epoch 110/300\n",
            "60/60 [==============================] - 0s 2ms/step - loss: 0.1217 - accuracy: 0.9595 - val_loss: 0.1283 - val_accuracy: 0.9542\n",
            "Epoch 111/300\n",
            "60/60 [==============================] - 0s 2ms/step - loss: 0.1333 - accuracy: 0.9558 - val_loss: 0.1523 - val_accuracy: 0.9558\n",
            "Epoch 112/300\n",
            "60/60 [==============================] - 0s 2ms/step - loss: 0.1318 - accuracy: 0.9542 - val_loss: 0.1871 - val_accuracy: 0.9368\n",
            "Epoch 113/300\n",
            "60/60 [==============================] - 0s 2ms/step - loss: 0.1432 - accuracy: 0.9584 - val_loss: 0.1147 - val_accuracy: 0.9652\n",
            "Epoch 114/300\n",
            "60/60 [==============================] - 0s 2ms/step - loss: 0.1046 - accuracy: 0.9679 - val_loss: 0.1009 - val_accuracy: 0.9652\n",
            "Epoch 115/300\n",
            "60/60 [==============================] - 0s 2ms/step - loss: 0.1316 - accuracy: 0.9605 - val_loss: 0.2043 - val_accuracy: 0.9258\n",
            "Epoch 116/300\n",
            "60/60 [==============================] - 0s 2ms/step - loss: 0.1190 - accuracy: 0.9631 - val_loss: 0.0888 - val_accuracy: 0.9779\n",
            "Epoch 117/300\n",
            "60/60 [==============================] - 0s 2ms/step - loss: 0.1349 - accuracy: 0.9542 - val_loss: 0.1155 - val_accuracy: 0.9589\n",
            "Epoch 118/300\n",
            "60/60 [==============================] - 0s 2ms/step - loss: 0.1104 - accuracy: 0.9626 - val_loss: 0.1229 - val_accuracy: 0.9621\n",
            "Epoch 119/300\n",
            "60/60 [==============================] - 0s 2ms/step - loss: 0.1154 - accuracy: 0.9616 - val_loss: 0.1704 - val_accuracy: 0.9447\n",
            "Epoch 120/300\n",
            "60/60 [==============================] - 0s 2ms/step - loss: 0.1135 - accuracy: 0.9658 - val_loss: 0.1320 - val_accuracy: 0.9479\n",
            "Epoch 121/300\n",
            "60/60 [==============================] - 0s 2ms/step - loss: 0.1185 - accuracy: 0.9595 - val_loss: 0.1154 - val_accuracy: 0.9605\n",
            "Epoch 122/300\n",
            "60/60 [==============================] - 0s 2ms/step - loss: 0.1198 - accuracy: 0.9631 - val_loss: 0.0957 - val_accuracy: 0.9668\n",
            "Epoch 123/300\n",
            "60/60 [==============================] - 0s 2ms/step - loss: 0.1311 - accuracy: 0.9526 - val_loss: 0.1062 - val_accuracy: 0.9652\n",
            "Epoch 124/300\n",
            "60/60 [==============================] - 0s 3ms/step - loss: 0.1245 - accuracy: 0.9610 - val_loss: 0.1220 - val_accuracy: 0.9573\n",
            "Epoch 125/300\n",
            "60/60 [==============================] - 0s 2ms/step - loss: 0.1127 - accuracy: 0.9563 - val_loss: 0.1862 - val_accuracy: 0.9479\n",
            "Epoch 126/300\n",
            "60/60 [==============================] - 0s 2ms/step - loss: 0.1153 - accuracy: 0.9595 - val_loss: 0.1235 - val_accuracy: 0.9637\n",
            "Epoch 127/300\n",
            "60/60 [==============================] - 0s 2ms/step - loss: 0.1146 - accuracy: 0.9637 - val_loss: 0.1614 - val_accuracy: 0.9368\n",
            "Epoch 128/300\n",
            "60/60 [==============================] - 0s 2ms/step - loss: 0.1286 - accuracy: 0.9542 - val_loss: 0.1579 - val_accuracy: 0.9479\n",
            "Epoch 129/300\n",
            "60/60 [==============================] - 0s 2ms/step - loss: 0.1049 - accuracy: 0.9642 - val_loss: 0.1233 - val_accuracy: 0.9542\n",
            "Epoch 130/300\n",
            "60/60 [==============================] - 0s 2ms/step - loss: 0.1206 - accuracy: 0.9589 - val_loss: 0.1028 - val_accuracy: 0.9637\n",
            "Epoch 131/300\n",
            "60/60 [==============================] - 0s 2ms/step - loss: 0.1229 - accuracy: 0.9573 - val_loss: 0.0960 - val_accuracy: 0.9731\n",
            "Epoch 132/300\n",
            "60/60 [==============================] - 0s 2ms/step - loss: 0.1016 - accuracy: 0.9684 - val_loss: 0.1214 - val_accuracy: 0.9684\n",
            "Epoch 133/300\n",
            "60/60 [==============================] - 0s 2ms/step - loss: 0.1280 - accuracy: 0.9637 - val_loss: 0.1819 - val_accuracy: 0.9384\n",
            "Epoch 134/300\n",
            "60/60 [==============================] - 0s 2ms/step - loss: 0.1052 - accuracy: 0.9668 - val_loss: 0.1016 - val_accuracy: 0.9684\n",
            "Epoch 135/300\n",
            "60/60 [==============================] - 0s 2ms/step - loss: 0.1024 - accuracy: 0.9642 - val_loss: 0.1191 - val_accuracy: 0.9652\n",
            "Epoch 136/300\n",
            "60/60 [==============================] - 0s 2ms/step - loss: 0.1132 - accuracy: 0.9663 - val_loss: 0.1375 - val_accuracy: 0.9542\n",
            "Epoch 137/300\n",
            "60/60 [==============================] - 0s 2ms/step - loss: 0.1212 - accuracy: 0.9631 - val_loss: 0.0939 - val_accuracy: 0.9637\n",
            "Epoch 138/300\n",
            "60/60 [==============================] - 0s 2ms/step - loss: 0.1005 - accuracy: 0.9642 - val_loss: 0.1812 - val_accuracy: 0.9400\n",
            "Epoch 139/300\n",
            "60/60 [==============================] - 0s 2ms/step - loss: 0.1007 - accuracy: 0.9679 - val_loss: 0.2243 - val_accuracy: 0.9068\n",
            "Epoch 140/300\n",
            "60/60 [==============================] - 0s 2ms/step - loss: 0.1184 - accuracy: 0.9600 - val_loss: 0.1334 - val_accuracy: 0.9558\n",
            "Epoch 141/300\n",
            "60/60 [==============================] - 0s 2ms/step - loss: 0.1037 - accuracy: 0.9674 - val_loss: 0.0885 - val_accuracy: 0.9716\n",
            "Epoch 142/300\n",
            "60/60 [==============================] - 0s 2ms/step - loss: 0.1138 - accuracy: 0.9647 - val_loss: 0.0939 - val_accuracy: 0.9652\n",
            "Epoch 143/300\n",
            "60/60 [==============================] - 0s 2ms/step - loss: 0.0928 - accuracy: 0.9705 - val_loss: 0.0821 - val_accuracy: 0.9716\n",
            "Epoch 144/300\n",
            "60/60 [==============================] - 0s 2ms/step - loss: 0.1113 - accuracy: 0.9674 - val_loss: 0.1250 - val_accuracy: 0.9558\n",
            "Epoch 145/300\n",
            "60/60 [==============================] - 0s 2ms/step - loss: 0.1027 - accuracy: 0.9658 - val_loss: 0.0823 - val_accuracy: 0.9779\n",
            "Epoch 146/300\n",
            "60/60 [==============================] - 0s 2ms/step - loss: 0.1121 - accuracy: 0.9652 - val_loss: 0.0904 - val_accuracy: 0.9779\n",
            "Epoch 147/300\n",
            "60/60 [==============================] - 0s 2ms/step - loss: 0.0875 - accuracy: 0.9758 - val_loss: 0.1046 - val_accuracy: 0.9652\n",
            "Epoch 148/300\n",
            "60/60 [==============================] - 0s 2ms/step - loss: 0.1200 - accuracy: 0.9647 - val_loss: 0.0884 - val_accuracy: 0.9731\n",
            "Epoch 149/300\n",
            "60/60 [==============================] - 0s 2ms/step - loss: 0.0962 - accuracy: 0.9652 - val_loss: 0.0998 - val_accuracy: 0.9700\n",
            "Epoch 150/300\n",
            "60/60 [==============================] - 0s 2ms/step - loss: 0.1021 - accuracy: 0.9679 - val_loss: 0.1125 - val_accuracy: 0.9573\n",
            "Epoch 151/300\n",
            "60/60 [==============================] - 0s 2ms/step - loss: 0.1075 - accuracy: 0.9616 - val_loss: 0.0928 - val_accuracy: 0.9700\n",
            "Epoch 152/300\n",
            "60/60 [==============================] - 0s 2ms/step - loss: 0.0900 - accuracy: 0.9721 - val_loss: 0.0858 - val_accuracy: 0.9731\n",
            "Epoch 153/300\n",
            "60/60 [==============================] - 0s 2ms/step - loss: 0.0952 - accuracy: 0.9658 - val_loss: 0.1533 - val_accuracy: 0.9510\n",
            "Epoch 154/300\n",
            "60/60 [==============================] - 0s 2ms/step - loss: 0.0957 - accuracy: 0.9679 - val_loss: 0.2487 - val_accuracy: 0.9131\n",
            "Epoch 155/300\n",
            "60/60 [==============================] - 0s 2ms/step - loss: 0.1017 - accuracy: 0.9668 - val_loss: 0.1456 - val_accuracy: 0.9526\n",
            "Epoch 156/300\n",
            "60/60 [==============================] - 0s 2ms/step - loss: 0.0995 - accuracy: 0.9658 - val_loss: 0.0846 - val_accuracy: 0.9716\n",
            "Epoch 157/300\n",
            "60/60 [==============================] - 0s 2ms/step - loss: 0.0907 - accuracy: 0.9726 - val_loss: 0.1464 - val_accuracy: 0.9542\n",
            "Epoch 158/300\n",
            "60/60 [==============================] - 0s 2ms/step - loss: 0.1095 - accuracy: 0.9668 - val_loss: 0.0879 - val_accuracy: 0.9731\n",
            "Epoch 159/300\n",
            "60/60 [==============================] - 0s 2ms/step - loss: 0.1131 - accuracy: 0.9637 - val_loss: 0.0802 - val_accuracy: 0.9731\n",
            "Epoch 160/300\n",
            "60/60 [==============================] - 0s 2ms/step - loss: 0.0856 - accuracy: 0.9716 - val_loss: 0.1003 - val_accuracy: 0.9731\n",
            "Epoch 161/300\n",
            "60/60 [==============================] - 0s 2ms/step - loss: 0.1026 - accuracy: 0.9621 - val_loss: 0.0991 - val_accuracy: 0.9605\n",
            "Epoch 162/300\n",
            "60/60 [==============================] - 0s 2ms/step - loss: 0.0855 - accuracy: 0.9726 - val_loss: 0.1969 - val_accuracy: 0.9305\n",
            "Epoch 163/300\n",
            "60/60 [==============================] - 0s 2ms/step - loss: 0.0876 - accuracy: 0.9726 - val_loss: 0.0809 - val_accuracy: 0.9747\n",
            "Epoch 164/300\n",
            "60/60 [==============================] - 0s 2ms/step - loss: 0.0803 - accuracy: 0.9716 - val_loss: 0.1270 - val_accuracy: 0.9573\n",
            "Epoch 165/300\n",
            "60/60 [==============================] - 0s 2ms/step - loss: 0.1009 - accuracy: 0.9642 - val_loss: 0.1251 - val_accuracy: 0.9573\n",
            "Epoch 166/300\n",
            "60/60 [==============================] - 0s 2ms/step - loss: 0.0855 - accuracy: 0.9700 - val_loss: 0.0802 - val_accuracy: 0.9747\n",
            "Epoch 167/300\n",
            "60/60 [==============================] - 0s 2ms/step - loss: 0.0810 - accuracy: 0.9742 - val_loss: 0.0809 - val_accuracy: 0.9747\n",
            "Epoch 168/300\n",
            "60/60 [==============================] - 0s 3ms/step - loss: 0.1127 - accuracy: 0.9631 - val_loss: 0.1021 - val_accuracy: 0.9684\n",
            "Epoch 169/300\n",
            "60/60 [==============================] - 0s 2ms/step - loss: 0.0930 - accuracy: 0.9705 - val_loss: 0.0793 - val_accuracy: 0.9795\n",
            "Epoch 170/300\n",
            "60/60 [==============================] - 0s 2ms/step - loss: 0.0875 - accuracy: 0.9710 - val_loss: 0.0903 - val_accuracy: 0.9637\n",
            "Epoch 171/300\n",
            "60/60 [==============================] - 0s 2ms/step - loss: 0.0912 - accuracy: 0.9679 - val_loss: 0.0945 - val_accuracy: 0.9684\n",
            "Epoch 172/300\n",
            "60/60 [==============================] - 0s 2ms/step - loss: 0.0905 - accuracy: 0.9689 - val_loss: 0.1070 - val_accuracy: 0.9605\n",
            "Epoch 173/300\n",
            "60/60 [==============================] - 0s 2ms/step - loss: 0.0942 - accuracy: 0.9684 - val_loss: 0.1009 - val_accuracy: 0.9684\n",
            "Epoch 174/300\n",
            "60/60 [==============================] - 0s 2ms/step - loss: 0.0953 - accuracy: 0.9647 - val_loss: 0.1947 - val_accuracy: 0.9384\n",
            "Epoch 175/300\n",
            "60/60 [==============================] - 0s 2ms/step - loss: 0.0959 - accuracy: 0.9689 - val_loss: 0.0926 - val_accuracy: 0.9763\n",
            "Epoch 176/300\n",
            "60/60 [==============================] - 0s 2ms/step - loss: 0.0981 - accuracy: 0.9679 - val_loss: 0.0786 - val_accuracy: 0.9763\n",
            "Epoch 177/300\n",
            "60/60 [==============================] - 0s 2ms/step - loss: 0.0924 - accuracy: 0.9716 - val_loss: 0.1119 - val_accuracy: 0.9605\n",
            "Epoch 178/300\n",
            "60/60 [==============================] - 0s 2ms/step - loss: 0.0838 - accuracy: 0.9753 - val_loss: 0.0644 - val_accuracy: 0.9810\n",
            "Epoch 179/300\n",
            "60/60 [==============================] - 0s 2ms/step - loss: 0.0820 - accuracy: 0.9742 - val_loss: 0.2091 - val_accuracy: 0.9147\n",
            "Epoch 180/300\n",
            "60/60 [==============================] - 0s 2ms/step - loss: 0.0872 - accuracy: 0.9716 - val_loss: 0.0668 - val_accuracy: 0.9810\n",
            "Epoch 181/300\n",
            "60/60 [==============================] - 0s 2ms/step - loss: 0.0925 - accuracy: 0.9737 - val_loss: 0.0679 - val_accuracy: 0.9810\n",
            "Epoch 182/300\n",
            "60/60 [==============================] - 0s 2ms/step - loss: 0.0851 - accuracy: 0.9731 - val_loss: 0.1183 - val_accuracy: 0.9605\n",
            "Epoch 183/300\n",
            "60/60 [==============================] - 0s 2ms/step - loss: 0.0875 - accuracy: 0.9716 - val_loss: 0.0758 - val_accuracy: 0.9779\n",
            "Epoch 184/300\n",
            "60/60 [==============================] - 0s 2ms/step - loss: 0.0728 - accuracy: 0.9774 - val_loss: 0.0684 - val_accuracy: 0.9810\n",
            "Epoch 185/300\n",
            "60/60 [==============================] - 0s 2ms/step - loss: 0.0732 - accuracy: 0.9784 - val_loss: 0.0959 - val_accuracy: 0.9716\n",
            "Epoch 186/300\n",
            "60/60 [==============================] - 0s 2ms/step - loss: 0.0760 - accuracy: 0.9705 - val_loss: 0.0863 - val_accuracy: 0.9731\n",
            "Epoch 187/300\n",
            "60/60 [==============================] - 0s 2ms/step - loss: 0.0834 - accuracy: 0.9716 - val_loss: 0.0770 - val_accuracy: 0.9763\n",
            "Epoch 188/300\n",
            "60/60 [==============================] - 0s 2ms/step - loss: 0.0803 - accuracy: 0.9758 - val_loss: 0.1054 - val_accuracy: 0.9637\n",
            "Epoch 189/300\n",
            "60/60 [==============================] - 0s 2ms/step - loss: 0.0811 - accuracy: 0.9716 - val_loss: 0.0616 - val_accuracy: 0.9810\n",
            "Epoch 190/300\n",
            "60/60 [==============================] - 0s 2ms/step - loss: 0.0891 - accuracy: 0.9721 - val_loss: 0.0794 - val_accuracy: 0.9700\n",
            "Epoch 191/300\n",
            "60/60 [==============================] - 0s 2ms/step - loss: 0.0869 - accuracy: 0.9726 - val_loss: 0.0840 - val_accuracy: 0.9731\n",
            "Epoch 192/300\n",
            "60/60 [==============================] - 0s 2ms/step - loss: 0.0949 - accuracy: 0.9689 - val_loss: 0.0674 - val_accuracy: 0.9810\n",
            "Epoch 193/300\n",
            "60/60 [==============================] - 0s 2ms/step - loss: 0.0887 - accuracy: 0.9716 - val_loss: 0.0965 - val_accuracy: 0.9652\n",
            "Epoch 194/300\n",
            "60/60 [==============================] - 0s 2ms/step - loss: 0.0828 - accuracy: 0.9763 - val_loss: 0.0724 - val_accuracy: 0.9810\n",
            "Epoch 195/300\n",
            "60/60 [==============================] - 0s 2ms/step - loss: 0.0821 - accuracy: 0.9737 - val_loss: 0.1096 - val_accuracy: 0.9542\n",
            "Epoch 196/300\n",
            "60/60 [==============================] - 0s 2ms/step - loss: 0.0704 - accuracy: 0.9753 - val_loss: 0.0902 - val_accuracy: 0.9700\n",
            "Epoch 197/300\n",
            "60/60 [==============================] - 0s 2ms/step - loss: 0.0934 - accuracy: 0.9700 - val_loss: 0.1511 - val_accuracy: 0.9463\n",
            "Epoch 198/300\n",
            "60/60 [==============================] - 0s 2ms/step - loss: 0.0926 - accuracy: 0.9700 - val_loss: 0.0602 - val_accuracy: 0.9795\n",
            "Epoch 199/300\n",
            "60/60 [==============================] - 0s 2ms/step - loss: 0.0870 - accuracy: 0.9731 - val_loss: 0.2077 - val_accuracy: 0.9368\n",
            "Epoch 200/300\n",
            "60/60 [==============================] - 0s 2ms/step - loss: 0.0675 - accuracy: 0.9800 - val_loss: 0.0978 - val_accuracy: 0.9652\n",
            "Epoch 201/300\n",
            "60/60 [==============================] - 0s 2ms/step - loss: 0.0982 - accuracy: 0.9726 - val_loss: 0.1521 - val_accuracy: 0.9526\n",
            "Epoch 202/300\n",
            "60/60 [==============================] - 0s 2ms/step - loss: 0.0764 - accuracy: 0.9763 - val_loss: 0.0695 - val_accuracy: 0.9779\n",
            "Epoch 203/300\n",
            "60/60 [==============================] - 0s 2ms/step - loss: 0.0629 - accuracy: 0.9774 - val_loss: 0.0927 - val_accuracy: 0.9668\n",
            "Epoch 204/300\n",
            "60/60 [==============================] - 0s 2ms/step - loss: 0.0736 - accuracy: 0.9763 - val_loss: 0.0760 - val_accuracy: 0.9747\n",
            "Epoch 205/300\n",
            "60/60 [==============================] - 0s 2ms/step - loss: 0.0886 - accuracy: 0.9747 - val_loss: 0.1219 - val_accuracy: 0.9637\n",
            "Epoch 206/300\n",
            "60/60 [==============================] - 0s 2ms/step - loss: 0.0858 - accuracy: 0.9710 - val_loss: 0.1223 - val_accuracy: 0.9558\n",
            "Epoch 207/300\n",
            "60/60 [==============================] - 0s 2ms/step - loss: 0.0727 - accuracy: 0.9763 - val_loss: 0.0786 - val_accuracy: 0.9716\n",
            "Epoch 208/300\n",
            "60/60 [==============================] - 0s 2ms/step - loss: 0.0885 - accuracy: 0.9668 - val_loss: 0.0813 - val_accuracy: 0.9731\n",
            "Epoch 209/300\n",
            "60/60 [==============================] - 0s 2ms/step - loss: 0.0807 - accuracy: 0.9726 - val_loss: 0.0736 - val_accuracy: 0.9779\n",
            "Epoch 210/300\n",
            "60/60 [==============================] - 0s 2ms/step - loss: 0.0716 - accuracy: 0.9816 - val_loss: 0.0740 - val_accuracy: 0.9747\n",
            "Epoch 211/300\n",
            "60/60 [==============================] - 0s 2ms/step - loss: 0.0653 - accuracy: 0.9774 - val_loss: 0.0714 - val_accuracy: 0.9763\n",
            "Epoch 212/300\n",
            "60/60 [==============================] - 0s 2ms/step - loss: 0.0761 - accuracy: 0.9753 - val_loss: 0.0605 - val_accuracy: 0.9842\n",
            "Epoch 213/300\n",
            "60/60 [==============================] - 0s 2ms/step - loss: 0.0794 - accuracy: 0.9774 - val_loss: 0.0620 - val_accuracy: 0.9826\n",
            "Epoch 214/300\n",
            "60/60 [==============================] - 0s 2ms/step - loss: 0.0662 - accuracy: 0.9768 - val_loss: 0.0654 - val_accuracy: 0.9826\n",
            "Epoch 215/300\n",
            "60/60 [==============================] - 0s 2ms/step - loss: 0.0776 - accuracy: 0.9795 - val_loss: 0.0738 - val_accuracy: 0.9763\n",
            "Epoch 216/300\n",
            "60/60 [==============================] - 0s 2ms/step - loss: 0.0738 - accuracy: 0.9726 - val_loss: 0.0666 - val_accuracy: 0.9810\n",
            "Epoch 217/300\n",
            "60/60 [==============================] - 0s 2ms/step - loss: 0.0657 - accuracy: 0.9779 - val_loss: 0.0777 - val_accuracy: 0.9731\n",
            "Epoch 218/300\n",
            "60/60 [==============================] - 0s 2ms/step - loss: 0.0883 - accuracy: 0.9731 - val_loss: 0.0710 - val_accuracy: 0.9763\n",
            "Epoch 219/300\n",
            "60/60 [==============================] - 0s 2ms/step - loss: 0.0702 - accuracy: 0.9821 - val_loss: 0.0648 - val_accuracy: 0.9779\n",
            "Epoch 220/300\n",
            "60/60 [==============================] - 0s 2ms/step - loss: 0.0777 - accuracy: 0.9763 - val_loss: 0.0634 - val_accuracy: 0.9795\n",
            "Epoch 221/300\n",
            "60/60 [==============================] - 0s 2ms/step - loss: 0.0609 - accuracy: 0.9784 - val_loss: 0.0689 - val_accuracy: 0.9810\n",
            "Epoch 222/300\n",
            "60/60 [==============================] - 0s 2ms/step - loss: 0.0673 - accuracy: 0.9768 - val_loss: 0.1252 - val_accuracy: 0.9573\n",
            "Epoch 223/300\n",
            "60/60 [==============================] - 0s 2ms/step - loss: 0.0609 - accuracy: 0.9795 - val_loss: 0.0790 - val_accuracy: 0.9747\n"
          ]
        }
      ]
    },
    {
      "cell_type": "code",
      "metadata": {
        "id": "M02fUUvJl7hS"
      },
      "source": [
        "losses = pd.DataFrame(model.history.history)"
      ],
      "execution_count": null,
      "outputs": []
    },
    {
      "cell_type": "code",
      "metadata": {
        "colab": {
          "base_uri": "https://localhost:8080/",
          "height": 419
        },
        "id": "KBjfmPnDl7jp",
        "outputId": "53d68dd0-5c57-4edc-ca96-78ed35980889"
      },
      "source": [
        "losses"
      ],
      "execution_count": null,
      "outputs": [
        {
          "output_type": "execute_result",
          "data": {
            "text/html": [
              "<div>\n",
              "<style scoped>\n",
              "    .dataframe tbody tr th:only-of-type {\n",
              "        vertical-align: middle;\n",
              "    }\n",
              "\n",
              "    .dataframe tbody tr th {\n",
              "        vertical-align: top;\n",
              "    }\n",
              "\n",
              "    .dataframe thead th {\n",
              "        text-align: right;\n",
              "    }\n",
              "</style>\n",
              "<table border=\"1\" class=\"dataframe\">\n",
              "  <thead>\n",
              "    <tr style=\"text-align: right;\">\n",
              "      <th></th>\n",
              "      <th>loss</th>\n",
              "      <th>accuracy</th>\n",
              "      <th>val_loss</th>\n",
              "      <th>val_accuracy</th>\n",
              "    </tr>\n",
              "  </thead>\n",
              "  <tbody>\n",
              "    <tr>\n",
              "      <th>0</th>\n",
              "      <td>3.138908</td>\n",
              "      <td>0.353870</td>\n",
              "      <td>2.954009</td>\n",
              "      <td>0.330174</td>\n",
              "    </tr>\n",
              "    <tr>\n",
              "      <th>1</th>\n",
              "      <td>1.897490</td>\n",
              "      <td>0.385466</td>\n",
              "      <td>1.404818</td>\n",
              "      <td>0.333333</td>\n",
              "    </tr>\n",
              "    <tr>\n",
              "      <th>2</th>\n",
              "      <td>1.466482</td>\n",
              "      <td>0.428647</td>\n",
              "      <td>1.630126</td>\n",
              "      <td>0.415482</td>\n",
              "    </tr>\n",
              "    <tr>\n",
              "      <th>3</th>\n",
              "      <td>1.283223</td>\n",
              "      <td>0.436019</td>\n",
              "      <td>0.931651</td>\n",
              "      <td>0.549763</td>\n",
              "    </tr>\n",
              "    <tr>\n",
              "      <th>4</th>\n",
              "      <td>1.085468</td>\n",
              "      <td>0.497630</td>\n",
              "      <td>1.271171</td>\n",
              "      <td>0.330174</td>\n",
              "    </tr>\n",
              "    <tr>\n",
              "      <th>...</th>\n",
              "      <td>...</td>\n",
              "      <td>...</td>\n",
              "      <td>...</td>\n",
              "      <td>...</td>\n",
              "    </tr>\n",
              "    <tr>\n",
              "      <th>218</th>\n",
              "      <td>0.070169</td>\n",
              "      <td>0.982096</td>\n",
              "      <td>0.064772</td>\n",
              "      <td>0.977883</td>\n",
              "    </tr>\n",
              "    <tr>\n",
              "      <th>219</th>\n",
              "      <td>0.077701</td>\n",
              "      <td>0.976303</td>\n",
              "      <td>0.063446</td>\n",
              "      <td>0.979463</td>\n",
              "    </tr>\n",
              "    <tr>\n",
              "      <th>220</th>\n",
              "      <td>0.060851</td>\n",
              "      <td>0.978410</td>\n",
              "      <td>0.068931</td>\n",
              "      <td>0.981043</td>\n",
              "    </tr>\n",
              "    <tr>\n",
              "      <th>221</th>\n",
              "      <td>0.067290</td>\n",
              "      <td>0.976830</td>\n",
              "      <td>0.125245</td>\n",
              "      <td>0.957346</td>\n",
              "    </tr>\n",
              "    <tr>\n",
              "      <th>222</th>\n",
              "      <td>0.060939</td>\n",
              "      <td>0.979463</td>\n",
              "      <td>0.079028</td>\n",
              "      <td>0.974724</td>\n",
              "    </tr>\n",
              "  </tbody>\n",
              "</table>\n",
              "<p>223 rows × 4 columns</p>\n",
              "</div>"
            ],
            "text/plain": [
              "         loss  accuracy  val_loss  val_accuracy\n",
              "0    3.138908  0.353870  2.954009      0.330174\n",
              "1    1.897490  0.385466  1.404818      0.333333\n",
              "2    1.466482  0.428647  1.630126      0.415482\n",
              "3    1.283223  0.436019  0.931651      0.549763\n",
              "4    1.085468  0.497630  1.271171      0.330174\n",
              "..        ...       ...       ...           ...\n",
              "218  0.070169  0.982096  0.064772      0.977883\n",
              "219  0.077701  0.976303  0.063446      0.979463\n",
              "220  0.060851  0.978410  0.068931      0.981043\n",
              "221  0.067290  0.976830  0.125245      0.957346\n",
              "222  0.060939  0.979463  0.079028      0.974724\n",
              "\n",
              "[223 rows x 4 columns]"
            ]
          },
          "metadata": {},
          "execution_count": 171
        }
      ]
    },
    {
      "cell_type": "code",
      "metadata": {
        "id": "eHqtDAJPo7BG"
      },
      "source": [
        "losses[]"
      ],
      "execution_count": null,
      "outputs": []
    },
    {
      "cell_type": "code",
      "metadata": {
        "colab": {
          "base_uri": "https://localhost:8080/",
          "height": 313
        },
        "id": "_XhbBa7XltdF",
        "outputId": "9697f0c6-7477-43e2-dd8c-5ad7e8ea3afe"
      },
      "source": [
        "plt.figure(figsize=(6,8))\n",
        "losses[['val_loss','loss']].plot()\n",
        "plt.xlabel('Epochs')\n",
        "plt.ylabel('Loss')"
      ],
      "execution_count": null,
      "outputs": [
        {
          "output_type": "execute_result",
          "data": {
            "text/plain": [
              "Text(0, 0.5, 'Loss')"
            ]
          },
          "metadata": {},
          "execution_count": 178
        },
        {
          "output_type": "display_data",
          "data": {
            "text/plain": [
              "<Figure size 432x576 with 0 Axes>"
            ]
          },
          "metadata": {}
        },
        {
          "output_type": "display_data",
          "data": {
            "image/png": "[encoded data removed]",
            "text/plain": [
              "<Figure size 432x288 with 1 Axes>"
            ]
          },
          "metadata": {
            "needs_background": "light"
          }
        }
      ]
    },
    {
      "cell_type": "code",
      "metadata": {
        "colab": {
          "base_uri": "https://localhost:8080/",
          "height": 313
        },
        "id": "y4gdvGTno2eM",
        "outputId": "4d33e6ca-1cf0-4506-a68d-c96ee0a39855"
      },
      "source": [
        "plt.figure(figsize=(6,8))\n",
        "losses[['val_accuracy','accuracy']].plot()\n",
        "plt.xlabel('Epochs')\n",
        "plt.ylabel('accuracy')"
      ],
      "execution_count": null,
      "outputs": [
        {
          "output_type": "execute_result",
          "data": {
            "text/plain": [
              "Text(0, 0.5, 'accuracy')"
            ]
          },
          "metadata": {},
          "execution_count": 179
        },
        {
          "output_type": "display_data",
          "data": {
            "text/plain": [
              "<Figure size 432x576 with 0 Axes>"
            ]
          },
          "metadata": {}
        },
        {
          "output_type": "display_data",
          "data": {
            "image/png": "[encoded data removed]",
            "text/plain": [
              "<Figure size 432x288 with 1 Axes>"
            ]
          },
          "metadata": {
            "needs_background": "light"
          }
        }
      ]
    },
    {
      "cell_type": "code",
      "metadata": {
        "id": "6J35LzKJpPbM"
      },
      "source": [
        "preds = model.predict(X_test)"
      ],
      "execution_count": null,
      "outputs": []
    },
    {
      "cell_type": "code",
      "metadata": {
        "colab": {
          "base_uri": "https://localhost:8080/"
        },
        "id": "4GO8xYtzpUfO",
        "outputId": "b30cdf75-e562-4e0e-b6f4-4b34c7205621"
      },
      "source": [
        "preds"
      ],
      "execution_count": null,
      "outputs": [
        {
          "output_type": "execute_result",
          "data": {
            "text/plain": [
              "array([[5.4959180e-31, 1.4345753e-18, 1.0000000e+00],\n",
              "       [1.6444970e-07, 9.9760121e-01, 2.3986946e-03],\n",
              "       [1.6432385e-04, 9.9412775e-01, 5.7079270e-03],\n",
              "       ...,\n",
              "       [5.2211219e-13, 4.3960622e-06, 9.9999559e-01],\n",
              "       [4.7475172e-05, 1.4559081e-01, 8.5436171e-01],\n",
              "       [1.6098991e-07, 9.9730068e-01, 2.6992448e-03]], dtype=float32)"
            ]
          },
          "metadata": {},
          "execution_count": 181
        }
      ]
    },
    {
      "cell_type": "code",
      "metadata": {
        "id": "lzNOzZ-PpVqj"
      },
      "source": [
        "predictions = np.argmax(preds, axis=1)"
      ],
      "execution_count": null,
      "outputs": []
    },
    {
      "cell_type": "code",
      "metadata": {
        "colab": {
          "base_uri": "https://localhost:8080/"
        },
        "id": "eqjiNwt1pZQx",
        "outputId": "2609ecdb-23e8-4324-ab05-6d1819bf6406"
      },
      "source": [
        "predictions"
      ],
      "execution_count": null,
      "outputs": [
        {
          "output_type": "execute_result",
          "data": {
            "text/plain": [
              "array([2, 1, 1, 1, 0, 2, 1, 1, 2, 1, 1, 0, 0, 2, 2, 1, 1, 2, 2, 1, 0, 1,\n",
              "       1, 2, 0, 0, 1, 0, 0, 0, 1, 2, 1, 1, 1, 1, 1, 0, 1, 0, 2, 0, 2, 2,\n",
              "       2, 2, 0, 2, 0, 0, 2, 1, 0, 2, 1, 2, 0, 1, 1, 0, 1, 1, 2, 1, 2, 1,\n",
              "       0, 0, 1, 0, 2, 0, 2, 2, 1, 1, 2, 2, 2, 1, 2, 1, 0, 0, 2, 1, 2, 2,\n",
              "       2, 0, 1, 2, 1, 2, 2, 0, 1, 1, 0, 1, 1, 1, 1, 2, 0, 2, 0, 1, 2, 2,\n",
              "       1, 0, 1, 0, 1, 2, 2, 2, 1, 0, 0, 1, 0, 1, 2, 1, 0, 1, 1, 0, 0, 1,\n",
              "       1, 0, 1, 0, 1, 0, 0, 2, 0, 0, 1, 1, 1, 1, 2, 2, 1, 1, 1, 0, 2, 2,\n",
              "       1, 2, 1, 2, 0, 2, 0, 1, 2, 1, 1, 1, 1, 0, 2, 0, 0, 2, 0, 2, 2, 1,\n",
              "       0, 0, 0, 1, 0, 1, 0, 0, 1, 1, 2, 1, 0, 2, 2, 0, 1, 0, 2, 2, 1, 0,\n",
              "       1, 0, 2, 2, 1, 0, 0, 1, 2, 0, 1, 2, 0, 1, 2, 0, 2, 0, 2, 1, 1, 1,\n",
              "       2, 2, 0, 1, 0, 2, 2, 2, 0, 0, 1, 0, 1, 2, 2, 2, 0, 0, 2, 0, 0, 0,\n",
              "       1, 0, 1, 0, 2, 1, 2, 0, 0, 2, 0, 1, 0, 0, 2, 0, 2, 1, 2, 2, 2, 0,\n",
              "       2, 0, 0, 2, 2, 1, 1, 1, 0, 2, 1, 2, 1, 1, 0, 2, 0, 0, 1, 0, 0, 0,\n",
              "       0, 0, 2, 2, 0, 1, 0, 1, 0, 0, 0, 2, 1, 2, 1, 2, 2, 2, 1, 0, 1, 1,\n",
              "       2, 2, 2, 2, 0, 2, 2, 0, 0, 0, 2, 2, 1, 2, 0, 0, 1, 0, 2, 1, 2, 1,\n",
              "       1, 1, 0, 1, 2, 0, 1, 1, 0, 1, 0, 1, 0, 2, 2, 2, 1, 1, 1, 0, 1, 1,\n",
              "       2, 0, 0, 1, 0, 1, 1, 0, 1, 0, 0, 0, 2, 0, 0, 0, 0, 1, 0, 0, 1, 1,\n",
              "       2, 1, 1, 1, 1, 1, 0, 1, 1, 2, 0, 1, 0, 2, 0, 0, 2, 0, 2, 2, 1, 2,\n",
              "       2, 1, 1, 2, 0, 1, 2, 1, 1, 0, 0, 1, 0, 2, 2, 1, 1, 0, 0, 1, 0, 2,\n",
              "       1, 2, 1, 2, 0, 0, 0, 0, 1, 2, 0, 1, 2, 2, 2, 0, 1, 0, 1, 2, 1, 1,\n",
              "       2, 2, 1, 1, 1, 1, 0, 2, 2, 0, 0, 0, 1, 1, 0, 0, 2, 1, 2, 1, 1, 2,\n",
              "       1, 0, 0, 1, 1, 0, 2, 2, 0, 0, 1, 1, 2, 1, 2, 1, 2, 2, 1, 0, 0, 2,\n",
              "       0, 1, 2, 0, 0, 0, 2, 0, 0, 1, 2, 0, 0, 2, 1, 2, 2, 0, 1, 2, 0, 2,\n",
              "       2, 2, 1, 1, 0, 0, 0, 0, 1, 1, 0, 2, 1, 1, 2, 1, 0, 0, 2, 1, 1, 0,\n",
              "       1, 2, 2, 1, 2, 2, 0, 0, 0, 1, 2, 0, 1, 1, 2, 0, 2, 0, 0, 0, 0, 2,\n",
              "       1, 1, 1, 0, 0, 1, 1, 1, 1, 2, 2, 0, 2, 0, 0, 2, 1, 2, 2, 1, 0, 0,\n",
              "       2, 2, 0, 2, 2, 1, 1, 1, 0, 0, 0, 2, 2, 0, 0, 2, 1, 0, 2, 1, 1, 2,\n",
              "       1, 0, 2, 2, 2, 1, 1, 0, 2, 1, 2, 0, 1, 1, 2, 1, 2, 0, 2, 0, 2, 1,\n",
              "       2, 0, 2, 0, 0, 0, 1, 0, 1, 1, 0, 2, 2, 1, 2, 2, 1])"
            ]
          },
          "metadata": {},
          "execution_count": 183
        }
      ]
    },
    {
      "cell_type": "code",
      "metadata": {
        "id": "aCxwNWsRpbQo"
      },
      "source": [
        "from sklearn.metrics import classification_report, confusion_matrix"
      ],
      "execution_count": null,
      "outputs": []
    },
    {
      "cell_type": "code",
      "metadata": {
        "id": "8ZeXV7BJphPh"
      },
      "source": [
        "predictions = pd.DataFrame(predictions)"
      ],
      "execution_count": null,
      "outputs": []
    },
    {
      "cell_type": "code",
      "metadata": {
        "colab": {
          "base_uri": "https://localhost:8080/",
          "height": 419
        },
        "id": "1EkyG-UUplM5",
        "outputId": "f9d83cb9-afb8-4223-ad42-39b0713e4481"
      },
      "source": [
        "predictions"
      ],
      "execution_count": null,
      "outputs": [
        {
          "output_type": "execute_result",
          "data": {
            "text/html": [
              "<div>\n",
              "<style scoped>\n",
              "    .dataframe tbody tr th:only-of-type {\n",
              "        vertical-align: middle;\n",
              "    }\n",
              "\n",
              "    .dataframe tbody tr th {\n",
              "        vertical-align: top;\n",
              "    }\n",
              "\n",
              "    .dataframe thead th {\n",
              "        text-align: right;\n",
              "    }\n",
              "</style>\n",
              "<table border=\"1\" class=\"dataframe\">\n",
              "  <thead>\n",
              "    <tr style=\"text-align: right;\">\n",
              "      <th></th>\n",
              "      <th>0</th>\n",
              "    </tr>\n",
              "  </thead>\n",
              "  <tbody>\n",
              "    <tr>\n",
              "      <th>0</th>\n",
              "      <td>2</td>\n",
              "    </tr>\n",
              "    <tr>\n",
              "      <th>1</th>\n",
              "      <td>1</td>\n",
              "    </tr>\n",
              "    <tr>\n",
              "      <th>2</th>\n",
              "      <td>1</td>\n",
              "    </tr>\n",
              "    <tr>\n",
              "      <th>3</th>\n",
              "      <td>1</td>\n",
              "    </tr>\n",
              "    <tr>\n",
              "      <th>4</th>\n",
              "      <td>0</td>\n",
              "    </tr>\n",
              "    <tr>\n",
              "      <th>...</th>\n",
              "      <td>...</td>\n",
              "    </tr>\n",
              "    <tr>\n",
              "      <th>628</th>\n",
              "      <td>2</td>\n",
              "    </tr>\n",
              "    <tr>\n",
              "      <th>629</th>\n",
              "      <td>1</td>\n",
              "    </tr>\n",
              "    <tr>\n",
              "      <th>630</th>\n",
              "      <td>2</td>\n",
              "    </tr>\n",
              "    <tr>\n",
              "      <th>631</th>\n",
              "      <td>2</td>\n",
              "    </tr>\n",
              "    <tr>\n",
              "      <th>632</th>\n",
              "      <td>1</td>\n",
              "    </tr>\n",
              "  </tbody>\n",
              "</table>\n",
              "<p>633 rows × 1 columns</p>\n",
              "</div>"
            ],
            "text/plain": [
              "     0\n",
              "0    2\n",
              "1    1\n",
              "2    1\n",
              "3    1\n",
              "4    0\n",
              "..  ..\n",
              "628  2\n",
              "629  1\n",
              "630  2\n",
              "631  2\n",
              "632  1\n",
              "\n",
              "[633 rows x 1 columns]"
            ]
          },
          "metadata": {},
          "execution_count": 187
        }
      ]
    },
    {
      "cell_type": "code",
      "metadata": {
        "id": "gNEexqQIps94"
      },
      "source": [
        "predictions = pd.get_dummies(predictions, columns=[0])"
      ],
      "execution_count": null,
      "outputs": []
    },
    {
      "cell_type": "code",
      "metadata": {
        "colab": {
          "base_uri": "https://localhost:8080/"
        },
        "id": "5AlKjNxQp1Ci",
        "outputId": "8e936d1b-bca1-4040-928b-b4b99b03e5fb"
      },
      "source": [
        "print(classification_report(y_test, predictions))"
      ],
      "execution_count": null,
      "outputs": [
        {
          "output_type": "stream",
          "name": "stdout",
          "text": [
            "              precision    recall  f1-score   support\n",
            "\n",
            "           0       0.97      0.98      0.97       211\n",
            "           1       0.96      1.00      0.98       211\n",
            "           2       1.00      0.94      0.97       211\n",
            "\n",
            "   micro avg       0.97      0.97      0.97       633\n",
            "   macro avg       0.98      0.97      0.97       633\n",
            "weighted avg       0.98      0.97      0.97       633\n",
            " samples avg       0.97      0.97      0.97       633\n",
            "\n"
          ]
        }
      ]
    },
    {
      "cell_type": "code",
      "metadata": {
        "id": "zXkphDAlp4Jh"
      },
      "source": [
        "model.save('Diabetes_Clinic_using_SMOTE.h5')"
      ],
      "execution_count": null,
      "outputs": []
    }
  ]
}