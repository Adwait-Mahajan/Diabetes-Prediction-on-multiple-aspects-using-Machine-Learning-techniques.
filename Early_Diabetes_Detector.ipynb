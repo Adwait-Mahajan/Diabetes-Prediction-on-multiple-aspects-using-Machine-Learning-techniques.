{
  "nbformat": 4,
  "nbformat_minor": 0,
  "metadata": {
    "colab": {
      "provenance": []
    },
    "kernelspec": {
      "name": "python3",
      "display_name": "Python 3"
    },
    "language_info": {
      "name": "python"
    },
    "accelerator": "GPU"
  },
  "cells": [
    {
      "cell_type": "code",
      "metadata": {
        "colab": {
          "base_uri": "https://localhost:8080/"
        },
        "id": "iIFw0dH15lzj",
        "outputId": "99854122-bd62-4fca-d725-8e123a365ac7"
      },
      "source": [
        "!pip install kaggle --upgrade\n",
        "!mkdir -p ~/.kaggle/\n",
        "!cp kaggle.json ~/.kaggle/\n",
        "!chmod 600 ~/.kaggle/kaggle.json\n",
        "!kaggle datasets download -d singhakash/early-stage-diabetes-risk-prediction-datasets"
      ],
      "execution_count": null,
      "outputs": [
        {
          "output_type": "stream",
          "text": [
            "Requirement already satisfied: kaggle in /usr/local/lib/python3.7/dist-packages (1.5.12)\n",
            "Requirement already satisfied: six>=1.10 in /usr/local/lib/python3.7/dist-packages (from kaggle) (1.15.0)\n",
            "Requirement already satisfied: requests in /usr/local/lib/python3.7/dist-packages (from kaggle) (2.23.0)\n",
            "Requirement already satisfied: python-slugify in /usr/local/lib/python3.7/dist-packages (from kaggle) (5.0.2)\n",
            "Requirement already satisfied: urllib3 in /usr/local/lib/python3.7/dist-packages (from kaggle) (1.24.3)\n",
            "Requirement already satisfied: tqdm in /usr/local/lib/python3.7/dist-packages (from kaggle) (4.41.1)\n",
            "Requirement already satisfied: certifi in /usr/local/lib/python3.7/dist-packages (from kaggle) (2021.5.30)\n",
            "Requirement already satisfied: python-dateutil in /usr/local/lib/python3.7/dist-packages (from kaggle) (2.8.1)\n",
            "Requirement already satisfied: text-unidecode>=1.3 in /usr/local/lib/python3.7/dist-packages (from python-slugify->kaggle) (1.3)\n",
            "Requirement already satisfied: chardet<4,>=3.0.2 in /usr/local/lib/python3.7/dist-packages (from requests->kaggle) (3.0.4)\n",
            "Requirement already satisfied: idna<3,>=2.5 in /usr/local/lib/python3.7/dist-packages (from requests->kaggle) (2.10)\n",
            "Downloading early-stage-diabetes-risk-prediction-datasets.zip to /content\n",
            "  0% 0.00/2.52k [00:00<?, ?B/s]\n",
            "100% 2.52k/2.52k [00:00<00:00, 4.35MB/s]\n"
          ],
          "name": "stdout"
        }
      ]
    },
    {
      "cell_type": "code",
      "metadata": {
        "colab": {
          "base_uri": "https://localhost:8080/"
        },
        "id": "CFfCeFWpO5zQ",
        "outputId": "5eda51db-384c-4135-cfbb-bf6e08198ed2"
      },
      "source": [
        "!unzip /content/early-stage-diabetes-risk-prediction-datasets.zip"
      ],
      "execution_count": null,
      "outputs": [
        {
          "output_type": "stream",
          "text": [
            "Archive:  /content/early-stage-diabetes-risk-prediction-datasets.zip\n",
            "  inflating: diabetes_data_upload.csv  \n"
          ],
          "name": "stdout"
        }
      ]
    },
    {
      "cell_type": "code",
      "metadata": {
        "id": "YCWJTXLqPLzS"
      },
      "source": [
        "import numpy as np\n",
        "import pandas as pd\n",
        "import seaborn as sns\n",
        "import matplotlib.pyplot as plt\n",
        "%matplotlib inline"
      ],
      "execution_count": null,
      "outputs": []
    },
    {
      "cell_type": "code",
      "metadata": {
        "id": "ANmDMC2fPX_B"
      },
      "source": [
        "df = pd.read_csv('/content/diabetes_data_upload.csv')"
      ],
      "execution_count": null,
      "outputs": []
    },
    {
      "cell_type": "code",
      "metadata": {
        "colab": {
          "base_uri": "https://localhost:8080/",
          "height": 258
        },
        "id": "ltoAFHtyPcn9",
        "outputId": "e7152dbd-582a-4d9a-fba4-eec7b9e9efab"
      },
      "source": [
        "df.head()"
      ],
      "execution_count": null,
      "outputs": [
        {
          "output_type": "execute_result",
          "data": {
            "text/html": [
              "<div>\n",
              "<style scoped>\n",
              "    .dataframe tbody tr th:only-of-type {\n",
              "        vertical-align: middle;\n",
              "    }\n",
              "\n",
              "    .dataframe tbody tr th {\n",
              "        vertical-align: top;\n",
              "    }\n",
              "\n",
              "    .dataframe thead th {\n",
              "        text-align: right;\n",
              "    }\n",
              "</style>\n",
              "<table border=\"1\" class=\"dataframe\">\n",
              "  <thead>\n",
              "    <tr style=\"text-align: right;\">\n",
              "      <th></th>\n",
              "      <th>Age</th>\n",
              "      <th>Gender</th>\n",
              "      <th>Polyuria</th>\n",
              "      <th>Polydipsia</th>\n",
              "      <th>sudden weight loss</th>\n",
              "      <th>weakness</th>\n",
              "      <th>Polyphagia</th>\n",
              "      <th>Genital thrush</th>\n",
              "      <th>visual blurring</th>\n",
              "      <th>Itching</th>\n",
              "      <th>Irritability</th>\n",
              "      <th>delayed healing</th>\n",
              "      <th>partial paresis</th>\n",
              "      <th>muscle stiffness</th>\n",
              "      <th>Alopecia</th>\n",
              "      <th>Obesity</th>\n",
              "      <th>class</th>\n",
              "    </tr>\n",
              "  </thead>\n",
              "  <tbody>\n",
              "    <tr>\n",
              "      <th>0</th>\n",
              "      <td>40</td>\n",
              "      <td>Male</td>\n",
              "      <td>No</td>\n",
              "      <td>Yes</td>\n",
              "      <td>No</td>\n",
              "      <td>Yes</td>\n",
              "      <td>No</td>\n",
              "      <td>No</td>\n",
              "      <td>No</td>\n",
              "      <td>Yes</td>\n",
              "      <td>No</td>\n",
              "      <td>Yes</td>\n",
              "      <td>No</td>\n",
              "      <td>Yes</td>\n",
              "      <td>Yes</td>\n",
              "      <td>Yes</td>\n",
              "      <td>Positive</td>\n",
              "    </tr>\n",
              "    <tr>\n",
              "      <th>1</th>\n",
              "      <td>58</td>\n",
              "      <td>Male</td>\n",
              "      <td>No</td>\n",
              "      <td>No</td>\n",
              "      <td>No</td>\n",
              "      <td>Yes</td>\n",
              "      <td>No</td>\n",
              "      <td>No</td>\n",
              "      <td>Yes</td>\n",
              "      <td>No</td>\n",
              "      <td>No</td>\n",
              "      <td>No</td>\n",
              "      <td>Yes</td>\n",
              "      <td>No</td>\n",
              "      <td>Yes</td>\n",
              "      <td>No</td>\n",
              "      <td>Positive</td>\n",
              "    </tr>\n",
              "    <tr>\n",
              "      <th>2</th>\n",
              "      <td>41</td>\n",
              "      <td>Male</td>\n",
              "      <td>Yes</td>\n",
              "      <td>No</td>\n",
              "      <td>No</td>\n",
              "      <td>Yes</td>\n",
              "      <td>Yes</td>\n",
              "      <td>No</td>\n",
              "      <td>No</td>\n",
              "      <td>Yes</td>\n",
              "      <td>No</td>\n",
              "      <td>Yes</td>\n",
              "      <td>No</td>\n",
              "      <td>Yes</td>\n",
              "      <td>Yes</td>\n",
              "      <td>No</td>\n",
              "      <td>Positive</td>\n",
              "    </tr>\n",
              "    <tr>\n",
              "      <th>3</th>\n",
              "      <td>45</td>\n",
              "      <td>Male</td>\n",
              "      <td>No</td>\n",
              "      <td>No</td>\n",
              "      <td>Yes</td>\n",
              "      <td>Yes</td>\n",
              "      <td>Yes</td>\n",
              "      <td>Yes</td>\n",
              "      <td>No</td>\n",
              "      <td>Yes</td>\n",
              "      <td>No</td>\n",
              "      <td>Yes</td>\n",
              "      <td>No</td>\n",
              "      <td>No</td>\n",
              "      <td>No</td>\n",
              "      <td>No</td>\n",
              "      <td>Positive</td>\n",
              "    </tr>\n",
              "    <tr>\n",
              "      <th>4</th>\n",
              "      <td>60</td>\n",
              "      <td>Male</td>\n",
              "      <td>Yes</td>\n",
              "      <td>Yes</td>\n",
              "      <td>Yes</td>\n",
              "      <td>Yes</td>\n",
              "      <td>Yes</td>\n",
              "      <td>No</td>\n",
              "      <td>Yes</td>\n",
              "      <td>Yes</td>\n",
              "      <td>Yes</td>\n",
              "      <td>Yes</td>\n",
              "      <td>Yes</td>\n",
              "      <td>Yes</td>\n",
              "      <td>Yes</td>\n",
              "      <td>Yes</td>\n",
              "      <td>Positive</td>\n",
              "    </tr>\n",
              "  </tbody>\n",
              "</table>\n",
              "</div>"
            ],
            "text/plain": [
              "   Age Gender Polyuria Polydipsia  ... muscle stiffness Alopecia Obesity     class\n",
              "0   40   Male       No        Yes  ...              Yes      Yes     Yes  Positive\n",
              "1   58   Male       No         No  ...               No      Yes      No  Positive\n",
              "2   41   Male      Yes         No  ...              Yes      Yes      No  Positive\n",
              "3   45   Male       No         No  ...               No       No      No  Positive\n",
              "4   60   Male      Yes        Yes  ...              Yes      Yes     Yes  Positive\n",
              "\n",
              "[5 rows x 17 columns]"
            ]
          },
          "metadata": {
            "tags": []
          },
          "execution_count": 28
        }
      ]
    },
    {
      "cell_type": "code",
      "metadata": {
        "colab": {
          "base_uri": "https://localhost:8080/"
        },
        "id": "8LrQuYhPQNIv",
        "outputId": "44d074a7-d75e-45ae-fc35-39bbba9020c8"
      },
      "source": [
        "df.columns[1:-1]"
      ],
      "execution_count": null,
      "outputs": [
        {
          "output_type": "execute_result",
          "data": {
            "text/plain": [
              "Index(['Gender', 'Polyuria', 'Polydipsia', 'sudden weight loss', 'weakness',\n",
              "       'Polyphagia', 'Genital thrush', 'visual blurring', 'Itching',\n",
              "       'Irritability', 'delayed healing', 'partial paresis',\n",
              "       'muscle stiffness', 'Alopecia', 'Obesity'],\n",
              "      dtype='object')"
            ]
          },
          "metadata": {
            "tags": []
          },
          "execution_count": 29
        }
      ]
    },
    {
      "cell_type": "code",
      "metadata": {
        "id": "0jyXNx1vPdd2"
      },
      "source": [
        "for i in df.columns[1:-1]:\n",
        "  df = pd.get_dummies(data=df, columns= ['{}'.format(i)], drop_first=True)"
      ],
      "execution_count": null,
      "outputs": []
    },
    {
      "cell_type": "code",
      "metadata": {
        "colab": {
          "base_uri": "https://localhost:8080/",
          "height": 473
        },
        "id": "tLVMXJ2OQXaM",
        "outputId": "9ebaade5-aa5b-4262-f2f8-3233ceb8b80f"
      },
      "source": [
        "df"
      ],
      "execution_count": null,
      "outputs": [
        {
          "output_type": "execute_result",
          "data": {
            "text/html": [
              "<div>\n",
              "<style scoped>\n",
              "    .dataframe tbody tr th:only-of-type {\n",
              "        vertical-align: middle;\n",
              "    }\n",
              "\n",
              "    .dataframe tbody tr th {\n",
              "        vertical-align: top;\n",
              "    }\n",
              "\n",
              "    .dataframe thead th {\n",
              "        text-align: right;\n",
              "    }\n",
              "</style>\n",
              "<table border=\"1\" class=\"dataframe\">\n",
              "  <thead>\n",
              "    <tr style=\"text-align: right;\">\n",
              "      <th></th>\n",
              "      <th>Age</th>\n",
              "      <th>class</th>\n",
              "      <th>Gender_Male</th>\n",
              "      <th>Polyuria_Yes</th>\n",
              "      <th>Polydipsia_Yes</th>\n",
              "      <th>sudden weight loss_Yes</th>\n",
              "      <th>weakness_Yes</th>\n",
              "      <th>Polyphagia_Yes</th>\n",
              "      <th>Genital thrush_Yes</th>\n",
              "      <th>visual blurring_Yes</th>\n",
              "      <th>Itching_Yes</th>\n",
              "      <th>Irritability_Yes</th>\n",
              "      <th>delayed healing_Yes</th>\n",
              "      <th>partial paresis_Yes</th>\n",
              "      <th>muscle stiffness_Yes</th>\n",
              "      <th>Alopecia_Yes</th>\n",
              "      <th>Obesity_Yes</th>\n",
              "    </tr>\n",
              "  </thead>\n",
              "  <tbody>\n",
              "    <tr>\n",
              "      <th>0</th>\n",
              "      <td>40</td>\n",
              "      <td>Positive</td>\n",
              "      <td>1</td>\n",
              "      <td>0</td>\n",
              "      <td>1</td>\n",
              "      <td>0</td>\n",
              "      <td>1</td>\n",
              "      <td>0</td>\n",
              "      <td>0</td>\n",
              "      <td>0</td>\n",
              "      <td>1</td>\n",
              "      <td>0</td>\n",
              "      <td>1</td>\n",
              "      <td>0</td>\n",
              "      <td>1</td>\n",
              "      <td>1</td>\n",
              "      <td>1</td>\n",
              "    </tr>\n",
              "    <tr>\n",
              "      <th>1</th>\n",
              "      <td>58</td>\n",
              "      <td>Positive</td>\n",
              "      <td>1</td>\n",
              "      <td>0</td>\n",
              "      <td>0</td>\n",
              "      <td>0</td>\n",
              "      <td>1</td>\n",
              "      <td>0</td>\n",
              "      <td>0</td>\n",
              "      <td>1</td>\n",
              "      <td>0</td>\n",
              "      <td>0</td>\n",
              "      <td>0</td>\n",
              "      <td>1</td>\n",
              "      <td>0</td>\n",
              "      <td>1</td>\n",
              "      <td>0</td>\n",
              "    </tr>\n",
              "    <tr>\n",
              "      <th>2</th>\n",
              "      <td>41</td>\n",
              "      <td>Positive</td>\n",
              "      <td>1</td>\n",
              "      <td>1</td>\n",
              "      <td>0</td>\n",
              "      <td>0</td>\n",
              "      <td>1</td>\n",
              "      <td>1</td>\n",
              "      <td>0</td>\n",
              "      <td>0</td>\n",
              "      <td>1</td>\n",
              "      <td>0</td>\n",
              "      <td>1</td>\n",
              "      <td>0</td>\n",
              "      <td>1</td>\n",
              "      <td>1</td>\n",
              "      <td>0</td>\n",
              "    </tr>\n",
              "    <tr>\n",
              "      <th>3</th>\n",
              "      <td>45</td>\n",
              "      <td>Positive</td>\n",
              "      <td>1</td>\n",
              "      <td>0</td>\n",
              "      <td>0</td>\n",
              "      <td>1</td>\n",
              "      <td>1</td>\n",
              "      <td>1</td>\n",
              "      <td>1</td>\n",
              "      <td>0</td>\n",
              "      <td>1</td>\n",
              "      <td>0</td>\n",
              "      <td>1</td>\n",
              "      <td>0</td>\n",
              "      <td>0</td>\n",
              "      <td>0</td>\n",
              "      <td>0</td>\n",
              "    </tr>\n",
              "    <tr>\n",
              "      <th>4</th>\n",
              "      <td>60</td>\n",
              "      <td>Positive</td>\n",
              "      <td>1</td>\n",
              "      <td>1</td>\n",
              "      <td>1</td>\n",
              "      <td>1</td>\n",
              "      <td>1</td>\n",
              "      <td>1</td>\n",
              "      <td>0</td>\n",
              "      <td>1</td>\n",
              "      <td>1</td>\n",
              "      <td>1</td>\n",
              "      <td>1</td>\n",
              "      <td>1</td>\n",
              "      <td>1</td>\n",
              "      <td>1</td>\n",
              "      <td>1</td>\n",
              "    </tr>\n",
              "    <tr>\n",
              "      <th>...</th>\n",
              "      <td>...</td>\n",
              "      <td>...</td>\n",
              "      <td>...</td>\n",
              "      <td>...</td>\n",
              "      <td>...</td>\n",
              "      <td>...</td>\n",
              "      <td>...</td>\n",
              "      <td>...</td>\n",
              "      <td>...</td>\n",
              "      <td>...</td>\n",
              "      <td>...</td>\n",
              "      <td>...</td>\n",
              "      <td>...</td>\n",
              "      <td>...</td>\n",
              "      <td>...</td>\n",
              "      <td>...</td>\n",
              "      <td>...</td>\n",
              "    </tr>\n",
              "    <tr>\n",
              "      <th>515</th>\n",
              "      <td>39</td>\n",
              "      <td>Positive</td>\n",
              "      <td>0</td>\n",
              "      <td>1</td>\n",
              "      <td>1</td>\n",
              "      <td>1</td>\n",
              "      <td>0</td>\n",
              "      <td>1</td>\n",
              "      <td>0</td>\n",
              "      <td>0</td>\n",
              "      <td>1</td>\n",
              "      <td>0</td>\n",
              "      <td>1</td>\n",
              "      <td>1</td>\n",
              "      <td>0</td>\n",
              "      <td>0</td>\n",
              "      <td>0</td>\n",
              "    </tr>\n",
              "    <tr>\n",
              "      <th>516</th>\n",
              "      <td>48</td>\n",
              "      <td>Positive</td>\n",
              "      <td>0</td>\n",
              "      <td>1</td>\n",
              "      <td>1</td>\n",
              "      <td>1</td>\n",
              "      <td>1</td>\n",
              "      <td>1</td>\n",
              "      <td>0</td>\n",
              "      <td>0</td>\n",
              "      <td>1</td>\n",
              "      <td>1</td>\n",
              "      <td>1</td>\n",
              "      <td>1</td>\n",
              "      <td>0</td>\n",
              "      <td>0</td>\n",
              "      <td>0</td>\n",
              "    </tr>\n",
              "    <tr>\n",
              "      <th>517</th>\n",
              "      <td>58</td>\n",
              "      <td>Positive</td>\n",
              "      <td>0</td>\n",
              "      <td>1</td>\n",
              "      <td>1</td>\n",
              "      <td>1</td>\n",
              "      <td>1</td>\n",
              "      <td>1</td>\n",
              "      <td>0</td>\n",
              "      <td>1</td>\n",
              "      <td>0</td>\n",
              "      <td>0</td>\n",
              "      <td>0</td>\n",
              "      <td>1</td>\n",
              "      <td>1</td>\n",
              "      <td>0</td>\n",
              "      <td>1</td>\n",
              "    </tr>\n",
              "    <tr>\n",
              "      <th>518</th>\n",
              "      <td>32</td>\n",
              "      <td>Negative</td>\n",
              "      <td>0</td>\n",
              "      <td>0</td>\n",
              "      <td>0</td>\n",
              "      <td>0</td>\n",
              "      <td>1</td>\n",
              "      <td>0</td>\n",
              "      <td>0</td>\n",
              "      <td>1</td>\n",
              "      <td>1</td>\n",
              "      <td>0</td>\n",
              "      <td>1</td>\n",
              "      <td>0</td>\n",
              "      <td>0</td>\n",
              "      <td>1</td>\n",
              "      <td>0</td>\n",
              "    </tr>\n",
              "    <tr>\n",
              "      <th>519</th>\n",
              "      <td>42</td>\n",
              "      <td>Negative</td>\n",
              "      <td>1</td>\n",
              "      <td>0</td>\n",
              "      <td>0</td>\n",
              "      <td>0</td>\n",
              "      <td>0</td>\n",
              "      <td>0</td>\n",
              "      <td>0</td>\n",
              "      <td>0</td>\n",
              "      <td>0</td>\n",
              "      <td>0</td>\n",
              "      <td>0</td>\n",
              "      <td>0</td>\n",
              "      <td>0</td>\n",
              "      <td>0</td>\n",
              "      <td>0</td>\n",
              "    </tr>\n",
              "  </tbody>\n",
              "</table>\n",
              "<p>520 rows × 17 columns</p>\n",
              "</div>"
            ],
            "text/plain": [
              "     Age     class  ...  Alopecia_Yes  Obesity_Yes\n",
              "0     40  Positive  ...             1            1\n",
              "1     58  Positive  ...             1            0\n",
              "2     41  Positive  ...             1            0\n",
              "3     45  Positive  ...             0            0\n",
              "4     60  Positive  ...             1            1\n",
              "..   ...       ...  ...           ...          ...\n",
              "515   39  Positive  ...             0            0\n",
              "516   48  Positive  ...             0            0\n",
              "517   58  Positive  ...             0            1\n",
              "518   32  Negative  ...             1            0\n",
              "519   42  Negative  ...             0            0\n",
              "\n",
              "[520 rows x 17 columns]"
            ]
          },
          "metadata": {
            "tags": []
          },
          "execution_count": 31
        }
      ]
    },
    {
      "cell_type": "code",
      "metadata": {
        "id": "Vu1xeHo7P5k4"
      },
      "source": [
        "df = pd.get_dummies(df, columns=['class'], drop_first=True)"
      ],
      "execution_count": null,
      "outputs": []
    },
    {
      "cell_type": "code",
      "metadata": {
        "colab": {
          "base_uri": "https://localhost:8080/",
          "height": 258
        },
        "id": "vEWlOWKXRCJd",
        "outputId": "1540aa92-f862-4655-f670-0975d2503187"
      },
      "source": [
        "df.head()"
      ],
      "execution_count": null,
      "outputs": [
        {
          "output_type": "execute_result",
          "data": {
            "text/html": [
              "<div>\n",
              "<style scoped>\n",
              "    .dataframe tbody tr th:only-of-type {\n",
              "        vertical-align: middle;\n",
              "    }\n",
              "\n",
              "    .dataframe tbody tr th {\n",
              "        vertical-align: top;\n",
              "    }\n",
              "\n",
              "    .dataframe thead th {\n",
              "        text-align: right;\n",
              "    }\n",
              "</style>\n",
              "<table border=\"1\" class=\"dataframe\">\n",
              "  <thead>\n",
              "    <tr style=\"text-align: right;\">\n",
              "      <th></th>\n",
              "      <th>Age</th>\n",
              "      <th>Gender_Male</th>\n",
              "      <th>Polyuria_Yes</th>\n",
              "      <th>Polydipsia_Yes</th>\n",
              "      <th>sudden weight loss_Yes</th>\n",
              "      <th>weakness_Yes</th>\n",
              "      <th>Polyphagia_Yes</th>\n",
              "      <th>Genital thrush_Yes</th>\n",
              "      <th>visual blurring_Yes</th>\n",
              "      <th>Itching_Yes</th>\n",
              "      <th>Irritability_Yes</th>\n",
              "      <th>delayed healing_Yes</th>\n",
              "      <th>partial paresis_Yes</th>\n",
              "      <th>muscle stiffness_Yes</th>\n",
              "      <th>Alopecia_Yes</th>\n",
              "      <th>Obesity_Yes</th>\n",
              "      <th>class_Positive</th>\n",
              "    </tr>\n",
              "  </thead>\n",
              "  <tbody>\n",
              "    <tr>\n",
              "      <th>0</th>\n",
              "      <td>40</td>\n",
              "      <td>1</td>\n",
              "      <td>0</td>\n",
              "      <td>1</td>\n",
              "      <td>0</td>\n",
              "      <td>1</td>\n",
              "      <td>0</td>\n",
              "      <td>0</td>\n",
              "      <td>0</td>\n",
              "      <td>1</td>\n",
              "      <td>0</td>\n",
              "      <td>1</td>\n",
              "      <td>0</td>\n",
              "      <td>1</td>\n",
              "      <td>1</td>\n",
              "      <td>1</td>\n",
              "      <td>1</td>\n",
              "    </tr>\n",
              "    <tr>\n",
              "      <th>1</th>\n",
              "      <td>58</td>\n",
              "      <td>1</td>\n",
              "      <td>0</td>\n",
              "      <td>0</td>\n",
              "      <td>0</td>\n",
              "      <td>1</td>\n",
              "      <td>0</td>\n",
              "      <td>0</td>\n",
              "      <td>1</td>\n",
              "      <td>0</td>\n",
              "      <td>0</td>\n",
              "      <td>0</td>\n",
              "      <td>1</td>\n",
              "      <td>0</td>\n",
              "      <td>1</td>\n",
              "      <td>0</td>\n",
              "      <td>1</td>\n",
              "    </tr>\n",
              "    <tr>\n",
              "      <th>2</th>\n",
              "      <td>41</td>\n",
              "      <td>1</td>\n",
              "      <td>1</td>\n",
              "      <td>0</td>\n",
              "      <td>0</td>\n",
              "      <td>1</td>\n",
              "      <td>1</td>\n",
              "      <td>0</td>\n",
              "      <td>0</td>\n",
              "      <td>1</td>\n",
              "      <td>0</td>\n",
              "      <td>1</td>\n",
              "      <td>0</td>\n",
              "      <td>1</td>\n",
              "      <td>1</td>\n",
              "      <td>0</td>\n",
              "      <td>1</td>\n",
              "    </tr>\n",
              "    <tr>\n",
              "      <th>3</th>\n",
              "      <td>45</td>\n",
              "      <td>1</td>\n",
              "      <td>0</td>\n",
              "      <td>0</td>\n",
              "      <td>1</td>\n",
              "      <td>1</td>\n",
              "      <td>1</td>\n",
              "      <td>1</td>\n",
              "      <td>0</td>\n",
              "      <td>1</td>\n",
              "      <td>0</td>\n",
              "      <td>1</td>\n",
              "      <td>0</td>\n",
              "      <td>0</td>\n",
              "      <td>0</td>\n",
              "      <td>0</td>\n",
              "      <td>1</td>\n",
              "    </tr>\n",
              "    <tr>\n",
              "      <th>4</th>\n",
              "      <td>60</td>\n",
              "      <td>1</td>\n",
              "      <td>1</td>\n",
              "      <td>1</td>\n",
              "      <td>1</td>\n",
              "      <td>1</td>\n",
              "      <td>1</td>\n",
              "      <td>0</td>\n",
              "      <td>1</td>\n",
              "      <td>1</td>\n",
              "      <td>1</td>\n",
              "      <td>1</td>\n",
              "      <td>1</td>\n",
              "      <td>1</td>\n",
              "      <td>1</td>\n",
              "      <td>1</td>\n",
              "      <td>1</td>\n",
              "    </tr>\n",
              "  </tbody>\n",
              "</table>\n",
              "</div>"
            ],
            "text/plain": [
              "   Age  Gender_Male  Polyuria_Yes  ...  Alopecia_Yes  Obesity_Yes  class_Positive\n",
              "0   40            1             0  ...             1            1               1\n",
              "1   58            1             0  ...             1            0               1\n",
              "2   41            1             1  ...             1            0               1\n",
              "3   45            1             0  ...             0            0               1\n",
              "4   60            1             1  ...             1            1               1\n",
              "\n",
              "[5 rows x 17 columns]"
            ]
          },
          "metadata": {
            "tags": []
          },
          "execution_count": 33
        }
      ]
    },
    {
      "cell_type": "code",
      "metadata": {
        "colab": {
          "base_uri": "https://localhost:8080/",
          "height": 394
        },
        "id": "gCUOL9lrRDOG",
        "outputId": "a78ef9d6-7835-48c8-cfd9-96aa51f01df9"
      },
      "source": [
        "sns.heatmap(df.corr())"
      ],
      "execution_count": null,
      "outputs": [
        {
          "output_type": "execute_result",
          "data": {
            "text/plain": [
              "<matplotlib.axes._subplots.AxesSubplot at 0x7f7f45acd510>"
            ]
          },
          "metadata": {
            "tags": []
          },
          "execution_count": 34
        },
        {
          "output_type": "display_data",
          "data": {
            "image/png": "[encoded data removed]",
            "text/plain": [
              "<Figure size 432x288 with 2 Axes>"
            ]
          },
          "metadata": {
            "tags": [],
            "needs_background": "light"
          }
        }
      ]
    },
    {
      "cell_type": "code",
      "metadata": {
        "colab": {
          "base_uri": "https://localhost:8080/"
        },
        "id": "7zFSbQYESTad",
        "outputId": "cc623315-e320-4588-c8ce-3e59ea9b0876"
      },
      "source": [
        "df.corr()['class_Positive'].sort_values()"
      ],
      "execution_count": null,
      "outputs": [
        {
          "output_type": "execute_result",
          "data": {
            "text/plain": [
              "Gender_Male              -0.449233\n",
              "Alopecia_Yes             -0.267512\n",
              "Itching_Yes              -0.013384\n",
              "delayed healing_Yes       0.046980\n",
              "Obesity_Yes               0.072173\n",
              "Age                       0.108679\n",
              "Genital thrush_Yes        0.110288\n",
              "muscle stiffness_Yes      0.122474\n",
              "weakness_Yes              0.243275\n",
              "visual blurring_Yes       0.251300\n",
              "Irritability_Yes          0.299467\n",
              "Polyphagia_Yes            0.342504\n",
              "partial paresis_Yes       0.432288\n",
              "sudden weight loss_Yes    0.436568\n",
              "Polydipsia_Yes            0.648734\n",
              "Polyuria_Yes              0.665922\n",
              "class_Positive            1.000000\n",
              "Name: class_Positive, dtype: float64"
            ]
          },
          "metadata": {
            "tags": []
          },
          "execution_count": 41
        }
      ]
    },
    {
      "cell_type": "code",
      "metadata": {
        "colab": {
          "base_uri": "https://localhost:8080/",
          "height": 390
        },
        "id": "HVhlQCsmRHo3",
        "outputId": "39ec3c94-9ae4-4d22-c5de-3dc38e3d0102"
      },
      "source": [
        "df.corr()['class_Positive'][:-1].sort_values().plot(kind='bar')"
      ],
      "execution_count": null,
      "outputs": [
        {
          "output_type": "execute_result",
          "data": {
            "text/plain": [
              "<matplotlib.axes._subplots.AxesSubplot at 0x7f7f459aff90>"
            ]
          },
          "metadata": {
            "tags": []
          },
          "execution_count": 40
        },
        {
          "output_type": "display_data",
          "data": {
            "image/png": "[encoded data removed]",
            "text/plain": [
              "<Figure size 432x288 with 1 Axes>"
            ]
          },
          "metadata": {
            "tags": [],
            "needs_background": "light"
          }
        }
      ]
    },
    {
      "cell_type": "code",
      "metadata": {
        "id": "m7lTIwgUR1gj"
      },
      "source": [
        "X = df.drop('class_Positive', axis=1).values\n",
        "\n",
        "y = df['class_Positive'].values"
      ],
      "execution_count": null,
      "outputs": []
    },
    {
      "cell_type": "code",
      "metadata": {
        "id": "WpZnPxyXSk0N"
      },
      "source": [
        "from sklearn.model_selection import train_test_split"
      ],
      "execution_count": null,
      "outputs": []
    },
    {
      "cell_type": "code",
      "metadata": {
        "id": "VTBl4eTrSqii"
      },
      "source": [
        "X_train, X_test, y_train, y_test = train_test_split(X, y, test_size=0.33, random_state=42)"
      ],
      "execution_count": null,
      "outputs": []
    },
    {
      "cell_type": "code",
      "metadata": {
        "colab": {
          "base_uri": "https://localhost:8080/"
        },
        "id": "SVRI_t_xSwnt",
        "outputId": "a9641c4c-04d3-41c1-b380-25193f10c6be"
      },
      "source": [
        "X_train.shape"
      ],
      "execution_count": null,
      "outputs": [
        {
          "output_type": "execute_result",
          "data": {
            "text/plain": [
              "(348, 16)"
            ]
          },
          "metadata": {
            "tags": []
          },
          "execution_count": 46
        }
      ]
    },
    {
      "cell_type": "code",
      "metadata": {
        "colab": {
          "base_uri": "https://localhost:8080/"
        },
        "id": "p_b90pyaSyBO",
        "outputId": "b17a696d-0a00-4344-ae8c-7b729e5f1f0b"
      },
      "source": [
        "X_test.shape"
      ],
      "execution_count": null,
      "outputs": [
        {
          "output_type": "execute_result",
          "data": {
            "text/plain": [
              "(172, 16)"
            ]
          },
          "metadata": {
            "tags": []
          },
          "execution_count": 47
        }
      ]
    },
    {
      "cell_type": "code",
      "metadata": {
        "colab": {
          "base_uri": "https://localhost:8080/"
        },
        "id": "WboczCAeS0Bv",
        "outputId": "9d79a745-6d25-48c3-95c1-236593938850"
      },
      "source": [
        "y_train.shape"
      ],
      "execution_count": null,
      "outputs": [
        {
          "output_type": "execute_result",
          "data": {
            "text/plain": [
              "(348,)"
            ]
          },
          "metadata": {
            "tags": []
          },
          "execution_count": 48
        }
      ]
    },
    {
      "cell_type": "code",
      "metadata": {
        "colab": {
          "base_uri": "https://localhost:8080/"
        },
        "id": "UiVfcMXSS2WQ",
        "outputId": "aeff4ea8-de18-45e5-8d58-f943d4d3b19c"
      },
      "source": [
        "y_test.shape"
      ],
      "execution_count": null,
      "outputs": [
        {
          "output_type": "execute_result",
          "data": {
            "text/plain": [
              "(172,)"
            ]
          },
          "metadata": {
            "tags": []
          },
          "execution_count": 49
        }
      ]
    },
    {
      "cell_type": "code",
      "metadata": {
        "id": "vp7-yvcqS3Q0"
      },
      "source": [
        "from sklearn.preprocessing import MinMaxScaler"
      ],
      "execution_count": null,
      "outputs": []
    },
    {
      "cell_type": "code",
      "metadata": {
        "id": "MsHd58qbS-1O"
      },
      "source": [
        "scaler = MinMaxScaler()"
      ],
      "execution_count": null,
      "outputs": []
    },
    {
      "cell_type": "code",
      "metadata": {
        "colab": {
          "base_uri": "https://localhost:8080/"
        },
        "id": "8rsuyT08TA-d",
        "outputId": "3f11bb4a-5e30-43f7-9574-19477a57c635"
      },
      "source": [
        "scaler.fit(X_train)"
      ],
      "execution_count": null,
      "outputs": [
        {
          "output_type": "execute_result",
          "data": {
            "text/plain": [
              "MinMaxScaler(copy=True, feature_range=(0, 1))"
            ]
          },
          "metadata": {
            "tags": []
          },
          "execution_count": 52
        }
      ]
    },
    {
      "cell_type": "code",
      "metadata": {
        "id": "-zUTUouETC6N"
      },
      "source": [
        "X_train = scaler.transform(X_train)"
      ],
      "execution_count": null,
      "outputs": []
    },
    {
      "cell_type": "code",
      "metadata": {
        "id": "X-Rs5WXqTFyJ"
      },
      "source": [
        "X_test = scaler.transform(X_test)"
      ],
      "execution_count": null,
      "outputs": []
    },
    {
      "cell_type": "code",
      "metadata": {
        "id": "X_8QqY9YTI-v"
      },
      "source": [
        "from tensorflow.keras.models import Sequential"
      ],
      "execution_count": null,
      "outputs": []
    },
    {
      "cell_type": "code",
      "metadata": {
        "id": "WedR7FY-TORe"
      },
      "source": [
        "from tensorflow.keras.layers import Dense, Dropout"
      ],
      "execution_count": null,
      "outputs": []
    },
    {
      "cell_type": "code",
      "metadata": {
        "id": "aFl7GWymTSOd"
      },
      "source": [
        "model = Sequential()\n",
        "\n",
        "model.add(Dense(units= 30, activation='relu'))\n",
        "\n",
        "model.add(Dense(units= 15, activation='relu'))\n",
        "\n",
        "model.add(Dense(1, activation='sigmoid'))\n",
        "\n",
        "model.compile(loss='binary_crossentropy', optimizer='adam', metrics=['accuracy'])"
      ],
      "execution_count": null,
      "outputs": []
    },
    {
      "cell_type": "code",
      "metadata": {
        "id": "tjQe1MiSTlMj"
      },
      "source": [
        "from tensorflow.keras.callbacks import EarlyStopping"
      ],
      "execution_count": null,
      "outputs": []
    },
    {
      "cell_type": "code",
      "metadata": {
        "id": "2l7RiAf0TsHp"
      },
      "source": [
        "early_stop = EarlyStopping(monitor='val_loss', mode='min', verbose=1, patience=25)"
      ],
      "execution_count": null,
      "outputs": []
    },
    {
      "cell_type": "code",
      "metadata": {
        "id": "DPx_sXKiTyiO"
      },
      "source": [
        "validation_data = (X_test,y_test)"
      ],
      "execution_count": null,
      "outputs": []
    },
    {
      "cell_type": "code",
      "metadata": {
        "colab": {
          "base_uri": "https://localhost:8080/"
        },
        "id": "40aehWetT4PS",
        "outputId": "d4c76ce7-9d91-44e6-ead0-36f9e0e6ca86"
      },
      "source": [
        "model.fit(X_train,y_train,validation_data=validation_data, epochs=350,callbacks=[early_stop])"
      ],
      "execution_count": null,
      "outputs": [
        {
          "output_type": "stream",
          "text": [
            "Epoch 1/350\n",
            "11/11 [==============================] - 0s 14ms/step - loss: 0.6577 - accuracy: 0.6638 - val_loss: 0.6266 - val_accuracy: 0.7326\n",
            "Epoch 2/350\n",
            "11/11 [==============================] - 0s 5ms/step - loss: 0.5976 - accuracy: 0.7902 - val_loss: 0.5701 - val_accuracy: 0.7674\n",
            "Epoch 3/350\n",
            "11/11 [==============================] - 0s 6ms/step - loss: 0.5464 - accuracy: 0.8132 - val_loss: 0.5251 - val_accuracy: 0.7965\n",
            "Epoch 4/350\n",
            "11/11 [==============================] - 0s 5ms/step - loss: 0.5042 - accuracy: 0.8563 - val_loss: 0.4825 - val_accuracy: 0.8140\n",
            "Epoch 5/350\n",
            "11/11 [==============================] - 0s 4ms/step - loss: 0.4627 - accuracy: 0.8534 - val_loss: 0.4437 - val_accuracy: 0.8256\n",
            "Epoch 6/350\n",
            "11/11 [==============================] - 0s 4ms/step - loss: 0.4231 - accuracy: 0.8736 - val_loss: 0.4082 - val_accuracy: 0.8605\n",
            "Epoch 7/350\n",
            "11/11 [==============================] - 0s 4ms/step - loss: 0.3859 - accuracy: 0.8937 - val_loss: 0.3747 - val_accuracy: 0.8721\n",
            "Epoch 8/350\n",
            "11/11 [==============================] - 0s 4ms/step - loss: 0.3511 - accuracy: 0.9224 - val_loss: 0.3438 - val_accuracy: 0.8895\n",
            "Epoch 9/350\n",
            "11/11 [==============================] - 0s 4ms/step - loss: 0.3199 - accuracy: 0.9310 - val_loss: 0.3171 - val_accuracy: 0.8895\n",
            "Epoch 10/350\n",
            "11/11 [==============================] - 0s 5ms/step - loss: 0.2952 - accuracy: 0.9310 - val_loss: 0.2963 - val_accuracy: 0.8837\n",
            "Epoch 11/350\n",
            "11/11 [==============================] - 0s 5ms/step - loss: 0.2744 - accuracy: 0.9368 - val_loss: 0.2780 - val_accuracy: 0.9070\n",
            "Epoch 12/350\n",
            "11/11 [==============================] - 0s 4ms/step - loss: 0.2562 - accuracy: 0.9397 - val_loss: 0.2623 - val_accuracy: 0.9070\n",
            "Epoch 13/350\n",
            "11/11 [==============================] - 0s 6ms/step - loss: 0.2431 - accuracy: 0.9397 - val_loss: 0.2503 - val_accuracy: 0.9128\n",
            "Epoch 14/350\n",
            "11/11 [==============================] - 0s 4ms/step - loss: 0.2295 - accuracy: 0.9397 - val_loss: 0.2384 - val_accuracy: 0.9128\n",
            "Epoch 15/350\n",
            "11/11 [==============================] - 0s 4ms/step - loss: 0.2190 - accuracy: 0.9454 - val_loss: 0.2289 - val_accuracy: 0.9186\n",
            "Epoch 16/350\n",
            "11/11 [==============================] - 0s 4ms/step - loss: 0.2098 - accuracy: 0.9397 - val_loss: 0.2224 - val_accuracy: 0.9186\n",
            "Epoch 17/350\n",
            "11/11 [==============================] - 0s 4ms/step - loss: 0.2022 - accuracy: 0.9425 - val_loss: 0.2144 - val_accuracy: 0.9186\n",
            "Epoch 18/350\n",
            "11/11 [==============================] - 0s 4ms/step - loss: 0.1955 - accuracy: 0.9425 - val_loss: 0.2077 - val_accuracy: 0.9244\n",
            "Epoch 19/350\n",
            "11/11 [==============================] - 0s 4ms/step - loss: 0.1894 - accuracy: 0.9425 - val_loss: 0.2019 - val_accuracy: 0.9360\n",
            "Epoch 20/350\n",
            "11/11 [==============================] - 0s 4ms/step - loss: 0.1841 - accuracy: 0.9454 - val_loss: 0.1975 - val_accuracy: 0.9360\n",
            "Epoch 21/350\n",
            "11/11 [==============================] - 0s 5ms/step - loss: 0.1787 - accuracy: 0.9425 - val_loss: 0.1920 - val_accuracy: 0.9302\n",
            "Epoch 22/350\n",
            "11/11 [==============================] - 0s 4ms/step - loss: 0.1748 - accuracy: 0.9483 - val_loss: 0.1871 - val_accuracy: 0.9186\n",
            "Epoch 23/350\n",
            "11/11 [==============================] - 0s 4ms/step - loss: 0.1703 - accuracy: 0.9454 - val_loss: 0.1845 - val_accuracy: 0.9186\n",
            "Epoch 24/350\n",
            "11/11 [==============================] - 0s 5ms/step - loss: 0.1658 - accuracy: 0.9425 - val_loss: 0.1815 - val_accuracy: 0.9186\n",
            "Epoch 25/350\n",
            "11/11 [==============================] - 0s 4ms/step - loss: 0.1624 - accuracy: 0.9425 - val_loss: 0.1776 - val_accuracy: 0.9302\n",
            "Epoch 26/350\n",
            "11/11 [==============================] - 0s 4ms/step - loss: 0.1590 - accuracy: 0.9425 - val_loss: 0.1749 - val_accuracy: 0.9186\n",
            "Epoch 27/350\n",
            "11/11 [==============================] - 0s 4ms/step - loss: 0.1555 - accuracy: 0.9454 - val_loss: 0.1724 - val_accuracy: 0.9360\n",
            "Epoch 28/350\n",
            "11/11 [==============================] - 0s 4ms/step - loss: 0.1523 - accuracy: 0.9425 - val_loss: 0.1698 - val_accuracy: 0.9186\n",
            "Epoch 29/350\n",
            "11/11 [==============================] - 0s 4ms/step - loss: 0.1492 - accuracy: 0.9425 - val_loss: 0.1671 - val_accuracy: 0.9186\n",
            "Epoch 30/350\n",
            "11/11 [==============================] - 0s 5ms/step - loss: 0.1463 - accuracy: 0.9454 - val_loss: 0.1644 - val_accuracy: 0.9360\n",
            "Epoch 31/350\n",
            "11/11 [==============================] - 0s 4ms/step - loss: 0.1434 - accuracy: 0.9483 - val_loss: 0.1620 - val_accuracy: 0.9360\n",
            "Epoch 32/350\n",
            "11/11 [==============================] - 0s 4ms/step - loss: 0.1407 - accuracy: 0.9483 - val_loss: 0.1596 - val_accuracy: 0.9244\n",
            "Epoch 33/350\n",
            "11/11 [==============================] - 0s 4ms/step - loss: 0.1374 - accuracy: 0.9511 - val_loss: 0.1570 - val_accuracy: 0.9302\n",
            "Epoch 34/350\n",
            "11/11 [==============================] - 0s 6ms/step - loss: 0.1350 - accuracy: 0.9511 - val_loss: 0.1542 - val_accuracy: 0.9302\n",
            "Epoch 35/350\n",
            "11/11 [==============================] - 0s 4ms/step - loss: 0.1331 - accuracy: 0.9511 - val_loss: 0.1530 - val_accuracy: 0.9244\n",
            "Epoch 36/350\n",
            "11/11 [==============================] - 0s 4ms/step - loss: 0.1293 - accuracy: 0.9598 - val_loss: 0.1518 - val_accuracy: 0.9419\n",
            "Epoch 37/350\n",
            "11/11 [==============================] - 0s 6ms/step - loss: 0.1267 - accuracy: 0.9569 - val_loss: 0.1488 - val_accuracy: 0.9302\n",
            "Epoch 38/350\n",
            "11/11 [==============================] - 0s 5ms/step - loss: 0.1241 - accuracy: 0.9626 - val_loss: 0.1471 - val_accuracy: 0.9419\n",
            "Epoch 39/350\n",
            "11/11 [==============================] - 0s 4ms/step - loss: 0.1204 - accuracy: 0.9598 - val_loss: 0.1450 - val_accuracy: 0.9360\n",
            "Epoch 40/350\n",
            "11/11 [==============================] - 0s 4ms/step - loss: 0.1186 - accuracy: 0.9569 - val_loss: 0.1434 - val_accuracy: 0.9360\n",
            "Epoch 41/350\n",
            "11/11 [==============================] - 0s 4ms/step - loss: 0.1153 - accuracy: 0.9626 - val_loss: 0.1416 - val_accuracy: 0.9477\n",
            "Epoch 42/350\n",
            "11/11 [==============================] - 0s 6ms/step - loss: 0.1129 - accuracy: 0.9684 - val_loss: 0.1401 - val_accuracy: 0.9477\n",
            "Epoch 43/350\n",
            "11/11 [==============================] - 0s 4ms/step - loss: 0.1103 - accuracy: 0.9713 - val_loss: 0.1380 - val_accuracy: 0.9535\n",
            "Epoch 44/350\n",
            "11/11 [==============================] - 0s 4ms/step - loss: 0.1082 - accuracy: 0.9713 - val_loss: 0.1351 - val_accuracy: 0.9651\n",
            "Epoch 45/350\n",
            "11/11 [==============================] - 0s 6ms/step - loss: 0.1061 - accuracy: 0.9684 - val_loss: 0.1345 - val_accuracy: 0.9593\n",
            "Epoch 46/350\n",
            "11/11 [==============================] - 0s 4ms/step - loss: 0.1042 - accuracy: 0.9741 - val_loss: 0.1334 - val_accuracy: 0.9651\n",
            "Epoch 47/350\n",
            "11/11 [==============================] - 0s 4ms/step - loss: 0.1010 - accuracy: 0.9713 - val_loss: 0.1299 - val_accuracy: 0.9593\n",
            "Epoch 48/350\n",
            "11/11 [==============================] - 0s 5ms/step - loss: 0.0976 - accuracy: 0.9741 - val_loss: 0.1283 - val_accuracy: 0.9651\n",
            "Epoch 49/350\n",
            "11/11 [==============================] - 0s 6ms/step - loss: 0.0953 - accuracy: 0.9741 - val_loss: 0.1267 - val_accuracy: 0.9651\n",
            "Epoch 50/350\n",
            "11/11 [==============================] - 0s 4ms/step - loss: 0.0926 - accuracy: 0.9741 - val_loss: 0.1242 - val_accuracy: 0.9651\n",
            "Epoch 51/350\n",
            "11/11 [==============================] - 0s 5ms/step - loss: 0.0906 - accuracy: 0.9741 - val_loss: 0.1221 - val_accuracy: 0.9709\n",
            "Epoch 52/350\n",
            "11/11 [==============================] - 0s 4ms/step - loss: 0.0876 - accuracy: 0.9770 - val_loss: 0.1212 - val_accuracy: 0.9709\n",
            "Epoch 53/350\n",
            "11/11 [==============================] - 0s 4ms/step - loss: 0.0852 - accuracy: 0.9770 - val_loss: 0.1188 - val_accuracy: 0.9709\n",
            "Epoch 54/350\n",
            "11/11 [==============================] - 0s 4ms/step - loss: 0.0827 - accuracy: 0.9770 - val_loss: 0.1174 - val_accuracy: 0.9709\n",
            "Epoch 55/350\n",
            "11/11 [==============================] - 0s 4ms/step - loss: 0.0800 - accuracy: 0.9770 - val_loss: 0.1153 - val_accuracy: 0.9709\n",
            "Epoch 56/350\n",
            "11/11 [==============================] - 0s 4ms/step - loss: 0.0779 - accuracy: 0.9770 - val_loss: 0.1152 - val_accuracy: 0.9709\n",
            "Epoch 57/350\n",
            "11/11 [==============================] - 0s 4ms/step - loss: 0.0749 - accuracy: 0.9770 - val_loss: 0.1130 - val_accuracy: 0.9709\n",
            "Epoch 58/350\n",
            "11/11 [==============================] - 0s 5ms/step - loss: 0.0727 - accuracy: 0.9770 - val_loss: 0.1123 - val_accuracy: 0.9709\n",
            "Epoch 59/350\n",
            "11/11 [==============================] - 0s 5ms/step - loss: 0.0693 - accuracy: 0.9799 - val_loss: 0.1089 - val_accuracy: 0.9709\n",
            "Epoch 60/350\n",
            "11/11 [==============================] - 0s 4ms/step - loss: 0.0663 - accuracy: 0.9828 - val_loss: 0.1053 - val_accuracy: 0.9709\n",
            "Epoch 61/350\n",
            "11/11 [==============================] - 0s 4ms/step - loss: 0.0642 - accuracy: 0.9885 - val_loss: 0.1022 - val_accuracy: 0.9709\n",
            "Epoch 62/350\n",
            "11/11 [==============================] - 0s 4ms/step - loss: 0.0610 - accuracy: 0.9885 - val_loss: 0.1023 - val_accuracy: 0.9767\n",
            "Epoch 63/350\n",
            "11/11 [==============================] - 0s 4ms/step - loss: 0.0583 - accuracy: 0.9885 - val_loss: 0.0976 - val_accuracy: 0.9767\n",
            "Epoch 64/350\n",
            "11/11 [==============================] - 0s 6ms/step - loss: 0.0559 - accuracy: 0.9885 - val_loss: 0.0941 - val_accuracy: 0.9767\n",
            "Epoch 65/350\n",
            "11/11 [==============================] - 0s 4ms/step - loss: 0.0538 - accuracy: 0.9885 - val_loss: 0.0934 - val_accuracy: 0.9767\n",
            "Epoch 66/350\n",
            "11/11 [==============================] - 0s 6ms/step - loss: 0.0518 - accuracy: 0.9885 - val_loss: 0.0930 - val_accuracy: 0.9767\n",
            "Epoch 67/350\n",
            "11/11 [==============================] - 0s 5ms/step - loss: 0.0496 - accuracy: 0.9885 - val_loss: 0.0909 - val_accuracy: 0.9767\n",
            "Epoch 68/350\n",
            "11/11 [==============================] - 0s 5ms/step - loss: 0.0485 - accuracy: 0.9885 - val_loss: 0.0861 - val_accuracy: 0.9767\n",
            "Epoch 69/350\n",
            "11/11 [==============================] - 0s 5ms/step - loss: 0.0464 - accuracy: 0.9914 - val_loss: 0.0877 - val_accuracy: 0.9767\n",
            "Epoch 70/350\n",
            "11/11 [==============================] - 0s 5ms/step - loss: 0.0446 - accuracy: 0.9914 - val_loss: 0.0847 - val_accuracy: 0.9767\n",
            "Epoch 71/350\n",
            "11/11 [==============================] - 0s 5ms/step - loss: 0.0432 - accuracy: 0.9914 - val_loss: 0.0843 - val_accuracy: 0.9767\n",
            "Epoch 72/350\n",
            "11/11 [==============================] - 0s 4ms/step - loss: 0.0419 - accuracy: 0.9914 - val_loss: 0.0838 - val_accuracy: 0.9767\n",
            "Epoch 73/350\n",
            "11/11 [==============================] - 0s 5ms/step - loss: 0.0405 - accuracy: 0.9914 - val_loss: 0.0816 - val_accuracy: 0.9767\n",
            "Epoch 74/350\n",
            "11/11 [==============================] - 0s 4ms/step - loss: 0.0391 - accuracy: 0.9914 - val_loss: 0.0801 - val_accuracy: 0.9767\n",
            "Epoch 75/350\n",
            "11/11 [==============================] - 0s 5ms/step - loss: 0.0382 - accuracy: 0.9943 - val_loss: 0.0828 - val_accuracy: 0.9767\n",
            "Epoch 76/350\n",
            "11/11 [==============================] - 0s 5ms/step - loss: 0.0365 - accuracy: 0.9943 - val_loss: 0.0791 - val_accuracy: 0.9767\n",
            "Epoch 77/350\n",
            "11/11 [==============================] - 0s 5ms/step - loss: 0.0355 - accuracy: 0.9943 - val_loss: 0.0765 - val_accuracy: 0.9767\n",
            "Epoch 78/350\n",
            "11/11 [==============================] - 0s 5ms/step - loss: 0.0344 - accuracy: 0.9943 - val_loss: 0.0758 - val_accuracy: 0.9767\n",
            "Epoch 79/350\n",
            "11/11 [==============================] - 0s 5ms/step - loss: 0.0336 - accuracy: 0.9943 - val_loss: 0.0769 - val_accuracy: 0.9767\n",
            "Epoch 80/350\n",
            "11/11 [==============================] - 0s 5ms/step - loss: 0.0325 - accuracy: 0.9943 - val_loss: 0.0744 - val_accuracy: 0.9767\n",
            "Epoch 81/350\n",
            "11/11 [==============================] - 0s 5ms/step - loss: 0.0320 - accuracy: 0.9943 - val_loss: 0.0745 - val_accuracy: 0.9767\n",
            "Epoch 82/350\n",
            "11/11 [==============================] - 0s 4ms/step - loss: 0.0309 - accuracy: 0.9943 - val_loss: 0.0740 - val_accuracy: 0.9767\n",
            "Epoch 83/350\n",
            "11/11 [==============================] - 0s 4ms/step - loss: 0.0300 - accuracy: 0.9943 - val_loss: 0.0727 - val_accuracy: 0.9767\n",
            "Epoch 84/350\n",
            "11/11 [==============================] - 0s 4ms/step - loss: 0.0295 - accuracy: 0.9943 - val_loss: 0.0725 - val_accuracy: 0.9767\n",
            "Epoch 85/350\n",
            "11/11 [==============================] - 0s 6ms/step - loss: 0.0288 - accuracy: 0.9943 - val_loss: 0.0722 - val_accuracy: 0.9767\n",
            "Epoch 86/350\n",
            "11/11 [==============================] - 0s 6ms/step - loss: 0.0282 - accuracy: 0.9943 - val_loss: 0.0693 - val_accuracy: 0.9767\n",
            "Epoch 87/350\n",
            "11/11 [==============================] - 0s 6ms/step - loss: 0.0274 - accuracy: 0.9943 - val_loss: 0.0721 - val_accuracy: 0.9767\n",
            "Epoch 88/350\n",
            "11/11 [==============================] - 0s 5ms/step - loss: 0.0270 - accuracy: 0.9943 - val_loss: 0.0723 - val_accuracy: 0.9767\n",
            "Epoch 89/350\n",
            "11/11 [==============================] - 0s 5ms/step - loss: 0.0267 - accuracy: 0.9943 - val_loss: 0.0681 - val_accuracy: 0.9767\n",
            "Epoch 90/350\n",
            "11/11 [==============================] - 0s 5ms/step - loss: 0.0257 - accuracy: 0.9943 - val_loss: 0.0698 - val_accuracy: 0.9767\n",
            "Epoch 91/350\n",
            "11/11 [==============================] - 0s 5ms/step - loss: 0.0252 - accuracy: 0.9943 - val_loss: 0.0706 - val_accuracy: 0.9767\n",
            "Epoch 92/350\n",
            "11/11 [==============================] - 0s 5ms/step - loss: 0.0247 - accuracy: 0.9943 - val_loss: 0.0682 - val_accuracy: 0.9767\n",
            "Epoch 93/350\n",
            "11/11 [==============================] - 0s 5ms/step - loss: 0.0243 - accuracy: 0.9943 - val_loss: 0.0652 - val_accuracy: 0.9767\n",
            "Epoch 94/350\n",
            "11/11 [==============================] - 0s 5ms/step - loss: 0.0239 - accuracy: 0.9943 - val_loss: 0.0666 - val_accuracy: 0.9767\n",
            "Epoch 95/350\n",
            "11/11 [==============================] - 0s 4ms/step - loss: 0.0236 - accuracy: 0.9943 - val_loss: 0.0678 - val_accuracy: 0.9767\n",
            "Epoch 96/350\n",
            "11/11 [==============================] - 0s 5ms/step - loss: 0.0230 - accuracy: 0.9943 - val_loss: 0.0665 - val_accuracy: 0.9767\n",
            "Epoch 97/350\n",
            "11/11 [==============================] - 0s 5ms/step - loss: 0.0227 - accuracy: 0.9943 - val_loss: 0.0669 - val_accuracy: 0.9767\n",
            "Epoch 98/350\n",
            "11/11 [==============================] - 0s 5ms/step - loss: 0.0222 - accuracy: 0.9943 - val_loss: 0.0673 - val_accuracy: 0.9767\n",
            "Epoch 99/350\n",
            "11/11 [==============================] - 0s 4ms/step - loss: 0.0219 - accuracy: 0.9943 - val_loss: 0.0664 - val_accuracy: 0.9767\n",
            "Epoch 100/350\n",
            "11/11 [==============================] - 0s 5ms/step - loss: 0.0216 - accuracy: 0.9943 - val_loss: 0.0673 - val_accuracy: 0.9767\n",
            "Epoch 101/350\n",
            "11/11 [==============================] - 0s 5ms/step - loss: 0.0213 - accuracy: 0.9943 - val_loss: 0.0649 - val_accuracy: 0.9767\n",
            "Epoch 102/350\n",
            "11/11 [==============================] - 0s 5ms/step - loss: 0.0210 - accuracy: 0.9943 - val_loss: 0.0644 - val_accuracy: 0.9767\n",
            "Epoch 103/350\n",
            "11/11 [==============================] - 0s 6ms/step - loss: 0.0206 - accuracy: 0.9943 - val_loss: 0.0641 - val_accuracy: 0.9767\n",
            "Epoch 104/350\n",
            "11/11 [==============================] - 0s 4ms/step - loss: 0.0204 - accuracy: 0.9943 - val_loss: 0.0651 - val_accuracy: 0.9767\n",
            "Epoch 105/350\n",
            "11/11 [==============================] - 0s 5ms/step - loss: 0.0203 - accuracy: 0.9943 - val_loss: 0.0651 - val_accuracy: 0.9767\n",
            "Epoch 106/350\n",
            "11/11 [==============================] - 0s 6ms/step - loss: 0.0199 - accuracy: 0.9943 - val_loss: 0.0669 - val_accuracy: 0.9767\n",
            "Epoch 107/350\n",
            "11/11 [==============================] - 0s 6ms/step - loss: 0.0198 - accuracy: 0.9943 - val_loss: 0.0634 - val_accuracy: 0.9767\n",
            "Epoch 108/350\n",
            "11/11 [==============================] - 0s 4ms/step - loss: 0.0194 - accuracy: 0.9943 - val_loss: 0.0657 - val_accuracy: 0.9767\n",
            "Epoch 109/350\n",
            "11/11 [==============================] - 0s 5ms/step - loss: 0.0192 - accuracy: 0.9943 - val_loss: 0.0661 - val_accuracy: 0.9767\n",
            "Epoch 110/350\n",
            "11/11 [==============================] - 0s 4ms/step - loss: 0.0188 - accuracy: 0.9943 - val_loss: 0.0644 - val_accuracy: 0.9767\n",
            "Epoch 111/350\n",
            "11/11 [==============================] - 0s 5ms/step - loss: 0.0187 - accuracy: 0.9943 - val_loss: 0.0633 - val_accuracy: 0.9767\n",
            "Epoch 112/350\n",
            "11/11 [==============================] - 0s 6ms/step - loss: 0.0186 - accuracy: 0.9943 - val_loss: 0.0636 - val_accuracy: 0.9767\n",
            "Epoch 113/350\n",
            "11/11 [==============================] - 0s 5ms/step - loss: 0.0182 - accuracy: 0.9943 - val_loss: 0.0651 - val_accuracy: 0.9767\n",
            "Epoch 114/350\n",
            "11/11 [==============================] - 0s 5ms/step - loss: 0.0181 - accuracy: 0.9943 - val_loss: 0.0641 - val_accuracy: 0.9767\n",
            "Epoch 115/350\n",
            "11/11 [==============================] - 0s 5ms/step - loss: 0.0181 - accuracy: 0.9943 - val_loss: 0.0642 - val_accuracy: 0.9767\n",
            "Epoch 116/350\n",
            "11/11 [==============================] - 0s 4ms/step - loss: 0.0177 - accuracy: 0.9943 - val_loss: 0.0640 - val_accuracy: 0.9767\n",
            "Epoch 117/350\n",
            "11/11 [==============================] - 0s 5ms/step - loss: 0.0177 - accuracy: 0.9943 - val_loss: 0.0643 - val_accuracy: 0.9767\n",
            "Epoch 118/350\n",
            "11/11 [==============================] - 0s 4ms/step - loss: 0.0174 - accuracy: 0.9943 - val_loss: 0.0625 - val_accuracy: 0.9767\n",
            "Epoch 119/350\n",
            "11/11 [==============================] - 0s 5ms/step - loss: 0.0172 - accuracy: 0.9943 - val_loss: 0.0636 - val_accuracy: 0.9767\n",
            "Epoch 120/350\n",
            "11/11 [==============================] - 0s 4ms/step - loss: 0.0171 - accuracy: 0.9943 - val_loss: 0.0625 - val_accuracy: 0.9767\n",
            "Epoch 121/350\n",
            "11/11 [==============================] - 0s 5ms/step - loss: 0.0171 - accuracy: 0.9943 - val_loss: 0.0639 - val_accuracy: 0.9767\n",
            "Epoch 122/350\n",
            "11/11 [==============================] - 0s 4ms/step - loss: 0.0168 - accuracy: 0.9943 - val_loss: 0.0639 - val_accuracy: 0.9767\n",
            "Epoch 123/350\n",
            "11/11 [==============================] - 0s 5ms/step - loss: 0.0167 - accuracy: 0.9943 - val_loss: 0.0650 - val_accuracy: 0.9767\n",
            "Epoch 124/350\n",
            "11/11 [==============================] - 0s 4ms/step - loss: 0.0167 - accuracy: 0.9943 - val_loss: 0.0629 - val_accuracy: 0.9767\n",
            "Epoch 125/350\n",
            "11/11 [==============================] - 0s 5ms/step - loss: 0.0165 - accuracy: 0.9943 - val_loss: 0.0636 - val_accuracy: 0.9767\n",
            "Epoch 126/350\n",
            "11/11 [==============================] - 0s 4ms/step - loss: 0.0163 - accuracy: 0.9943 - val_loss: 0.0639 - val_accuracy: 0.9767\n",
            "Epoch 127/350\n",
            "11/11 [==============================] - 0s 5ms/step - loss: 0.0163 - accuracy: 0.9943 - val_loss: 0.0625 - val_accuracy: 0.9767\n",
            "Epoch 128/350\n",
            "11/11 [==============================] - 0s 6ms/step - loss: 0.0161 - accuracy: 0.9943 - val_loss: 0.0649 - val_accuracy: 0.9767\n",
            "Epoch 129/350\n",
            "11/11 [==============================] - 0s 5ms/step - loss: 0.0161 - accuracy: 0.9943 - val_loss: 0.0657 - val_accuracy: 0.9767\n",
            "Epoch 130/350\n",
            "11/11 [==============================] - 0s 5ms/step - loss: 0.0160 - accuracy: 0.9943 - val_loss: 0.0626 - val_accuracy: 0.9767\n",
            "Epoch 131/350\n",
            "11/11 [==============================] - 0s 4ms/step - loss: 0.0158 - accuracy: 0.9943 - val_loss: 0.0646 - val_accuracy: 0.9767\n",
            "Epoch 132/350\n",
            "11/11 [==============================] - 0s 6ms/step - loss: 0.0157 - accuracy: 0.9943 - val_loss: 0.0639 - val_accuracy: 0.9767\n",
            "Epoch 133/350\n",
            "11/11 [==============================] - 0s 5ms/step - loss: 0.0156 - accuracy: 0.9943 - val_loss: 0.0644 - val_accuracy: 0.9767\n",
            "Epoch 134/350\n",
            "11/11 [==============================] - 0s 6ms/step - loss: 0.0155 - accuracy: 0.9943 - val_loss: 0.0629 - val_accuracy: 0.9767\n",
            "Epoch 135/350\n",
            "11/11 [==============================] - 0s 5ms/step - loss: 0.0154 - accuracy: 0.9943 - val_loss: 0.0642 - val_accuracy: 0.9767\n",
            "Epoch 136/350\n",
            "11/11 [==============================] - 0s 5ms/step - loss: 0.0153 - accuracy: 0.9943 - val_loss: 0.0642 - val_accuracy: 0.9767\n",
            "Epoch 137/350\n",
            "11/11 [==============================] - 0s 5ms/step - loss: 0.0153 - accuracy: 0.9943 - val_loss: 0.0639 - val_accuracy: 0.9767\n",
            "Epoch 138/350\n",
            "11/11 [==============================] - 0s 4ms/step - loss: 0.0152 - accuracy: 0.9943 - val_loss: 0.0632 - val_accuracy: 0.9767\n",
            "Epoch 139/350\n",
            "11/11 [==============================] - 0s 5ms/step - loss: 0.0151 - accuracy: 0.9943 - val_loss: 0.0641 - val_accuracy: 0.9767\n",
            "Epoch 140/350\n",
            "11/11 [==============================] - 0s 5ms/step - loss: 0.0150 - accuracy: 0.9943 - val_loss: 0.0649 - val_accuracy: 0.9767\n",
            "Epoch 141/350\n",
            "11/11 [==============================] - 0s 5ms/step - loss: 0.0149 - accuracy: 0.9943 - val_loss: 0.0627 - val_accuracy: 0.9767\n",
            "Epoch 142/350\n",
            "11/11 [==============================] - 0s 4ms/step - loss: 0.0148 - accuracy: 0.9943 - val_loss: 0.0650 - val_accuracy: 0.9767\n",
            "Epoch 143/350\n",
            "11/11 [==============================] - 0s 5ms/step - loss: 0.0148 - accuracy: 0.9943 - val_loss: 0.0644 - val_accuracy: 0.9767\n",
            "Epoch 144/350\n",
            "11/11 [==============================] - 0s 4ms/step - loss: 0.0148 - accuracy: 0.9943 - val_loss: 0.0648 - val_accuracy: 0.9767\n",
            "Epoch 145/350\n",
            "11/11 [==============================] - 0s 5ms/step - loss: 0.0150 - accuracy: 0.9943 - val_loss: 0.0636 - val_accuracy: 0.9767\n",
            "Epoch 146/350\n",
            "11/11 [==============================] - 0s 5ms/step - loss: 0.0146 - accuracy: 0.9943 - val_loss: 0.0658 - val_accuracy: 0.9767\n",
            "Epoch 147/350\n",
            "11/11 [==============================] - 0s 6ms/step - loss: 0.0145 - accuracy: 0.9943 - val_loss: 0.0655 - val_accuracy: 0.9767\n",
            "Epoch 148/350\n",
            "11/11 [==============================] - 0s 5ms/step - loss: 0.0144 - accuracy: 0.9943 - val_loss: 0.0640 - val_accuracy: 0.9767\n",
            "Epoch 149/350\n",
            "11/11 [==============================] - 0s 5ms/step - loss: 0.0147 - accuracy: 0.9943 - val_loss: 0.0635 - val_accuracy: 0.9767\n",
            "Epoch 150/350\n",
            "11/11 [==============================] - 0s 5ms/step - loss: 0.0143 - accuracy: 0.9943 - val_loss: 0.0654 - val_accuracy: 0.9767\n",
            "Epoch 151/350\n",
            "11/11 [==============================] - 0s 5ms/step - loss: 0.0143 - accuracy: 0.9943 - val_loss: 0.0646 - val_accuracy: 0.9767\n",
            "Epoch 152/350\n",
            "11/11 [==============================] - 0s 6ms/step - loss: 0.0142 - accuracy: 0.9943 - val_loss: 0.0652 - val_accuracy: 0.9767\n",
            "Epoch 00152: early stopping\n"
          ],
          "name": "stdout"
        },
        {
          "output_type": "execute_result",
          "data": {
            "text/plain": [
              "<tensorflow.python.keras.callbacks.History at 0x7f7ea673aa50>"
            ]
          },
          "metadata": {
            "tags": []
          },
          "execution_count": 69
        }
      ]
    },
    {
      "cell_type": "code",
      "metadata": {
        "id": "hoKtVTBjUA-X"
      },
      "source": [
        "losses = pd.DataFrame(model.history.history)"
      ],
      "execution_count": null,
      "outputs": []
    },
    {
      "cell_type": "code",
      "metadata": {
        "colab": {
          "base_uri": "https://localhost:8080/",
          "height": 419
        },
        "id": "MpIkhftFUbiw",
        "outputId": "c14967db-5a70-4207-f54d-82469bf2386d"
      },
      "source": [
        "losses"
      ],
      "execution_count": null,
      "outputs": [
        {
          "output_type": "execute_result",
          "data": {
            "text/html": [
              "<div>\n",
              "<style scoped>\n",
              "    .dataframe tbody tr th:only-of-type {\n",
              "        vertical-align: middle;\n",
              "    }\n",
              "\n",
              "    .dataframe tbody tr th {\n",
              "        vertical-align: top;\n",
              "    }\n",
              "\n",
              "    .dataframe thead th {\n",
              "        text-align: right;\n",
              "    }\n",
              "</style>\n",
              "<table border=\"1\" class=\"dataframe\">\n",
              "  <thead>\n",
              "    <tr style=\"text-align: right;\">\n",
              "      <th></th>\n",
              "      <th>loss</th>\n",
              "      <th>accuracy</th>\n",
              "      <th>val_loss</th>\n",
              "      <th>val_accuracy</th>\n",
              "    </tr>\n",
              "  </thead>\n",
              "  <tbody>\n",
              "    <tr>\n",
              "      <th>0</th>\n",
              "      <td>0.657727</td>\n",
              "      <td>0.663793</td>\n",
              "      <td>0.626626</td>\n",
              "      <td>0.732558</td>\n",
              "    </tr>\n",
              "    <tr>\n",
              "      <th>1</th>\n",
              "      <td>0.597569</td>\n",
              "      <td>0.790230</td>\n",
              "      <td>0.570053</td>\n",
              "      <td>0.767442</td>\n",
              "    </tr>\n",
              "    <tr>\n",
              "      <th>2</th>\n",
              "      <td>0.546440</td>\n",
              "      <td>0.813218</td>\n",
              "      <td>0.525069</td>\n",
              "      <td>0.796512</td>\n",
              "    </tr>\n",
              "    <tr>\n",
              "      <th>3</th>\n",
              "      <td>0.504152</td>\n",
              "      <td>0.856322</td>\n",
              "      <td>0.482523</td>\n",
              "      <td>0.813953</td>\n",
              "    </tr>\n",
              "    <tr>\n",
              "      <th>4</th>\n",
              "      <td>0.462742</td>\n",
              "      <td>0.853448</td>\n",
              "      <td>0.443740</td>\n",
              "      <td>0.825581</td>\n",
              "    </tr>\n",
              "    <tr>\n",
              "      <th>...</th>\n",
              "      <td>...</td>\n",
              "      <td>...</td>\n",
              "      <td>...</td>\n",
              "      <td>...</td>\n",
              "    </tr>\n",
              "    <tr>\n",
              "      <th>147</th>\n",
              "      <td>0.014433</td>\n",
              "      <td>0.994253</td>\n",
              "      <td>0.064046</td>\n",
              "      <td>0.976744</td>\n",
              "    </tr>\n",
              "    <tr>\n",
              "      <th>148</th>\n",
              "      <td>0.014725</td>\n",
              "      <td>0.994253</td>\n",
              "      <td>0.063466</td>\n",
              "      <td>0.976744</td>\n",
              "    </tr>\n",
              "    <tr>\n",
              "      <th>149</th>\n",
              "      <td>0.014252</td>\n",
              "      <td>0.994253</td>\n",
              "      <td>0.065424</td>\n",
              "      <td>0.976744</td>\n",
              "    </tr>\n",
              "    <tr>\n",
              "      <th>150</th>\n",
              "      <td>0.014320</td>\n",
              "      <td>0.994253</td>\n",
              "      <td>0.064597</td>\n",
              "      <td>0.976744</td>\n",
              "    </tr>\n",
              "    <tr>\n",
              "      <th>151</th>\n",
              "      <td>0.014244</td>\n",
              "      <td>0.994253</td>\n",
              "      <td>0.065210</td>\n",
              "      <td>0.976744</td>\n",
              "    </tr>\n",
              "  </tbody>\n",
              "</table>\n",
              "<p>152 rows × 4 columns</p>\n",
              "</div>"
            ],
            "text/plain": [
              "         loss  accuracy  val_loss  val_accuracy\n",
              "0    0.657727  0.663793  0.626626      0.732558\n",
              "1    0.597569  0.790230  0.570053      0.767442\n",
              "2    0.546440  0.813218  0.525069      0.796512\n",
              "3    0.504152  0.856322  0.482523      0.813953\n",
              "4    0.462742  0.853448  0.443740      0.825581\n",
              "..        ...       ...       ...           ...\n",
              "147  0.014433  0.994253  0.064046      0.976744\n",
              "148  0.014725  0.994253  0.063466      0.976744\n",
              "149  0.014252  0.994253  0.065424      0.976744\n",
              "150  0.014320  0.994253  0.064597      0.976744\n",
              "151  0.014244  0.994253  0.065210      0.976744\n",
              "\n",
              "[152 rows x 4 columns]"
            ]
          },
          "metadata": {
            "tags": []
          },
          "execution_count": 71
        }
      ]
    },
    {
      "cell_type": "code",
      "metadata": {
        "colab": {
          "base_uri": "https://localhost:8080/",
          "height": 282
        },
        "id": "CtCHQ4NLUcLS",
        "outputId": "c2b064d3-ceb8-43c2-efb1-e6c8c9a41940"
      },
      "source": [
        "losses[['val_loss', 'loss']].plot()"
      ],
      "execution_count": null,
      "outputs": [
        {
          "output_type": "execute_result",
          "data": {
            "text/plain": [
              "<matplotlib.axes._subplots.AxesSubplot at 0x7f7eb8049f10>"
            ]
          },
          "metadata": {
            "tags": []
          },
          "execution_count": 72
        },
        {
          "output_type": "display_data",
          "data": {
            "image/png": "[encoded data removed]",
            "text/plain": [
              "<Figure size 432x288 with 1 Axes>"
            ]
          },
          "metadata": {
            "tags": [],
            "needs_background": "light"
          }
        }
      ]
    },
    {
      "cell_type": "code",
      "metadata": {
        "colab": {
          "base_uri": "https://localhost:8080/",
          "height": 282
        },
        "id": "7vhTqf1YUhLF",
        "outputId": "f4494dac-9ba2-44b9-e803-da95499df8c0"
      },
      "source": [
        "losses[['val_accuracy', 'accuracy']].plot()"
      ],
      "execution_count": null,
      "outputs": [
        {
          "output_type": "execute_result",
          "data": {
            "text/plain": [
              "<matplotlib.axes._subplots.AxesSubplot at 0x7f7f458c8910>"
            ]
          },
          "metadata": {
            "tags": []
          },
          "execution_count": 73
        },
        {
          "output_type": "display_data",
          "data": {
            "image/png": "[encoded data removed]",
            "text/plain": [
              "<Figure size 432x288 with 1 Axes>"
            ]
          },
          "metadata": {
            "tags": [],
            "needs_background": "light"
          }
        }
      ]
    },
    {
      "cell_type": "code",
      "metadata": {
        "colab": {
          "base_uri": "https://localhost:8080/"
        },
        "id": "_tTGO78PUlBj",
        "outputId": "36ab7650-7fca-4fbb-cf5c-1f9479a95cb4"
      },
      "source": [
        "predictions = model.predict_classes(X_test)"
      ],
      "execution_count": null,
      "outputs": [
        {
          "output_type": "stream",
          "text": [
            "/usr/local/lib/python3.7/dist-packages/tensorflow/python/keras/engine/sequential.py:455: UserWarning: `model.predict_classes()` is deprecated and will be removed after 2021-01-01. Please use instead:* `np.argmax(model.predict(x), axis=-1)`,   if your model does multi-class classification   (e.g. if it uses a `softmax` last-layer activation).* `(model.predict(x) > 0.5).astype(\"int32\")`,   if your model does binary classification   (e.g. if it uses a `sigmoid` last-layer activation).\n",
            "  warnings.warn('`model.predict_classes()` is deprecated and '\n"
          ],
          "name": "stderr"
        }
      ]
    },
    {
      "cell_type": "code",
      "metadata": {
        "colab": {
          "base_uri": "https://localhost:8080/"
        },
        "id": "jXHNrTVwUrN-",
        "outputId": "14e1195f-9235-4f25-8e7b-16854f98ba68"
      },
      "source": [
        "predictions"
      ],
      "execution_count": null,
      "outputs": [
        {
          "output_type": "execute_result",
          "data": {
            "text/plain": [
              "array([[0],\n",
              "       [1],\n",
              "       [1],\n",
              "       [1],\n",
              "       [1],\n",
              "       [1],\n",
              "       [1],\n",
              "       [0],\n",
              "       [1],\n",
              "       [0],\n",
              "       [0],\n",
              "       [1],\n",
              "       [0],\n",
              "       [0],\n",
              "       [1],\n",
              "       [1],\n",
              "       [0],\n",
              "       [1],\n",
              "       [0],\n",
              "       [1],\n",
              "       [1],\n",
              "       [1],\n",
              "       [1],\n",
              "       [1],\n",
              "       [0],\n",
              "       [0],\n",
              "       [1],\n",
              "       [1],\n",
              "       [0],\n",
              "       [1],\n",
              "       [1],\n",
              "       [1],\n",
              "       [0],\n",
              "       [1],\n",
              "       [0],\n",
              "       [1],\n",
              "       [1],\n",
              "       [0],\n",
              "       [0],\n",
              "       [0],\n",
              "       [1],\n",
              "       [0],\n",
              "       [1],\n",
              "       [1],\n",
              "       [0],\n",
              "       [1],\n",
              "       [0],\n",
              "       [1],\n",
              "       [1],\n",
              "       [1],\n",
              "       [0],\n",
              "       [0],\n",
              "       [1],\n",
              "       [1],\n",
              "       [0],\n",
              "       [1],\n",
              "       [1],\n",
              "       [1],\n",
              "       [0],\n",
              "       [1],\n",
              "       [0],\n",
              "       [1],\n",
              "       [1],\n",
              "       [1],\n",
              "       [1],\n",
              "       [1],\n",
              "       [0],\n",
              "       [1],\n",
              "       [1],\n",
              "       [1],\n",
              "       [1],\n",
              "       [1],\n",
              "       [0],\n",
              "       [1],\n",
              "       [1],\n",
              "       [1],\n",
              "       [0],\n",
              "       [0],\n",
              "       [1],\n",
              "       [1],\n",
              "       [1],\n",
              "       [1],\n",
              "       [1],\n",
              "       [0],\n",
              "       [1],\n",
              "       [1],\n",
              "       [1],\n",
              "       [1],\n",
              "       [0],\n",
              "       [1],\n",
              "       [0],\n",
              "       [1],\n",
              "       [1],\n",
              "       [1],\n",
              "       [0],\n",
              "       [1],\n",
              "       [1],\n",
              "       [1],\n",
              "       [1],\n",
              "       [1],\n",
              "       [1],\n",
              "       [1],\n",
              "       [0],\n",
              "       [0],\n",
              "       [1],\n",
              "       [1],\n",
              "       [0],\n",
              "       [0],\n",
              "       [0],\n",
              "       [0],\n",
              "       [0],\n",
              "       [1],\n",
              "       [0],\n",
              "       [0],\n",
              "       [0],\n",
              "       [1],\n",
              "       [0],\n",
              "       [0],\n",
              "       [1],\n",
              "       [0],\n",
              "       [1],\n",
              "       [1],\n",
              "       [1],\n",
              "       [1],\n",
              "       [1],\n",
              "       [1],\n",
              "       [1],\n",
              "       [0],\n",
              "       [1],\n",
              "       [0],\n",
              "       [1],\n",
              "       [1],\n",
              "       [1],\n",
              "       [1],\n",
              "       [0],\n",
              "       [1],\n",
              "       [1],\n",
              "       [1],\n",
              "       [0],\n",
              "       [1],\n",
              "       [0],\n",
              "       [0],\n",
              "       [1],\n",
              "       [1],\n",
              "       [1],\n",
              "       [1],\n",
              "       [1],\n",
              "       [0],\n",
              "       [1],\n",
              "       [1],\n",
              "       [0],\n",
              "       [1],\n",
              "       [1],\n",
              "       [0],\n",
              "       [1],\n",
              "       [0],\n",
              "       [0],\n",
              "       [1],\n",
              "       [0],\n",
              "       [0],\n",
              "       [1],\n",
              "       [0],\n",
              "       [1],\n",
              "       [0],\n",
              "       [1],\n",
              "       [1],\n",
              "       [1],\n",
              "       [0],\n",
              "       [1],\n",
              "       [1],\n",
              "       [0],\n",
              "       [0]], dtype=int32)"
            ]
          },
          "metadata": {
            "tags": []
          },
          "execution_count": 77
        }
      ]
    },
    {
      "cell_type": "code",
      "metadata": {
        "colab": {
          "base_uri": "https://localhost:8080/"
        },
        "id": "Loj8Okm6UsIC",
        "outputId": "60b2d734-ba30-4c93-83d4-8bbbdd08f38a"
      },
      "source": [
        "y_test"
      ],
      "execution_count": null,
      "outputs": [
        {
          "output_type": "execute_result",
          "data": {
            "text/plain": [
              "array([0, 1, 1, 1, 1, 1, 1, 0, 1, 0, 0, 1, 0, 0, 1, 1, 0, 1, 0, 1, 1, 1,\n",
              "       1, 1, 0, 0, 1, 1, 0, 1, 1, 1, 0, 1, 0, 1, 1, 0, 0, 0, 1, 0, 1, 1,\n",
              "       0, 1, 0, 1, 1, 1, 0, 0, 1, 1, 0, 1, 1, 1, 1, 1, 0, 1, 1, 1, 1, 1,\n",
              "       0, 1, 1, 1, 1, 1, 1, 1, 1, 1, 0, 0, 1, 1, 1, 1, 1, 0, 1, 1, 1, 1,\n",
              "       0, 1, 0, 1, 1, 1, 0, 1, 1, 1, 1, 1, 0, 1, 0, 0, 1, 1, 0, 0, 0, 0,\n",
              "       0, 1, 0, 0, 0, 1, 0, 0, 1, 0, 1, 1, 1, 1, 1, 1, 1, 0, 1, 0, 1, 1,\n",
              "       1, 1, 0, 1, 1, 1, 0, 1, 0, 0, 1, 1, 1, 1, 1, 0, 1, 1, 0, 1, 1, 0,\n",
              "       1, 0, 0, 1, 0, 0, 1, 0, 1, 0, 1, 1, 1, 0, 1, 1, 0, 1], dtype=uint8)"
            ]
          },
          "metadata": {
            "tags": []
          },
          "execution_count": 78
        }
      ]
    },
    {
      "cell_type": "code",
      "metadata": {
        "id": "9ga_39sIUwnn"
      },
      "source": [
        "from sklearn.metrics import classification_report,confusion_matrix"
      ],
      "execution_count": null,
      "outputs": []
    },
    {
      "cell_type": "code",
      "metadata": {
        "colab": {
          "base_uri": "https://localhost:8080/"
        },
        "id": "gKG8pDPOU6sd",
        "outputId": "95eb3f36-b10d-48c7-f766-ae8d270beadb"
      },
      "source": [
        "print(classification_report(y_test, predictions))"
      ],
      "execution_count": null,
      "outputs": [
        {
          "output_type": "stream",
          "text": [
            "              precision    recall  f1-score   support\n",
            "\n",
            "           0       0.95      0.98      0.97        61\n",
            "           1       0.99      0.97      0.98       111\n",
            "\n",
            "    accuracy                           0.98       172\n",
            "   macro avg       0.97      0.98      0.97       172\n",
            "weighted avg       0.98      0.98      0.98       172\n",
            "\n"
          ],
          "name": "stdout"
        }
      ]
    },
    {
      "cell_type": "code",
      "metadata": {
        "colab": {
          "base_uri": "https://localhost:8080/"
        },
        "id": "hibkmQJGVAyh",
        "outputId": "89585b50-d155-4165-d225-812ea738c020"
      },
      "source": [
        "print(confusion_matrix(y_test, predictions))"
      ],
      "execution_count": null,
      "outputs": [
        {
          "output_type": "stream",
          "text": [
            "[[ 60   1]\n",
            " [  3 108]]\n"
          ],
          "name": "stdout"
        }
      ]
    },
    {
      "cell_type": "code",
      "metadata": {
        "id": "0m3nTm2mVFen"
      },
      "source": [
        "model.save('Diabetes_prediction_using_ann.h5')"
      ],
      "execution_count": null,
      "outputs": []
    },
    {
      "cell_type": "code",
      "metadata": {
        "id": "DvFkL3YuVU-i"
      },
      "source": [],
      "execution_count": null,
      "outputs": []
    },
    {
      "cell_type": "code",
      "metadata": {
        "id": "FE6F-XPaVulm"
      },
      "source": [],
      "execution_count": null,
      "outputs": []
    }
  ]
}